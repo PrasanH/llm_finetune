{
 "cells": [
  {
   "cell_type": "markdown",
   "id": "48a4e75f",
   "metadata": {},
   "source": [
    "Prasanna Hegde  \n",
    "422985"
   ]
  },
  {
   "cell_type": "markdown",
   "id": "a1eae0d2-29ac-41a7-a53e-8df8e297e312",
   "metadata": {},
   "source": [
    "Here, we combine [dataset_B]  and the [dataset_A : Train]"
   ]
  },
  {
   "cell_type": "code",
   "execution_count": 6,
   "id": "23c62858-778e-49bd-8a96-90474c18454a",
   "metadata": {},
   "outputs": [],
   "source": [
    "import pandas as pd\n",
    "\n",
    "df_B = pd.read_csv('df_B.csv', encoding='utf-8')"
   ]
  },
  {
   "cell_type": "code",
   "execution_count": 7,
   "id": "b819f48b-e5bf-4e6e-b34e-7b4071e4b3cd",
   "metadata": {},
   "outputs": [
    {
     "data": {
      "text/html": [
       "<div>\n",
       "<style scoped>\n",
       "    .dataframe tbody tr th:only-of-type {\n",
       "        vertical-align: middle;\n",
       "    }\n",
       "\n",
       "    .dataframe tbody tr th {\n",
       "        vertical-align: top;\n",
       "    }\n",
       "\n",
       "    .dataframe thead th {\n",
       "        text-align: right;\n",
       "    }\n",
       "</style>\n",
       "<table border=\"1\" class=\"dataframe\">\n",
       "  <thead>\n",
       "    <tr style=\"text-align: right;\">\n",
       "      <th></th>\n",
       "      <th>German</th>\n",
       "      <th>French</th>\n",
       "    </tr>\n",
       "  </thead>\n",
       "  <tbody>\n",
       "    <tr>\n",
       "      <th>0</th>\n",
       "      <td>Ich bin froh, dass ich einen guten Arbeitsplat...</td>\n",
       "      <td>Je suis heureux d'avoir trouvé un bon emploi a...</td>\n",
       "    </tr>\n",
       "    <tr>\n",
       "      <th>1</th>\n",
       "      <td>Der Lehrer erklärt die Materie sehr gut und ma...</td>\n",
       "      <td>L'enseignant explique la matière très bien et ...</td>\n",
       "    </tr>\n",
       "    <tr>\n",
       "      <th>2</th>\n",
       "      <td>Meine Freunde und ich unterstützen uns gegense...</td>\n",
       "      <td>Mes amis et moi nous soutenons mutuellement da...</td>\n",
       "    </tr>\n",
       "    <tr>\n",
       "      <th>3</th>\n",
       "      <td>Wenn ich auf Reisen bin, probiere ich immer di...</td>\n",
       "      <td>Quand je suis en voyage, j'essaie toujours la ...</td>\n",
       "    </tr>\n",
       "    <tr>\n",
       "      <th>4</th>\n",
       "      <td>Am Ende zählt nicht nur der Erfolg, sondern au...</td>\n",
       "      <td>À la fin, ce ne sont pas seulement les succès ...</td>\n",
       "    </tr>\n",
       "  </tbody>\n",
       "</table>\n",
       "</div>"
      ],
      "text/plain": [
       "                                              German  \\\n",
       "0  Ich bin froh, dass ich einen guten Arbeitsplat...   \n",
       "1  Der Lehrer erklärt die Materie sehr gut und ma...   \n",
       "2  Meine Freunde und ich unterstützen uns gegense...   \n",
       "3  Wenn ich auf Reisen bin, probiere ich immer di...   \n",
       "4  Am Ende zählt nicht nur der Erfolg, sondern au...   \n",
       "\n",
       "                                              French  \n",
       "0  Je suis heureux d'avoir trouvé un bon emploi a...  \n",
       "1  L'enseignant explique la matière très bien et ...  \n",
       "2  Mes amis et moi nous soutenons mutuellement da...  \n",
       "3  Quand je suis en voyage, j'essaie toujours la ...  \n",
       "4  À la fin, ce ne sont pas seulement les succès ...  "
      ]
     },
     "execution_count": 7,
     "metadata": {},
     "output_type": "execute_result"
    }
   ],
   "source": [
    "df_B.head()"
   ]
  },
  {
   "cell_type": "code",
   "execution_count": 9,
   "id": "0b408f89-cf98-4b9c-8265-abeaf8dabfdd",
   "metadata": {},
   "outputs": [],
   "source": [
    "df_A = pd.read_csv(\"selected_pairs1.csv\", encoding='utf-8')"
   ]
  },
  {
   "cell_type": "code",
   "execution_count": 12,
   "id": "94d8070b-0cb8-4db8-bf44-f0b609295d8d",
   "metadata": {},
   "outputs": [
    {
     "name": "stdout",
     "output_type": "stream",
     "text": [
      "items in training and test test are: 800 and  200\n"
     ]
    }
   ],
   "source": [
    "from sklearn.model_selection import train_test_split\n",
    "\n",
    "train_A, test_A = train_test_split(df_A, test_size=0.2, random_state=42)\n",
    "print(f\"items in training and test test are: {len(train_A)} and  {len(test_A)}\")"
   ]
  },
  {
   "cell_type": "code",
   "execution_count": null,
   "id": "c136d2ec-83f7-4480-8acb-ffea0ca8f62b",
   "metadata": {},
   "outputs": [],
   "source": [
    "df_C = pd.concat([train_A, df_B], ignore_index=True)  # concat dataset B and train_A"
   ]
  },
  {
   "cell_type": "code",
   "execution_count": 18,
   "id": "8ddf6a62-80e7-4d09-a082-b38fd804404c",
   "metadata": {},
   "outputs": [
    {
     "data": {
      "text/plain": [
       "(2800, 2)"
      ]
     },
     "execution_count": 18,
     "metadata": {},
     "output_type": "execute_result"
    }
   ],
   "source": [
    "df_C.shape\n"
   ]
  },
  {
   "cell_type": "code",
   "execution_count": 19,
   "id": "48048e51-3931-4520-85f8-198a89801a45",
   "metadata": {},
   "outputs": [],
   "source": [
    "df_C = df_C.sample(frac=1, random_state=42).reset_index(drop=True) #frac means fraction: 1 implies complete dataset is shuffled"
   ]
  },
  {
   "cell_type": "code",
   "execution_count": 20,
   "id": "a52ca48f-b6c0-4c02-83b8-e270aed10fa2",
   "metadata": {},
   "outputs": [
    {
     "data": {
      "text/html": [
       "<div>\n",
       "<style scoped>\n",
       "    .dataframe tbody tr th:only-of-type {\n",
       "        vertical-align: middle;\n",
       "    }\n",
       "\n",
       "    .dataframe tbody tr th {\n",
       "        vertical-align: top;\n",
       "    }\n",
       "\n",
       "    .dataframe thead th {\n",
       "        text-align: right;\n",
       "    }\n",
       "</style>\n",
       "<table border=\"1\" class=\"dataframe\">\n",
       "  <thead>\n",
       "    <tr style=\"text-align: right;\">\n",
       "      <th></th>\n",
       "      <th>German</th>\n",
       "      <th>French</th>\n",
       "    </tr>\n",
       "  </thead>\n",
       "  <tbody>\n",
       "    <tr>\n",
       "      <th>0</th>\n",
       "      <td>Meine Freundin arbeitet im Büro und ich besuch...</td>\n",
       "      <td>Ma petite amie travaille au bureau et je la vi...</td>\n",
       "    </tr>\n",
       "    <tr>\n",
       "      <th>1</th>\n",
       "      <td>Herr Direktor wunscht Ihnen alles Gute und sch...</td>\n",
       "      <td>Le directeur vous souhaite une santé de fer et...</td>\n",
       "    </tr>\n",
       "    <tr>\n",
       "      <th>2</th>\n",
       "      <td>Das Internet bietet viele Möglichkeiten, um si...</td>\n",
       "      <td>Internet offre de nombreuses possibilités pour...</td>\n",
       "    </tr>\n",
       "    <tr>\n",
       "      <th>3</th>\n",
       "      <td>Mein Chef ist sehr anspruchsvoll, aber ich res...</td>\n",
       "      <td>Mon patron est très exigeant, mais je respecte...</td>\n",
       "    </tr>\n",
       "    <tr>\n",
       "      <th>4</th>\n",
       "      <td>Das Lesen von Büchern über verschiedene Kultur...</td>\n",
       "      <td>La lecture de livres sur différentes cultures ...</td>\n",
       "    </tr>\n",
       "  </tbody>\n",
       "</table>\n",
       "</div>"
      ],
      "text/plain": [
       "                                              German  \\\n",
       "0  Meine Freundin arbeitet im Büro und ich besuch...   \n",
       "1  Herr Direktor wunscht Ihnen alles Gute und sch...   \n",
       "2  Das Internet bietet viele Möglichkeiten, um si...   \n",
       "3  Mein Chef ist sehr anspruchsvoll, aber ich res...   \n",
       "4  Das Lesen von Büchern über verschiedene Kultur...   \n",
       "\n",
       "                                              French  \n",
       "0  Ma petite amie travaille au bureau et je la vi...  \n",
       "1  Le directeur vous souhaite une santé de fer et...  \n",
       "2  Internet offre de nombreuses possibilités pour...  \n",
       "3  Mon patron est très exigeant, mais je respecte...  \n",
       "4  La lecture de livres sur différentes cultures ...  "
      ]
     },
     "execution_count": 20,
     "metadata": {},
     "output_type": "execute_result"
    }
   ],
   "source": [
    "df_C.head()"
   ]
  },
  {
   "cell_type": "code",
   "execution_count": 21,
   "id": "75204295-6124-4fa5-aad8-8a9e4610c8b2",
   "metadata": {},
   "outputs": [],
   "source": [
    "df_C.to_csv('df_C.csv', encoding='utf-8', index=False)"
   ]
  },
  {
   "cell_type": "code",
   "execution_count": null,
   "id": "8ea7fe18-da99-41fd-b883-701e0a84a425",
   "metadata": {},
   "outputs": [],
   "source": []
  }
 ],
 "metadata": {
  "kernelspec": {
   "display_name": "Python 3",
   "language": "python",
   "name": "python3"
  },
  "language_info": {
   "codemirror_mode": {
    "name": "ipython",
    "version": 3
   },
   "file_extension": ".py",
   "mimetype": "text/x-python",
   "name": "python",
   "nbconvert_exporter": "python",
   "pygments_lexer": "ipython3",
   "version": "3.10.10"
  }
 },
 "nbformat": 4,
 "nbformat_minor": 5
}
