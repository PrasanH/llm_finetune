{
 "cells": [
  {
   "cell_type": "markdown",
   "metadata": {},
   "source": [
    "### Generating Synthetic Translation data of German-French sentences for LLM-fine tuning\n",
    "\n",
    "We use the model Llama 3.3 70B Instruct Turbo provided free of cost (at the time of this work) by Together AI.\n",
    "https://www.together.ai/models/llama-3-3-70b-free\n",
    "\n",
    "This model is chosen as it a multilingual large generative model that supports both German and French.\n",
    "\n",
    "However, there are limits for the number of requests that can be sent per minute. \n"
   ]
  },
  {
   "cell_type": "code",
   "execution_count": 11,
   "metadata": {},
   "outputs": [],
   "source": [
    "import os\n",
    "from together import Together\n",
    "from dotenv import load_dotenv"
   ]
  },
  {
   "cell_type": "code",
   "execution_count": 12,
   "metadata": {},
   "outputs": [],
   "source": [
    "load_dotenv()\n",
    "together_ai_key = os.getenv('together_ai')"
   ]
  },
  {
   "cell_type": "code",
   "execution_count": 14,
   "metadata": {},
   "outputs": [
    {
     "name": "stdout",
     "output_type": "stream",
     "text": [
      "I'm an artificial intelligence model known as Llama. Llama stands for \"Large Language Model Meta AI.\"\n"
     ]
    }
   ],
   "source": [
    "\n",
    "client = Together(api_key=together_ai_key)\n",
    "\n",
    "model=\"meta-llama/Llama-3.3-70B-Instruct-Turbo-Free\"\n",
    "prompt = \"Who are you\"\n",
    "\n",
    "response = client.chat.completions.create(\n",
    "    model=model,\n",
    "    messages=[{\"role\": \"user\", \"content\": prompt}],\n",
    ")\n",
    "print(response.choices[0].message.content)"
   ]
  },
  {
   "cell_type": "code",
   "execution_count": 20,
   "metadata": {},
   "outputs": [
    {
     "name": "stdout",
     "output_type": "stream",
     "text": [
      "Die Stadt Paris ist bekannt für ihre wunderschönen Sehenswürdigkeiten: , La ville de Paris est connue pour ses merveilleux sites touristiques.\n"
     ]
    }
   ],
   "source": [
    "prompt = f\"\"\"Generate a sentence in German and then give its French Translation.\n",
    "Follow this format: German_sentence: , French_sentence:\"\"\"\n",
    "\n",
    "response = client.chat.completions.create(\n",
    "    model=model,\n",
    "    messages=[{\"role\": \"user\", \"content\": prompt}],\n",
    ")\n",
    "print(response.choices[0].message.content)"
   ]
  },
  {
   "cell_type": "code",
   "execution_count": 32,
   "metadata": {},
   "outputs": [
    {
     "name": "stdout",
     "output_type": "stream",
     "text": [
      "1: German: Die Katze ist sehr freundlich, French: Le chat est très gentil \n",
      "2: German: Ich gehe jeden Tag ins Fitnessstudio, French: Je vais à la salle de sport tous les jours \n",
      "3: German: Die Blumen sind sehr schön, French: Les fleurs sont très belles \n",
      "4: German: Ich liebe es, am Meer zu entspannen, French: J'adore me détendre au bord de la mer \n",
      "5: German: Mein Bruder ist sehr intelligent, French: Mon frère est très intelligent \n",
      "6: German: Die Stadt ist sehr groß und laut, French: La ville est très grande et bruyante \n",
      "7: German: Ich esse gerne Pizza, French: J'adore manger de la pizza \n",
      "8: German: Die Berge sind sehr hoch, French: Les montagnes sont très hautes \n",
      "9: German: Ich bin sehr müde heute, French: Je suis très fatigué aujourd'hui \n",
      "10: German: Die Musik ist sehr schön, French: La musique est très belle \n",
      "11: German: Ich gehe gerne ins Kino, French: J'adore aller au cinéma \n",
      "12: German: Die Sonne scheint sehr hell, French: Le soleil brille très fort \n",
      "13: German: Ich liebe es, mit Freunden zu sprechen, French: J'adore discuter avec des amis \n",
      "14: German: Die Bibliothek ist sehr groß, French: La bibliothèque est très grande \n",
      "15: German: Ich bin sehr glücklich heute, French: Je suis très heureux aujourd'hui\n"
     ]
    }
   ],
   "source": [
    "prompt = f\"\"\"Generate 15 sentences in German and then give its French Translation. The sentences can be long or short.\n",
    "Follow this format and keep the prefixes German: and French:. Directly give the examples in this format.\n",
    "num_1: German_sentence: , French_sentence:  \n",
    "num_2: German_sentence: , French_sentence: \n",
    "and so on until num_20\"\"\"\n",
    "\n",
    "response = client.chat.completions.create(\n",
    "    model=model,\n",
    "    messages=[{\"role\": \"user\", \"content\": prompt}],\n",
    ")\n",
    "print(response.choices[0].message.content)"
   ]
  },
  {
   "cell_type": "markdown",
   "metadata": {},
   "source": [
    "We need atleast 2000 examples. Also, the free version limits 6 requests per minute (RPM). we need to make sure that we do not exceed the RPM.\n",
    "If we generate 20 examples per request, we need to send approx. 2000/(20) = 100 requests in total.\n",
    "This would take atleast (100/6): 16-17 min approx.\n",
    "\n",
    "\n",
    "Sometimes, the LLM repeats the same sentence. Hence, to be on the safer side, we will generate 5000 sentences. \n",
    "i.e 250 requests.\n",
    "\n",
    "But, first we will generate the translations in batches. We can provide a theme and generate sentences around it, so that we have variety in our sentences. "
   ]
  },
  {
   "cell_type": "code",
   "execution_count": null,
   "metadata": {},
   "outputs": [],
   "source": [
    "prompt_15 = f\"\"\"Generate 20 sentences in German and then give its French Translation. The sentences can be long or short.\n",
    "Follow this format and keep the prefixes German: and French:. Directly give the examples in this format.\n",
    "num_1: German_sentence: , French_sentence:  \n",
    "num_2: German_sentence: , French_sentence: \n",
    "and so on until num_20\"\"\""
   ]
  },
  {
   "cell_type": "code",
   "execution_count": 40,
   "metadata": {},
   "outputs": [
    {
     "name": "stderr",
     "output_type": "stream",
     "text": [
      "100%|██████████| 100/100 [25:39<00:00, 15.40s/it]"
     ]
    },
    {
     "name": "stdout",
     "output_type": "stream",
     "text": [
      "Total time taken: 1539.76 seconds\n"
     ]
    },
    {
     "name": "stderr",
     "output_type": "stream",
     "text": [
      "\n"
     ]
    }
   ],
   "source": [
    "from tqdm import tqdm\n",
    "import time\n",
    "\n",
    "syn_data_dict = {}\n",
    "\n",
    "start_time = time.time()   #start time\n",
    "delay = 10                  # time delay between each requests\n",
    "\n",
    "\n",
    "for iteration in tqdm(range(100)):\n",
    "    # Ensure the delay of 'delay' seconds between requests\n",
    "    if iteration > 0:\n",
    "        time.sleep(delay)\n",
    "    \n",
    "    response = client.chat.completions.create(\n",
    "    model=model,\n",
    "    messages=[{\"role\": \"user\", \"content\": prompt_15}],\n",
    "    top_p=0.7,\n",
    "    temperature= 0.7,\n",
    "    repetition_penalty= 1.2,\n",
    "    \n",
    ")\n",
    "    syn_data_dict[iteration] = response.choices[0].message.content\n",
    "    \n",
    "end_time = time.time()\n",
    "print(f\"Total time taken: {end_time - start_time:.2f} seconds\")\n"
   ]
  },
  {
   "cell_type": "code",
   "execution_count": 41,
   "metadata": {},
   "outputs": [
    {
     "data": {
      "text/plain": [
       "{0: \"1: German: Die Katze ist sehr freundlich, French: Le chat est très gentil,\\n2: German: Ich esse jeden Tag ein Stück Brot zum Frühstück, French: Je mange chaque jour un morceau de pain pour le petit déjeuner,\\n3: German: Der Hund läuft schnell im Park, French: Le chien court vite dans le parc,\\n4: German: Wir fahren morgen nach Paris, French: Nous partons demain pour Paris,\\n5: German: Das Wetter ist heute schön, French: Le temps est beau aujourd'hui,\\n6: German: Ich habe einen Bruder und eine Schwester, French: J'ai un frère et une sœur,\\n7: German: Die Blumen sind rot und gelb, French: Les fleurs sont rouges et jaunes,\\n8: German: Mein Lieblingsessen ist Pizza, French: Mon plat préféré est la pizza,\\n9: German: Der Film beginnt um 20 Uhr, French: Le film commence à 20 heures,\\n10: German: Ich spreche Deutsch und Englisch, French: Je parle allemand et anglais,\\n11: German: Die Stadt ist groß und laut, French: La ville est grande et bruyante,\\n12: German: Wir haben viel Spaß am Strand, French: Nous nous amusons beaucoup sur la plage,\\n13: German: Meine Mutter kocht sehr gut, French: Ma mère cuisine très bien,\\n14: German: Der Lehrer erklärt die Aufgabe langsam, French: L'enseignant explique l'exercice lentement,\\n15: German: Ich liebe den Sommer, weil das Wetter warm ist, French: J'aime l'été parce que le temps est chaud,\",\n",
       " 1: \"1: German: Die Katze ist sehr freundlich, French: Le chat est très gentil,\\n2: German: Ich esse jeden Tag ein Stück Brot zum Frühstück, French: Je mange chaque jour un morceau de pain pour le petit déjeuner,\\n3: German: Der Hund läuft schnell im Park, French: Le chien court vite dans le parc,\\n4: German: Meine Mutter kocht heute Abend für mich und meinen Vater, French: Ma mère cuisine ce soir pour moi et mon père,\\n5: German: Das Wetter ist heute schön und sonnig, French: Le temps est beau et ensoleillé aujourd'hui,\\n6: German: Ich gehe gerne ins Kino am Wochenende, French: J'aime aller au cinéma le week-end,\\n7: German: Mein Bruder spielt Fußball mit seinen Freunden, French: Mon frère joue au football avec ses amis,\\n8: German: Die Blumen sind rot und schön, French: Les fleurs sont rouges et belles,\\n9: German: Ich trinke jeden Tag eine Tasse Kaffee, French: Je bois chaque jour une tasse de café,\\n10: German: Die Stadt ist groß und laut, French: La ville est grande et bruyante,\\n11: German: Ich habe viele Bücher über Geschichte gelesen, French: J'ai lu beaucoup de livres sur l'histoire,\\n12: German: Mein Vater arbeitet als Ingenieur, French: Mon père travaille comme ingénieur,\\n13: German: Die Schule beginnt um 8 Uhr morgens, French: L'école commence à 8 heures du matin,\\n14: German: Ich spreche fließend Deutsch und Englisch, French: Je parle couramment allemand et anglais,\\n15: German: Die Musik ist schön und beruhigend, French: La musique est belle et apaisante\",\n",
       " 2: \"1: German: Die Katze ist sehr freundlich, French: Le chat est très gentil,\\n2: German: Ich esse jeden Tag ein Stück Brot zum Frühstück, French: Je mange chaque jour un morceau de pain pour le petit déjeuner,\\n3: German: Der Himmel ist heute sehr blau, French: Le ciel est aujourd'hui très bleu,\\n4: German: Meine Mutter kocht das beste Essen der Welt, French: Ma mère cuisine les meilleurs plats du monde,\\n5: German: Ich liebe es, im Sommer am Strand zu entspannen, French: J'adore me détendre sur la plage en été,\\n6: German: Mein Bruder spielt seit Jahren Fußball, French: Mon frère joue au football depuis des années,\\n7: German: Die Stadt Paris ist bekannt für ihre romantische Atmosphäre, French: La ville de Paris est connue pour son atmosphère romantique,\\n8: German: Ich habe gestern Abend einen Film gesehen, French: J'ai vu un film hier soir,\\n9: German: Das Wetter wird morgen besser sein, French: Le temps sera meilleur demain,\\n10: German: Meine Schwester studiert an der Universität Medizin, French: Ma sœur étudie la médecine à l'université,\\n11: German: Ich bin sehr müde und brauche Schlaf, French: Je suis très fatigué et j'ai besoin de sommeil,\\n12: German: Der Park ist ein schöner Ort, um spazieren zu gehen, French: Le parc est un endroit agréable pour se promener,\\n13: German: Ich möchte eines Tages nach Australien reisen, French: Je voudrais voyager en Australie un jour,\\n14: German: Die Musik ist mein größtes Hobby, French: La musique est mon plus grand hobby,\\n15: German: Ich wünsche mir, dass ich fliegen könnte, French: Je souhaite que je puisse voler,\",\n",
       " 3: \"1: German: Die Katze ist sehr freundlich, French: La chatte est très gentille,\\n2: German: Ich esse jeden Tag ein Stück Brot zum Frühstück, French: Je mange chaque jour un morceau de pain pour le petit déjeuner,\\n3: German: Der Hund läuft schnell im Park, French: Le chien court vite dans le parc,\\n4: German: Sie hat einen roten Pullover angezogen, French: Elle a mis un pull-over rouge,\\n5: German: Wir fahren morgen nach Paris, French: Nous allons à Paris demain,\\n6: German: Das Auto ist sehr teuer, French: La voiture est très cher,\\n7: German: Er liest jedes Wochenende ein Buch, French: Il lit un livre chaque week-end,\\n8: German: Die Blumen sind schön und duften gut, French: Les fleurs sont belles et sentent bon,\\n9: German: Mein Bruder spielt Fußball sehr gut, French: Mon frère joue très bien au football,\\n10: German: Sie haben ihre Hausaufgaben gemacht, French: Ils ont fait leurs devoirs,\\n11: German: Der Lehrer erklärt die Aufgabe sehr klar, French: L'enseignant explique l'exercice très clairement,\\n12: German: Die Sonne scheint heute sehr hell, French: Le soleil brille aujourd'hui très fort,\\n13: German: Ich habe meine Schwester gestern besucht, French: J'ai visité ma sœur hier,\\n14: German: Der Film war sehr interessant und unterhaltsam, French: Le film était très intéressant et amusant,\\n15: German: Die Stadt ist sehr groß und belebt, French: La ville est très grande et animée\",\n",
       " 4: \"1: German: Die Katze ist sehr freundlich, French: Le chat est très gentil,\\n2: German: Ich esse jeden Tag ein Stück Brot zum Frühstück, French: Je mange chaque jour un morceau de pain pour le petit déjeuner,\\n3: German: Der Himmel ist heute sehr blau und die Sonne scheint hell, French: Le ciel est aujourd'hui très bleu et le soleil brille fort,\\n4: German: Meine Mutter backt am Wochenende oft Kuchen für unsere Familie, French: Ma mère fait souvent des gâteaux le week-end pour notre famille,\\n5: German: Wir fahren nächste Woche nach Paris, um den Eiffelturm zu besichtigen, French: Nous allons à Paris la semaine prochaine pour visiter la tour Eiffel,\\n6: German: Mein Bruder spielt seit vielen Jahren Fußball und liebt diesen Sport, French: Mon frère joue au football depuis de nombreuses années et adore ce sport,\\n7: German: Die Blumen im Garten sind wunderschön und duften sehr gut, French: Les fleurs dans le jardin sont magnifiques et sentent très bon,\\n8: German: Ich habe gestern Abend einen interessanten Film im Kino gesehen, French: J'ai vu hier soir un film intéressant au cinéma,\\n9: German: Das Wetter war letzte Woche sehr schlecht und es hat viel geregnet, French: Le temps était très mauvais la semaine dernière et il a beaucoup plu,\\n10: German: Meine Schwester studiert an der Universität und möchte später Lehrerin werden, French: Ma sœur étudie à l'université et veut devenir institutrice plus tard,\\n11: German: Wir haben am vergangenen Wochenende eine wundervolle Reise nach Italien gemacht, French: Nous avons fait un merveilleux voyage en Italie le week-end dernier,\\n12: German: Der Hund meiner Nachbarn ist sehr groß und bellt laut, French: Le chien de mes voisins est très grand et aboie fort,\\n13: German: Ich bin sehr müde und brauche dringend Schlaf, French: Je suis très fatigué et j'ai vraiment besoin de dormir,\\n14: German: Die Stadt, in der ich wohne, ist sehr schön und bietet viele Sehenswürdigkeiten, French: La ville où j'habite est très belle et offre de nombreux sites touristiques,\\n15: German: Mein Vater arbeitet als Ingenieur und entwickelt neue Technologien, French: Mon père travaille comme ingénieur et développe de nouvelles technologies\",\n",
       " 5: \"1: German: Die Katze ist sehr freundlich, French: Le chat est très gentil,\\n2: German: Ich esse jeden Tag ein Stück Brot zum Frühstück, French: Je mange chaque jour un morceau de pain pour le petit déjeuner,\\n3: German: Der Hund läuft schnell im Park, French: Le chien court vite dans le parc,\\n4: German: Wir fahren morgen nach Paris, French: Nous partons demain pour Paris,\\n5: German: Das Wetter ist heute schön, French: Le temps est beau aujourd'hui,\\n6: German: Ich habe einen Bruder und eine Schwester, French: J'ai un frère et une sœur,\\n7: German: Die Blumen sind rot und gelb, French: Les fleurs sont rouges et jaunes,\\n8: German: Mein Name ist Hans Müller, French: Mon nom est Hans Müller,\\n9: German: Ich wohne in einer kleinen Stadt, French: J'habite dans une petite ville,\\n10: German: Die Straße ist lang und breit, French: La rue est longue et large,\\n11: German: Wir haben viel Spaß am Strand, French: Nous nous amusons beaucoup sur la plage,\\n12: German: Ich trinke gerne Kaffee am Morgen, French: Je bois volontiers du café le matin,\\n13: German: Die Sonne scheint hell am Himmel, French: Le soleil brille haut dans le ciel,\\n14: German: Ich bin müde und gehe ins Bett, French: Je suis fatigué et je vais me coucher,\\n15: German: Wir feiern Weihnachten mit der Familie, French: Nous célébrons Noël en famille,\",\n",
       " 6: \"1: German: Die Katze ist sehr freundlich, French: Le chat est très gentil,\\n2: German: Ich esse jeden Tag ein Stück Brot zum Frühstück, French: Je mange chaque jour un morceau de pain pour le petit déjeuner,\\n3: German: Der Hund läuft schnell im Park, French: Le chien court vite dans le parc,\\n4: German: Meine Mutter kocht gern italienisches Essen, French: Ma mère cuisine volontiers des plats italiens,\\n5: German: Wir fahren nächste Woche nach Paris, French: Nous allons à Paris la semaine prochaine,\\n6: German: Das Wetter ist heute schön und sonnig, French: Le temps est beau et ensoleillé aujourd'hui,\\n7: German: Mein Bruder spielt Fußball mit seinen Freunden, French: Mon frère joue au football avec ses amis,\\n8: German: Die Blumen sind rot und gelb, French: Les fleurs sont rouges et jaunes,\\n9: German: Ich trinke jeden Morgen einen Kaffee, French: Je bois chaque matin un café,\\n10: German: Die Schule beginnt um 8 Uhr morgens, French: L'école commence à 8 heures du matin,\\n11: German: Mein Vater liest gerne Bücher über Geschichte, French: Mon père lit volontiers des livres sur l'histoire,\\n12: German: Wir haben gestern Abend einen Film gesehen, French: Nous avons vu un film hier soir,\\n13: German: Die Stadt ist groß und laut, French: La ville est grande et bruyante,\\n14: German: Ich habe viele Freunde an der Universität, French: J'ai beaucoup d'amis à l'université,\\n15: German: Das Meer ist tief und salzig, French: La mer est profonde et saline,\",\n",
       " 7: \"1: German: Die Katze ist sehr freundlich, French: Le chat est très gentil,\\n2: German: Ich habe gestern Abend einen Film gesehen, French: J'ai vu un film hier soir,\\n3: German: Der Hund läuft schnell im Park, French: Le chien court vite dans le parc,\\n4: German: Meine Mutter kocht heute Abend für uns, French: Ma mère cuisine pour nous ce soir,\\n5: German: Das Wetter ist heute schön und sonnig, French: Le temps est beau et ensoleillé aujourd'hui,\\n6: German: Wir fahren nächsten Monat nach Paris, French: Nous allons à Paris le mois prochain,\\n7: German: Mein Bruder spielt Fußball mit seinen Freunden, French: Mon frère joue au football avec ses amis,\\n8: German: Die Blumen sind rot und schön, French: Les fleurs sont rouges et belles,\\n9: German: Ich bin müde und brauche Schlaf, French: Je suis fatigué et j'ai besoin de sommeil,\\n10: German: Die Schule beginnt um 8 Uhr morgens, French: L'école commence à 8 heures du matin,\\n11: German: Mein Vater liest jeden Tag die Zeitung, French: Mon père lit le journal tous les jours,\\n12: German: Die Straße ist lang und gerade, French: La rue est longue et droite,\\n13: German: Wir essen heute Abend italienisches Essen, French: Nous mangeons de la nourriture italienne ce soir,\\n14: German: Der Lehrer erklärt den Schülern die Aufgaben, French: L'enseignant explique les tâches aux élèves,\\n15: German: Die Stadt ist groß und laut, French: La ville est grande et bruyante,\",\n",
       " 8: \"1: German: Die Katze ist sehr freundlich, French: Le chat est très gentil,\\n2: German: Ich gehe jeden Tag spazieren, French: Je vais me promener tous les jours,\\n3: German: Das Wetter ist heute schön, French: Le temps est beau aujourd'hui,\\n4: German: Mein Name ist Hans Müller, French: Mon nom est Hans Müller,\\n5: German: Ich spreche ein bisschen Französisch, French: Je parle un peu français,\\n6: German: Die Stadt ist sehr groß und laut, French: La ville est très grande et bruyante,\\n7: German: Ich liebe es, Bücher zu lesen, French: J'adore lire des livres,\\n8: German: Der Film war sehr interessant, French: Le film était très intéressant,\\n9: German: Ich bin Student an der Universität, French: Je suis étudiant à l'université,\\n10: German: Meine Familie wohnt in Berlin, French: Ma famille habite à Berlin,\\n11: German: Ich esse gerne Pizza und Pasta, French: J'aime manger de la pizza et des pâtes,\\n12: German: Der Park ist sehr schön und grün, French: Le parc est très beau et vert,\\n13: German: Ich habe einen kleinen Hund, French: J'ai un petit chien,\\n14: German: Die Musik ist meine große Leidenschaft, French: La musique est ma grande passion,\\n15: German: Ich werde nächste Woche nach Paris reisen, French: Je voyagerai à Paris la semaine prochaine,\",\n",
       " 9: \"1: German: Die Katze ist sehr freundlich, French: Le chat est très gentil,\\n2: German: Ich esse jeden Tag ein Stück Brot zum Frühstück, French: Je mange chaque jour un morceau de pain pour le petit déjeuner,\\n3: German: Der Himmel ist heute sehr blau, French: Le ciel est aujourd'hui très bleu,\\n4: German: Meine Mutter backt am Wochenende oft Kuchen, French: Ma mère fait souvent des gâteaux le week-end,\\n5: German: Wir fahren nächste Woche nach Paris, French: Nous allons à Paris la semaine prochaine,\\n6: German: Mein Bruder spielt seit Jahren Fußball, French: Mon frère joue au football depuis des années,\\n7: German: Die Blumen im Garten sind wunderschön, French: Les fleurs du jardin sont magnifiques,\\n8: German: Ich habe gestern Abend einen Film gesehen, French: J'ai vu un film hier soir,\\n9: German: Das Wetter wird morgen besser sein, French: La météo sera meilleure demain,\\n10: German: Meine Schwester liest gerne Bücher über Geschichte, French: Ma sœur aime lire des livres sur l'histoire,\\n11: German: Wir haben letztes Jahr eine Reise nach Italien gemacht, French: Nous avons fait un voyage en Italie l'an dernier,\\n12: German: Der Lehrer erklärt die Aufgaben sehr gut, French: L'enseignant explique les tâches très bien,\\n13: German: Die Stadt ist sehr groß und laut, French: La ville est très grande et bruyante,\\n14: German: Ich bin sehr müde und brauche Schlaf, French: Je suis très fatigué et j'ai besoin de sommeil,\\n15: German: Meine Freunde kommen heute Abend zu mir nach Hause, French: Mes amis viennent chez moi ce soir,\",\n",
       " 10: \"1: German: Die Katze ist sehr freundlich, French: Le chat est très gentil,\\n2: German: Ich esse jeden Tag ein Stück Brot zum Frühstück, French: Je mange chaque jour un morceau de pain pour le petit déjeuner,\\n3: German: Der Hund läuft schnell im Park, French: Le chien court vite dans le parc,\\n4: German: Wir fahren morgen nach Paris, French: Nous allons à Paris demain,\\n5: German: Das Wetter ist heute schön, French: Le temps est beau aujourd'hui,\\n6: German: Mein Bruder spielt Fußball seit fünf Jahren, French: Mon frère joue au football depuis cinq ans,\\n7: German: Die Blumen sind rot und gelb, French: Les fleurs sont rouges et jaunes,\\n8: German: Ich habe einen kleinen Garten hinter meinem Haus, French: J'ai un petit jardin derrière ma maison,\\n9: German: Meine Schwester liest gerne Bücher über Geschichte, French: Ma sœur aime lire des livres sur l'histoire,\\n10: German: Der Lehrer erklärt die Aufgaben sehr gut, French: L'enseignant explique les tâches très bien,\\n11: German: Wir haben gestern Abend einen Film gesehen, French: Nous avons vu un film hier soir,\\n12: German: Die Stadt ist groß und laut, French: La ville est grande et bruyante,\\n13: German: Ich bin müde und brauche Schlaf, French: Je suis fatigué et j'ai besoin de sommeil,\\n14: German: Mein Vater arbeitet als Ingenieur, French: Mon père travaille comme ingénieur,\\n15: German: Die Schule beginnt um acht Uhr morgens, French: L'école commence à huit heures du matin\",\n",
       " 11: \"1: German: Die Katze ist sehr freundlich, French: Le chat est très gentil,\\n2: German: Ich esse jeden Tag ein Stück Brot zum Frühstück, French: Je mange chaque jour un morceau de pain pour le petit déjeuner,\\n3: German: Der Hund läuft schnell im Park, French: Le chien court vite dans le parc,\\n4: German: Wir fahren morgen nach Paris, French: Nous partons demain pour Paris,\\n5: German: Das Wetter ist heute schön, French: Le temps est beau aujourd'hui,\\n6: German: Ich habe einen Bruder und eine Schwester, French: J'ai un frère et une sœur,\\n7: German: Die Blumen sind rot und gelb, French: Les fleurs sont rouges et jaunes,\\n8: German: Mein Name ist Hans Müller, French: Mon nom est Hans Müller,\\n9: German: Ich wohne in einer großen Stadt, French: J'habite dans une grande ville,\\n10: German: Die Schule beginnt um acht Uhr morgens, French: L'école commence à huit heures du matin,\\n11: German: Ich liebe es, am Meer zu schwimmen, French: J'adore nager en mer,\\n12: German: Meine Mutter kocht gern italienisches Essen, French: Ma mère cuisine volontiers des plats italiens,\\n13: German: Der Film beginnt um neun Uhr abends, French: Le film commence à neuf heures du soir,\\n14: German: Ich bin Student an der Universität Berlin, French: Je suis étudiant à l'université de Berlin,\\n15: German: Die Straße ist voller Autos und Menschen, French: La rue est pleine de voitures et de gens\",\n",
       " 12: \"1: Ich gehe jeden Tag zum Markt, um frische Lebensmittel zu kaufen., Je vais tous les jours au marché pour acheter des produits frais.\\n2: Die neue Regelung wird voraussichtlich im nächsten Monat in Kraft treten., La nouvelle réglementation devrait entrer en vigueur le mois prochain.\\n3: Mein Bruder studiert Medizin an der Universität und möchte einmal Arzt werden., Mon frère étudie la médecine à l'université et veut devenir médecin un jour.\\n4: Wir haben gestern Abend ein wunderschönes Konzert besucht., Nous avons assisté hier soir à un magnifique concert.\\n5: Das Wetter war heute Morgen sehr schön, aber jetzt regnet es., Le temps était très beau ce matin, mais maintenant il pleut.\\n6: Meine Schwester liebt es, Bücher über Geschichte zu lesen., Ma sœur adore lire des livres sur l'histoire.\\n7: Der Zug ist gerade angekommen und wir können nun aussteigen., Le train est arrivé et nous pouvons maintenant descendre.\\n8: Ich habe mich entschieden, nächstes Jahr nach Paris zu reisen., J'ai décidé de voyager à Paris l'année prochaine.\\n9: Die Blumen in unserem Garten sind sehr schön und duften gut., Les fleurs dans notre jardin sont très belles et sentent bon.\\n10: Mein Vater arbeitet als Ingenieur und entwickelt neue Maschinen., Mon père travaille comme ingénieur et développe de nouvelles machines.\\n11: Wir sollten uns beeilen, sonst verpassen wir den Bus., Nous devrions nous dépêcher, sinon nous allons rater le bus.\\n12: Die Stadt ist sehr groß und hat viele interessante Sehenswürdigkeiten., La ville est très grande et a beaucoup d'attractions intéressantes.\\n13: Ich bin sehr müde und brauche dringend einen Kaffee., Je suis très fatigué et j'ai vraiment besoin d'un café.\\n14: Meine Mutter kocht immer sehr leckere Gerichte für unsere Familie., Ma mère cuisine toujours des plats très délicieux pour notre famille.\\n15: Der Film, den wir gestern gesehen haben, war sehr spannend und unterhaltsam., Le film que nous avons vu hier était très passionnant et divertissant.\",\n",
       " 13: \"1: German: Die Katze ist sehr freundlich, French: Le chat est très gentil,\\n2: German: Ich esse jeden Tag ein Stück Brot zum Frühstück, French: Je mange chaque jour un morceau de pain pour le petit déjeuner,\\n3: German: Der Hund läuft schnell im Park, French: Le chien court vite dans le parc,\\n4: German: Meine Mutter kocht heute Abend für uns, French: Ma mère cuisine ce soir pour nous,\\n5: German: Das Wetter ist heute schön und sonnig, French: Le temps est beau et ensoleillé aujourd'hui,\\n6: German: Ich habe gestern mein Fahrrad repariert, French: J'ai réparé mon vélo hier,\\n7: German: Mein Bruder spielt gerne Fußball, French: Mon frère joue au football avec plaisir,\\n8: German: Die Blumen sind sehr hübsch und duften gut, French: Les fleurs sont très jolies et sentent bon,\\n9: German: Wir fahren nächste Woche an den Strand, French: Nous allons à la plage la semaine prochaine,\\n10: German: Ich bin müde und brauche Schlaf, French: Je suis fatigué et j'ai besoin de sommeil,\\n11: German: Meine Schwester liest gerne Bücher über Geschichte, French: Ma sœur lit avec plaisir des livres sur l'histoire,\\n12: German: Der Lehrer erklärt die Aufgaben sehr klar, French: L'enseignant explique les tâches très clairement,\\n13: German: Die Stadt ist groß und hat viele Sehenswürdigkeiten, French: La ville est grande et a beaucoup d'attractions,\\n14: German: Ich möchte eines Tages nach Paris reisen, French: Je voudrais voyager à Paris un jour,\\n15: German: Mein Vater arbeitet als Ingenieur in einer großen Firma, French: Mon père travaille comme ingénieur dans une grande entreprise,\",\n",
       " 14: \"1: German: Die Katze ist sehr freundlich, French: Le chat est très gentil,\\n2: German: Ich gehe jeden Tag ins Fitnessstudio, French: Je vais à la salle de sport tous les jours,\\n3: German: Mein Bruder wohnt in Berlin, French: Mon frère habite à Berlin,\\n4: German: Die Blumen sind sehr schön, French: Les fleurs sont très belles,\\n5: German: Wir fahren morgen nach Paris, French: Nous partons demain pour Paris,\\n6: German: Das Wetter ist heute schlecht, French: Le temps est mauvais aujourd'hui,\\n7: German: Ich esse gerne Pizza, French: J'aime manger de la pizza,\\n8: German: Meine Schwester studiert Medizin, French: Ma sœur étudie la médecine,\\n9: German: Der Film war sehr interessant, French: Le film était très intéressant,\\n10: German: Wir haben einen Hund zu Hause, French: Nous avons un chien à la maison,\\n11: German: Die Stadt ist sehr groß, French: La ville est très grande,\\n12: German: Ich bin müde und brauche Schlaf, French: Je suis fatigué et j'ai besoin de sommeil,\\n13: German: Das Auto ist sehr teuer, French: La voiture est très cher,\\n14: German: Wir gehen am Wochenende ins Theater, French: Nous allons au théâtre le week-end,\\n15: German: Die Landschaft ist sehr malerisch, French: Le paysage est très pittoresque,\",\n",
       " 15: \"1: German: Die Katze ist sehr freundlich, French: Le chat est très gentil,\\n2: German: Ich esse jeden Tag ein Stück Brot zum Frühstück, French: Je mange chaque jour une slice de pain pour le petit déjeuner,\\n3: German: Der Hund rennt schnell im Park, French: Le chien court vite dans le parc,\\n4: German: Wir fahren morgen nach Paris, French: Nous allons à Paris demain,\\n5: German: Mein Bruder spielt Fußball seit fünf Jahren, French: Mon frère joue au football depuis cinq ans,\\n6: German: Die Blumen sind schön und duften gut, French: Les fleurs sont belles et sentent bon,\\n7: German: Ich habe einen neuen Job in einer großen Firma gefunden, French: J'ai trouvé un nouveau travail dans une grande entreprise,\\n8: German: Das Wetter ist heute schlecht, French: Le temps est mauvais aujourd'hui,\\n9: German: Meine Schwester studiert Medizin an der Universität, French: Ma sœur étudie la médecine à l'université,\\n10: German: Der Film war interessant und unterhaltsam, French: Le film était intéressant et divertissant,\\n11: German: Ich liebe es, am Wochenende zu reisen, French: J'adore voyager le week-end,\\n12: German: Die Stadt ist groß und laut, French: La ville est grande et bruyante,\\n13: German: Mein Vater arbeitet als Ingenieur, French: Mon père travaille comme ingénieur,\\n14: German: Die Kinder spielen glücklich im Garten, French: Les enfants jouent heureux dans le jardin,\\n15: German: Ich bin müde und brauche Schlaf, French: Je suis fatigué et j'ai besoin de sommeil,\",\n",
       " 16: \"1: German: Die Katze ist sehr freundlich, French: Le chat est très gentil,\\n2: German: Ich esse jeden Tag ein Stück Brot zum Frühstück, French: Je mange chaque jour un morceau de pain pour le petit déjeuner,\\n3: German: Der Himmel ist heute sehr blau, French: Le ciel est aujourd'hui très bleu,\\n4: German: Meine Mutter kocht immer sehr gutes Essen, French: Ma mère cuisine toujours très bien,\\n5: German: Wir fahren nächste Woche nach Paris, French: Nous allons à Paris la semaine prochaine,\\n6: German: Das Auto ist sehr schnell und schön, French: La voiture est très rapide et belle,\\n7: German: Ich habe gestern Abend einen Film im Kino gesehen, French: J'ai vu un film au cinéma hier soir,\\n8: German: Mein Bruder spielt sehr gut Fußball, French: Mon frère joue très bien au football,\\n9: German: Die Blumen sind sehr hübsch und duften gut, French: Les fleurs sont très jolies et sentent bon,\\n10: German: Wir haben letztes Jahr eine Reise um die Welt gemacht, French: Nous avons fait un voyage autour du monde l'année dernière,\\n11: German: Die Stadt ist sehr groß und laut, French: La ville est très grande et bruyante,\\n12: German: Ich liebe es, am Strand zu entspannen, French: J'aime me détendre sur la plage,\\n13: German: Mein Vater arbeitet als Ingenieur, French: Mon père travaille comme ingénieur,\\n14: German: Die Schule beginnt nächsten Monat wieder, French: L'école reprendra next mois,\\n15: German: Ich bin sehr glücklich, dass ich dich getroffen habe, French: Je suis très heureux de t'avoir rencontré,\",\n",
       " 17: \"1: German: Die Katze ist sehr freundlich, French: Le chat est très gentil,\\n2: German: Ich gehe jeden Tag ins Fitnessstudio, French: Je vais à la salle de sport tous les jours,\\n3: German: Der Hund bellt laut, French: Le chien aboie fort,\\n4: German: Sie hat einen schönen Garten, French: Elle a un beau jardin,\\n5: German: Wir fahren morgen nach Paris, French: Nous partons demain pour Paris,\\n6: German: Das Wetter ist heute schön, French: Le temps est beau aujourd'hui,\\n7: German: Er liest ein interessantes Buch, French: Il lit un livre intéressant,\\n8: German: Die Blumen sind sehr hübsch, French: Les fleurs sont très jolies,\\n9: German: Ich esse gerne Pizza, French: J'aime manger de la pizza,\\n10: German: Mein Bruder wohnt in Berlin, French: Mon frère habite à Berlin,\\n11: German: Die Stadt ist sehr groß, French: La ville est très grande,\\n12: German: Wir haben gestern Abend gegessen, French: Nous avons mangé hier soir,\\n13: German: Der Film war sehr langweilig, French: Le film était très ennuyeux,\\n14: German: Ich habe eine neue Jacke gekauft, French: J'ai acheté une nouvelle veste,\\n15: German: Die Schule beginnt um 8 Uhr, French: L'école commence à 8 heures,\",\n",
       " 18: \"1: German: Die Katze ist sehr freundlich, French: Le chat est très gentil,\\n2: German: Ich gehe zum Bahnhof, um meinen Bruder abzuholen, French: Je vais à la gare pour aller chercher mon frère,\\n3: German: Der Himmel ist heute sehr blau, French: Le ciel est très bleu aujourd'hui,\\n4: German: Meine Mutter backt jeden Sonntag Kuchen, French: Ma mère fait des gâteaux tous les dimanches,\\n5: German: Das Wetter war gestern sehr schlecht, French: La météo était très mauvaise hier,\\n6: German: Mein Vater liest gerne Bücher über Geschichte, French: Mon père aime lire des livres sur l'histoire,\\n7: German: Die Blumen sind im Garten sehr schön, French: Les fleurs sont très belles dans le jardin,\\n8: German: Wir fahren nächstes Jahr nach Paris, French: Nous allons à Paris l'an prochain,\\n9: German: Ich habe meine Hausaufgaben noch nicht gemacht, French: Je n'ai pas encore fait mes devoirs,\\n10: German: Meine Schwester spielt sehr gut Klavier, French: Ma sœur joue très bien du piano,\\n11: German: Der Film war sehr interessant und unterhaltsam, French: Le film était très intéressant et divertissant,\\n12: German: Wir essen am Wochenende bei meiner Tante, French: Nous mangeons chez ma tante le week-end,\\n13: German: Die Stadt ist sehr groß und laut, French: La ville est très grande et bruyante,\\n14: German: Ich bin sehr müde und brauche Schlaf, French: Je suis très fatigué et j'ai besoin de sommeil,\\n15: German: Mein Freund kommt mich besuchen, French: Mon ami vient me rendre visite,\",\n",
       " 19: \"1: German: Die Katze ist sehr freundlich, French: Le chat est très gentil,\\n2: German: Ich esse jeden Tag ein Stück Brot zum Frühstück, French: Je mange chaque jour un morceau de pain pour le petit déjeuner,\\n3: German: Der Hund läuft schnell im Park, French: Le chien court vite dans le parc,\\n4: German: Meine Mutter kocht heute Abend für die ganze Familie, French: Ma mère cuisine ce soir pour toute la famille,\\n5: German: Das Wetter ist heute schön und sonnig, French: Le temps est beau et ensoleillé aujourd'hui,\\n6: German: Ich habe gestern mein Fahrrad verkauft, French: J'ai vendu mon vélo hier,\\n7: German: Die Blumen sind sehr hübsch und duften gut, French: Les fleurs sont très jolies et sentent bon,\\n8: German: Mein Bruder spielt Fußball mit seinen Freunden, French: Mon frère joue au football avec ses amis,\\n9: German: Die Lehrerin erklärt den Schülern eine neue Lektion, French: La professeure explique une nouvelle leçon aux élèves,\\n10: German: Ich gehe jeden Sonntag in die Kirche, French: Je vais à l'église tous les dimanches,\\n11: German: Das Auto fährt sehr schnell auf der Autobahn, French: La voiture roule très vite sur l'autoroute,\\n12: German: Meine Schwester liest gerne Bücher über Geschichte, French: Ma sœur aime lire des livres d'histoire,\\n13: German: Der Flug nach Paris dauert etwa zwei Stunden, French: Le vol pour Paris dure environ deux heures,\\n14: German: Ich bin sehr müde und brauche Schlaf, French: Je suis très fatigué et j'ai besoin de sommeil,\\n15: German: Die Stadt ist sehr groß und hat viele Sehenswürdigkeiten, French: La ville est très grande et a beaucoup de sites touristiques,\",\n",
       " 20: \"1: German: Die Katze ist sehr freundlich, French: Le chat est très gentil,\\n2: German: Ich gehe jeden Tag ins Fitnessstudio, French: Je vais à la salle de sport tous les jours,\\n3: German: Der Hund bellt laut, French: Le chien aboie fort,\\n4: German: Sie hat einen schönen Garten, French: Elle a un beau jardin,\\n5: German: Wir fahren morgen nach Paris, French: Nous partons demain pour Paris,\\n6: German: Das Wetter ist heute schön, French: Le temps est beau aujourd'hui,\\n7: German: Er liest ein interessantes Buch, French: Il lit un livre intéressant,\\n8: German: Die Blumen sind sehr hübsch, French: Les fleurs sont très jolies,\\n9: German: Ich esse gerne Pizza, French: J'aime manger de la pizza,\\n10: German: Mein Bruder wohnt in Berlin, French: Mon frère habite à Berlin,\\n11: German: Die Stadt ist sehr groß, French: La ville est très grande,\\n12: German: Wir haben gestern Abend einen Film gesehen, French: Nous avons vu un film hier soir,\\n13: German: Sie sprechen sehr gut Französisch, French: Ils parlent très bien français,\\n14: German: Der Lehrer erklärt die Aufgabe, French: L'enseignant explique l'exercice,\\n15: German: Ich bin müde und möchte schlafen, French: Je suis fatigué et je veux dormir\",\n",
       " 21: \"1: German: Die Katze ist sehr freundlich, French: Le chat est très gentil,\\n2: German: Ich gehe jeden Tag ins Fitnessstudio, French: Je vais à la salle de sport tous les jours,\\n3: German: Der Hund bellt laut, French: Le chien aboie fort,\\n4: German: Sie hat einen schönen Garten, French: Elle a un beau jardin,\\n5: German: Wir fahren morgen nach Paris, French: Nous partons demain pour Paris,\\n6: German: Das Wetter ist heute schön, French: Le temps est agréable aujourd'hui,\\n7: German: Er liest gerne Bücher, French: Il aime lire des livres,\\n8: German: Die Blumen sind sehr hübsch, French: Les fleurs sont très jolies,\\n9: German: Ich esse gern Pizza, French: J'aime manger de la pizza,\\n10: German: Mein Bruder wohnt in Berlin, French: Mon frère habite à Berlin,\\n11: German: Die Stadt ist sehr groß, French: La ville est très grande,\\n12: German: Wir haben gestern Abend gegessen, French: Nous avons mangé hier soir,\\n13: German: Sie spricht fünf Sprachen fließend, French: Elle parle couramment cinq langues,\\n14: German: Der Film war sehr interessant, French: Le film était très intéressant,\\n15: German: Ich habe mein Fahrrad verkauft, French: J'ai vendu mon vélo\",\n",
       " 22: \"1: German: Die Katze ist sehr freundlich, French: Le chat est très gentil,\\n2: German: Ich esse jeden Tag ein Stück Brot zum Frühstück, French: Je mange chaque jour un morceau de pain pour le petit déjeuner,\\n3: German: Der Hund läuft schnell im Park, French: Le chien court vite dans le parc,\\n4: German: Meine Mutter kocht gern italienisches Essen, French: Ma mère cuisine volontiers la nourriture italienne,\\n5: German: Ich habe gestern Abend einen Film gesehen, French: J'ai vu un film hier soir,\\n6: German: Das Wetter ist heute schön und sonnig, French: Le temps est beau et ensoleillé aujourd'hui,\\n7: German: Mein Bruder spielt Fußball mit seinen Freunden, French: Mon frère joue au football avec ses amis,\\n8: German: Die Blumen sind sehr blühen und duften gut, French: Les fleurs sont très fleuries et sentent bon,\\n9: German: Ich bin müde und brauche Schlaf, French: Je suis fatigué et j'ai besoin de sommeil,\\n10: German: Die Stadt ist groß und laut, French: La ville est grande et bruyante,\\n11: German: Ich liebe es, am Meer zu schwimmen, French: J'adore nager à la mer,\\n12: German: Mein Vater arbeitet als Ingenieur, French: Mon père travaille comme ingénieur,\\n13: German: Die Schule beginnt um acht Uhr morgens, French: L'école commence à huit heures du matin,\\n14: German: Ich habe viele Bücher über Geschichte gelesen, French: J'ai lu beaucoup de livres sur l'histoire,\\n15: German: Die Musik ist sehr wichtig für mich, French: La musique est très importante pour moi\",\n",
       " 23: \"1: German: Die Katze ist sehr freundlich, French: Le chat est très gentil,\\n2: German: Ich esse jeden Tag ein Stück Brot zum Frühstück, French: Je mange chaque jour un morceau de pain pour le petit déjeuner,\\n3: German: Der Hund läuft schnell im Park, French: Le chien court vite dans le parc,\\n4: German: Mein Bruder wohnt in Berlin, French: Mon frère habite à Berlin,\\n5: German: Wir fahren morgen nach Paris, French: Nous partons demain pour Paris,\\n6: German: Die Blumen sind schön und duften gut, French: Les fleurs sont belles et sentent bon,\\n7: German: Ich habe einen neuen Job gefunden, French: J'ai trouvé un nouveau travail,\\n8: German: Das Wetter ist heute schlecht, French: Le temps est mauvais aujourd'hui,\\n9: German: Meine Schwester studiert Medizin, French: Ma sœur étudie la médecine,\\n10: German: Wir essen gerne italienisches Essen, French: Nous aimons manger de la cuisine italienne,\\n11: German: Der Film war interessant und unterhaltsam, French: Le film était intéressant et divertissant,\\n12: German: Ich bin müde und brauche Schlaf, French: Je suis fatigué et j'ai besoin de sommeil,\\n13: German: Die Stadt ist groß und belebt, French: La ville est grande et animée,\\n14: German: Wir haben gestern Abend eine Party gefeiert, French: Nous avons célébré une soirée hier soir,\\n15: German: Das Buch ist lang und schwer zu lesen, French: Le livre est long et difficile à lire\",\n",
       " 24: \"1: German: Die Katze ist sehr freundlich, French: Le chat est très gentil,\\n2: German: Ich gehe jeden Tag spazieren, French: Je vais me promener tous les jours,\\n3: German: Mein Name ist Hans Müller, French: Mon nom est Hans Müller,\\n4: German: Die Blumen sind schön und duftend, French: Les fleurs sont belles et parfumées,\\n5: German: Wir fahren morgen nach Paris, French: Nous partons demain pour Paris,\\n6: German: Das Wetter ist heute schlecht, French: Le temps est mauvais aujourd'hui,\\n7: German: Ich liebe es, Bücher zu lesen, French: J'adore lire des livres,\\n8: German: Meine Schwester wohnt in Berlin, French: Ma sœur habite à Berlin,\\n9: German: Der Film war sehr interessant, French: Le film était très intéressant,\\n10: German: Ich habe einen Hund namens Max, French: J'ai un chien qui s'appelle Max,\\n11: German: Die Stadt ist groß und laut, French: La ville est grande et bruyante,\\n12: German: Ich bin Student an der Universität, French: Je suis étudiant à l'université,\\n13: German: Mein Lieblingsessen ist Pizza, French: Mon plat préféré est la pizza,\\n14: German: Wir haben gestern Abend getanzt, French: Nous avons dansé hier soir,\\n15: German: Die Natur ist wunderschön und erfrischend, French: La nature est magnifique et rafraîchissante,\",\n",
       " 25: \"1: German: Die Katze ist sehr freundlich, French: Le chat est très gentil,\\n2: German: Ich esse jeden Tag ein Stück Brot zum Frühstück, French: Je mange chaque jour un morceau de pain pour le petit déjeuner,\\n3: German: Der Hund läuft schnell im Park, French: Le chien court vite dans le parc,\\n4: German: Meine Mutter kocht gern italienisches Essen, French: Ma mère cuisine volontiers des plats italiens,\\n5: German: Wir fahren nächste Woche nach Paris, French: Nous allons à Paris la semaine prochaine,\\n6: German: Das Wetter ist heute schön und sonnig, French: Le temps est beau et ensoleillé aujourd'hui,\\n7: German: Mein Bruder spielt gerne Fußball mit seinen Freunden, French: Mon frère joue volontiers au football avec ses amis,\\n8: German: Die Blumen sind sehr bunt und hübsch, French: Les fleurs sont très colorées et jolies,\\n9: German: Ich habe gestern Abend einen Film gesehen, French: J'ai vu un film hier soir,\\n10: German: Meine Schwester liest gerne Bücher über Geschichte, French: Ma sœur lit volontiers des livres sur l'histoire,\\n11: German: Der Lehrer erklärt die Aufgaben sehr gut, French: L'enseignant explique les exercices très bien,\\n12: German: Wir haben letztes Jahr eine Reise nach Italien gemacht, French: Nous avons fait un voyage en Italie l'an dernier,\\n13: German: Die Stadt ist sehr groß und laut, French: La ville est très grande et bruyante,\\n14: German: Ich bin müde und brauche Schlaf, French: Je suis fatigué et j'ai besoin de sommeil,\\n15: German: Meine Eltern feiern bald ihren Hochzeitstag, French: Mes parents vont bientôt célébrer leur anniversaire de mariage,\",\n",
       " 26: \"1: German: Die Katze ist sehr freundlich, French: Le chat est très amical,\\n2: German: Ich esse jeden Tag ein Stück Brot zum Frühstück, French: Je mange chaque jour un morceau de pain pour le petit déjeuner,\\n3: German: Der Hund läuft schnell im Park, French: Le chien court vite dans le parc,\\n4: German: Mein Bruder wohnt in Berlin und studiert Medizin, French: Mon frère habite à Berlin et étudie la médecine,\\n5: German: Die Blumen sind schön und duften gut, French: Les fleurs sont belles et sentent bon,\\n6: German: Wir fahren morgen nach Paris mit dem Zug, French: Nous allons à Paris demain en train,\\n7: German: Das Wetter ist heute schlecht, es regnet stark, French: Le temps est mauvais aujourd'hui, il pleut fort,\\n8: German: Meine Schwester spielt gerne Klavier und singt schön, French: Ma sœur joue volontiers du piano et chante bien,\\n9: German: Der Lehrer erklärt die Aufgaben sehr genau, French: L'enseignant explique les tâches avec beaucoup de précision,\\n10: German: Die Stadt ist groß und hat viele Sehenswürdigkeiten, French: La ville est grande et a beaucoup d'attractions,\\n11: German: Ich liebe es, Bücher zu lesen und neue Dinge zu lernen, French: J'aime lire des livres et apprendre de nouvelles choses,\\n12: German: Mein Vater arbeitet als Ingenieur und verdient viel Geld, French: Mon père travaille comme ingénieur et gagne beaucoup d'argent,\\n13: German: Die Schule beginnt um 8 Uhr morgens und endet um 14 Uhr, French: L'école commence à 8 heures du matin et se termine à 14 heures,\\n14: German: Wir haben gestern Abend einen schönen Film gesehen, French: Nous avons vu un beau film hier soir,\\n15: German: Die Natur ist wunderschön und erfüllt mich mit Frieden, French: La nature est magnifique et me remplit de paix\",\n",
       " 27: \"1: Der Himmel ist heute sehr blau., Le ciel est très bleu aujourd'hui.\\n2: Ich esse jeden Tag ein Stück Brot zum Frühstück., Je mange chaque jour une tartine de pain pour le petit déjeuner.\\n3: Die Katze schläft den ganzen Tag auf dem Sofa., Le chat dort toute la journée sur le canapé.\\n4: Mein Bruder wohnt in einer großen Stadt in Deutschland., Mon frère habite dans une grande ville en Allemagne.\\n5: Wir fahren morgen nach Paris für einen Kurzurlaub., Nous partons demain pour Paris pour un court séjour.\\n6: Das Wetter war gestern sehr schlecht, es hat viel geregnet., La météo était très mauvaise hier, il a beaucoup plu.\\n7: Meine Mutter kocht das beste Essen der Welt., Ma mère cuisine les meilleurs plats du monde.\\n8: Ich habe meine Hausaufgaben noch nicht gemacht, ich muss mich beeilen., J'ai encore fait mes devoirs, je dois me faire presser.\\n9: Der Film beginnt um 20 Uhr im Kino., Le film commence à 20 heures au cinéma.\\n10: Sie hat mir geholfen, mein Auto zu reparieren., Elle m'a aidé à réparer ma voiture.\\n11: Wir haben uns gestern Abend sehr gut unterhalten., Nous nous sommes bien améliorés hier soir.\\n12: Er liest gerne Bücher über Geschichte und Politik., Il aime lire des livres sur l'histoire et la politique.\\n13: Die Blumen sind schön anzusehen, wenn sie blühen., Les fleurs sont belles à voir quand elles s'épanouissent.\\n14: Ich bin müde, weil ich die ganze Nacht gearbeitet habe., Je suis fatigué car j'ai travaillé toute la nuit.\\n15: Mein Vater spielt Tennis seit vielen Jahren., Mon père joue au tennis depuis de nombreuses années.\",\n",
       " 28: \"1: German: Die Katze ist sehr freundlich, French: Le chat est très gentil,\\n2: German: Ich esse jeden Tag ein Stück Brot zum Frühstück, French: Je mange chaque jour un morceau de pain pour le petit déjeuner,\\n3: German: Der Himmel ist heute sehr blau, French: Le ciel est aujourd'hui très bleu,\\n4: German: Meine Mutter backt immer Kuchen für meinen Bruder und mich, French: Ma mère fait toujours des gâteaux pour mon frère et moi,\\n5: German: Das Auto fährt sehr schnell auf der Autobahn, French: La voiture roule très vite sur l'autoroute,\\n6: German: Wir haben gestern Abend einen Film im Kino angesehen, French: Nous avons regardé un film au cinéma hier soir,\\n7: German: Mein Vater arbeitet als Ingenieur in einer großen Firma, French: Mon père travaille comme ingénieur dans une grande entreprise,\\n8: German: Die Blumen sind sehr schön und duften gut, French: Les fleurs sont très belles et sentent bon,\\n9: German: Ich habe mein Fahrrad verkauft, weil ich es nicht mehr benutze, French: J'ai vendu mon vélo parce que je ne l'utilise plus,\\n10: German: Die Stadt ist sehr groß und hat viele Sehenswürdigkeiten, French: La ville est très grande et a beaucoup d'attractions,\\n11: German: Meine Schwester studiert Medizin an der Universität, French: Ma sœur étudie la médecine à l'université,\\n12: German: Der Flug nach Paris dauert etwa zwei Stunden, French: Le vol pour Paris dure environ deux heures,\\n13: German: Ich liebe es, am Wochenende mit Freunden auszugehen, French: J'adore sortir avec des amis le week-end,\\n14: German: Die Bibliothek ist ein wichtiger Ort für Studenten, French: La bibliothèque est un endroit important pour les étudiants,\\n15: German: Mein Onkel wohnt in einem kleinen Dorf in den Bergen, French: Mon oncle habite dans un petit village dans les montagnes\",\n",
       " 29: \"1: German: Die Katze ist sehr freundlich, French: Le chat est très gentil,\\n2: German: Ich gehe jeden Tag spazieren, French: Je vais me promener tous les jours,\\n3: German: Das Wetter ist heute schön, French: Le temps est beau aujourd'hui,\\n4: German: Mein Name ist Hans Müller, French: Mon nom est Hans Müller,\\n5: German: Ich wohne in Berlin, French: J'habite à Berlin,\\n6: German: Die deutsche Sprache ist sehr komplex, French: La langue allemande est très complexe,\\n7: German: Ich esse gerne Pizza, French: J'aime manger de la pizza,\\n8: German: Der Film war sehr interessant, French: Le film était très intéressant,\\n9: German: Ich habe einen Hund namens Max, French: J'ai un chien qui s'appelle Max,\\n10: German: Die Stadt Paris ist sehr schön, French: La ville de Paris est très belle,\\n11: German: Ich studiere an der Universität, French: J'étudie à l'université,\\n12: German: Meine Lieblingssportart ist Fußball, French: Mon sport préféré est le football,\\n13: German: Ich bin sehr müde heute, French: Je suis très fatigué aujourd'hui,\\n14: German: Die Musik ist meine große Leidenschaft, French: La musique est ma grande passion,\\n15: German: Ich werde nächsten Monat nach Frankreich reisen, French: Je voyagerai en France le mois prochain,\",\n",
       " 30: \"1: German: Die Katze ist sehr freundlich, French: Le chat est très gentil,\\n2: German: Ich esse jeden Tag ein Stück Brot zum Frühstück, French: Je mange chaque jour un morceau de pain pour le petit déjeuner,\\n3: German: Der Himmel ist heute blau und die Sonne scheint, French: Le ciel est bleu aujourd'hui et le soleil brille,\\n4: German: Meine Mutter kocht das beste Essen der Welt, French: Ma mère cuisine les meilleurs plats du monde,\\n5: German: Ich gehe jeden Tag auf den Markt, um frische Lebensmittel zu kaufen, French: Je vais tous les jours au marché pour acheter des produits frais,\\n6: German: Mein Bruder spielt seit vielen Jahren Fußball, French: Mon frère joue au football depuis de nombreuses années,\\n7: German: Die Blumen im Garten sind sehr schön und bunt, French: Les fleurs dans le jardin sont très belles et colorées,\\n8: German: Ich liebe es, am Wochenende ins Kino zu gehen, French: J'adore aller au cinéma le week-end,\\n9: German: Mein Vater arbeitet als Ingenieur in einer großen Firma, French: Mon père travaille en tant qu'ingénieur dans une grande entreprise,\\n10: German: Die Stadt ist sehr groß und hat viele Sehenswürdigkeiten, French: La ville est très grande et a beaucoup d'attractions,\\n11: German: Ich habe einen Hund namens Max, French: J'ai un chien nommé Max,\\n12: German: Das Wetter ist heute nicht gut, French: Le temps n'est pas bon aujourd'hui,\\n13: German: Ich bin sehr müde und brauche Schlaf, French: Je suis très fatigué et j'ai besoin de sommeil,\\n14: German: Mein Freund kommt aus Frankreich und spricht Französisch, French: Mon ami vient de France et parle français,\\n15: German: Die Schule beginnt nächsten Montag wieder, French: L'école reprend lundi prochain,\",\n",
       " 31: \"1: German: Die Katze ist sehr freundlich, French: Le chat est très gentil,\\n2: German: Ich gehe jeden Tag ins Fitnessstudio, French: Je vais à la salle de sport tous les jours,\\n3: German: Mein Bruder wohnt in Berlin, French: Mon frère habite à Berlin,\\n4: German: Wir fahren morgen nach Paris, French: Nous partons demain pour Paris,\\n5: German: Das Wetter ist heute schön, French: Le temps est beau aujourd'hui,\\n6: German: Ich esse gerne italienisches Essen, French: J'aime manger de la cuisine italienne,\\n7: German: Meine Schwester studiert Medizin, French: Ma sœur étudie la médecine,\\n8: German: Der Film war sehr interessant, French: Le film était très intéressant,\\n9: German: Ich habe gestern Abend einen Brief geschrieben, French: J'ai écrit une lettre hier soir,\\n10: German: Die Blumen sind sehr hübsch, French: Les fleurs sont très jolies,\\n11: German: Wir haben ein Haus am Meer gekauft, French: Nous avons acheté une maison au bord de la mer,\\n12: German: Mein Vater arbeitet als Ingenieur, French: Mon père travaille comme ingénieur,\\n13: German: Die Stadt ist sehr groß und laut, French: La ville est très grande et bruyante,\\n14: German: Ich bin sehr müde und brauche Schlaf, French: Je suis très fatigué et j'ai besoin de sommeil,\\n15: German: Wir feiern morgen meinen Geburtstag, French: Nous célébrerons mon anniversaire demain\",\n",
       " 32: \"1: German: Die Katze ist sehr freundlich, French: Le chat est très gentil,\\n2: German: Ich esse jeden Tag ein Stück Brot zum Frühstück, French: Je mange chaque jour un morceau de pain pour le petit déjeuner,\\n3: German: Der Himmel ist heute sehr blau und die Sonne scheint, French: Le ciel est aujourd'hui très bleu et le soleil brille,\\n4: German: Meine Mutter backt immer einen Kuchen zu meinem Geburtstag, French: Ma mère fait toujours un gâteau pour mon anniversaire,\\n5: German: Das Auto fährt sehr schnell auf der Autobahn, French: La voiture roule très vite sur l'autoroute,\\n6: German: Ich gehe jeden Tag spazieren im Park, French: Je vais me promener tous les jours dans le parc,\\n7: German: Mein Bruder spielt gerne Fußball mit seinen Freunden, French: Mon frère aime jouer au football avec ses amis,\\n8: German: Die Blumen sind sehr schön und duften gut, French: Les fleurs sont très belles et sentent bon,\\n9: German: Ich trinke jeden Morgen eine Tasse Kaffee, French: Je bois chaque matin une tasse de café,\\n10: German: Der Flug nach Paris dauert etwa zwei Stunden, French: Le vol pour Paris dure environ deux heures,\\n11: German: Meine Schwester liest gerne Bücher über Geschichte, French: Ma sœur aime lire des livres sur l'histoire,\\n12: German: Das Wetter ist heute sehr schlecht und regnet stark, French: Le temps est très mauvais aujourd'hui et il pleut fort,\\n13: German: Ich bin sehr müde und brauche Schlaf, French: Je suis très fatigué et j'ai besoin de sommeil,\\n14: German: Die Stadt ist sehr groß und hat viele Sehenswürdigkeiten, French: La ville est très grande et a beaucoup de sites touristiques,\\n15: German: Mein Vater arbeitet als Ingenieur in einer großen Firma, French: Mon père travaille comme ingénieur dans une grande entreprise,\",\n",
       " 33: \"1: German: Die Katze ist sehr freundlich, French: Le chat est très gentil,\\n2: German: Ich esse jeden Tag ein Stück Brot zum Frühstück, French: Je mange chaque jour une slice de pain pour le petit déjeuner,\\n3: German: Der Hund läuft schnell im Park, French: Le chien court vite dans le parc,\\n4: German: Meine Mutter kocht heute Abend für die ganze Familie, French: Ma mère cuisine ce soir pour toute la famille,\\n5: German: Das Wetter ist heute schön und sonnig, French: Le temps est beau et ensoleillé aujourd'hui,\\n6: German: Wir fahren nächste Woche nach Paris, French: Nous allons à Paris la semaine prochaine,\\n7: German: Mein Bruder spielt Fußball mit seinen Freunden, French: Mon frère joue au football avec ses amis,\\n8: German: Die Blumen sind sehr hübsch und duften gut, French: Les fleurs sont très jolies et sentent bon,\\n9: German: Ich habe gestern mein Fahrrad repariert, French: J'ai réparé mon vélo hier,\\n10: German: Die Schule beginnt um 8 Uhr morgens, French: L'école commence à 8 heures du matin,\\n11: German: Meine Schwester liest gerne Bücher über Geschichte, French: Ma sœur aime lire des livres sur l'histoire,\\n12: German: Der Flug von Berlin nach London dauert etwa eine Stunde, French: Le vol de Berlin à Londres dure environ une heure,\\n13: German: Wir essen am Wochenende oft Pizza oder Sushi, French: Nous mangeons souvent de la pizza ou du sushi le week-end,\\n14: German: Mein Vater arbeitet als Ingenieur bei einer großen Firma, French: Mon père travaille comme ingénieur chez une grande entreprise,\\n15: German: Die Stadt ist sehr groß und hat viele Sehenswürdigkeiten, French: La ville est très grande et a beaucoup de monuments à voir,\",\n",
       " 34: \"1: German: Die Katze ist sehr freundlich, French: Le chat est très amical,\\n2: German: Ich esse jeden Tag ein Stück Brot zum Frühstück, French: Je mange chaque jour un morceau de pain pour le petit déjeuner,\\n3: German: Der Hund läuft schnell im Park, French: Le chien court vite dans le parc,\\n4: German: Meine Mutter kocht heute Abend für die ganze Familie, French: Ma mère cuisine ce soir pour toute la famille,\\n5: German: Das Wetter ist heute schön und sonnig, French: Le temps est beau et ensoleillé aujourd'hui,\\n6: German: Ich habe gestern mein Fahrrad verkauft, French: J'ai vendu mon vélo hier,\\n7: German: Mein Bruder studiert an der Universität Medizin, French: Mon frère étudie la médecine à l'université,\\n8: German: Die Blumen sind rot und gelb, French: Les fleurs sont rouges et jaunes,\\n9: German: Wir fahren nächste Woche in den Urlaub nach Italien, French: Nous partons en vacances en Italie la semaine prochaine,\\n10: German: Ich liebe es, Bücher zu lesen und Filme anzusehen, French: J'adore lire des livres et regarder des films,\\n11: German: Meine Schwester spielt Klavier seit fünf Jahren, French: Ma sœur joue du piano depuis cinq ans,\\n12: German: Der Lehrer erklärt die Mathematik-Aufgaben sehr gut, French: L'enseignant explique les exercices de mathématiques très bien,\\n13: German: Ich bin müde und brauche Schlaf, French: Je suis fatigué et j'ai besoin de sommeil,\\n14: German: Die Stadt ist groß und belebt, French: La ville est grande et animée,\\n15: German: Ich freue mich auf das Konzert morgen Abend, French: Je me réjouis du concert de demain soir,\",\n",
       " 35: \"1: German: Die Katze ist sehr freundlich, French: Le chat est très gentil,\\n2: German: Ich esse jeden Tag ein Stück Brot zum Frühstück, French: Je mange chaque jour un morceau de pain pour le petit déjeuner,\\n3: German: Der Hund läuft schnell im Park, French: Le chien court vite dans le parc,\\n4: German: Meine Mutter kocht heute Abend für uns, French: Ma mère cuisine ce soir pour nous,\\n5: German: Das Wetter ist heute schön und sonnig, French: Le temps est beau et ensoleillé aujourd'hui,\\n6: German: Mein Bruder spielt gerne Fußball mit seinen Freunden, French: Mon frère aime jouer au football avec ses amis,\\n7: German: Die Blumen sind sehr hübsch und duften gut, French: Les fleurs sont très jolies et sentent bon,\\n8: German: Wir fahren nächste Woche an den Strand, French: Nous allons à la plage la semaine prochaine,\\n9: German: Ich habe gestern mein Fahrrad repariert, French: J'ai réparé mon vélo hier,\\n10: German: Meine Schwester liest gerne Bücher über Geschichte, French: Ma sœur aime lire des livres sur l'histoire,\\n11: German: Der Lehrer erklärt die Aufgaben sehr genau, French: L'enseignant explique les tâches très précisément,\\n12: German: Die Stadt ist sehr groß und laut, French: La ville est très grande et bruyante,\\n13: German: Ich trinke jeden Tag eine Tasse Kaffee, French: Je bois chaque jour une tasse de café,\\n14: German: Mein Vater arbeitet als Ingenieur in einer Firma, French: Mon père travaille comme ingénieur dans une entreprise,\\n15: German: Die Schule beginnt um 8 Uhr morgens, French: L'école commence à 8 heures du matin,\",\n",
       " 36: \"1: German: Die Katze ist sehr freundlich, French: Le chat est très gentil,\\n2: German: Ich gehe jeden Tag ins Fitnessstudio, French: Je vais à la salle de sport tous les jours,\\n3: German: Der Hund läuft schnell im Park, French: Le chien court vite dans le parc,\\n4: German: Meine Mutter kocht gern italienisches Essen, French: Ma mère cuisine volontairement des plats italiens,\\n5: German: Das Wetter ist heute schön, French: Le temps est beau aujourd'hui,\\n6: German: Wir fahren nächste Woche nach Paris, French: Nous allons à Paris la semaine prochaine,\\n7: German: Mein Bruder spielt Fußball seit fünf Jahren, French: Mon frère joue au football depuis cinq ans,\\n8: German: Die Blumen sind rot und schön, French: Les fleurs sont rouges et belles,\\n9: German: Ich esse gerne Pizza und Salat, French: J'aime manger de la pizza et du salade,\\n10: German: Der Film beginnt um acht Uhr abends, French: Le film commence à huit heures du soir,\\n11: German: Meine Schwester liest Bücher über Geschichte, French: Ma sœur lit des livres sur l'histoire,\\n12: German: Wir haben einen kleinen Garten hinter unserem Haus, French: Nous avons un petit jardin derrière notre maison,\\n13: German: Der Lehrer erklärt die Mathematik-Aufgaben, French: L'enseignant explique les exercices de mathématiques,\\n14: German: Die Stadt ist groß und laut, French: La ville est grande et bruyante,\\n15: German: Ich möchte ein Auto kaufen, wenn ich älter bin, French: Je veux acheter une voiture quand je serai plus âgé,\",\n",
       " 37: \"1: German: Die Katze ist sehr freundlich, French: Le chat est très gentil,\\n2: German: Ich gehe jeden Tag zum Markt, French: Je vais au marché tous les jours,\\n3: German: Das Wetter ist heute schön, French: Le temps est beau aujourd'hui,\\n4: German: Mein Bruder wohnt in Berlin, French: Mon frère habite à Berlin,\\n5: German: Sie hat einen Hund namens Max, French: Elle a un chien nommé Max,\\n6: German: Wir fahren morgen nach Paris, French: Nous partons demain pour Paris,\\n7: German: Die Blumen sind sehr hübsch, French: Les fleurs sont très jolies,\\n8: German: Er spielt gern Fußball, French: Il aime jouer au football,\\n9: German: Meine Mutter kocht sehr gut, French: Ma mère cuisine très bien,\\n10: German: Der Film war sehr interessant, French: Le film était très intéressant,\\n11: German: Ich habe viele Bücher gelesen, French: J'ai lu beaucoup de livres,\\n12: German: Die Stadt ist sehr groß, French: La ville est très grande,\\n13: German: Wir haben gestern Abend gegessen, French: Nous avons mangé hier soir,\\n14: German: Sie spricht vier Sprachen fließend, French: Elle parle couramment quatre langues,\\n15: German: Mein Vater arbeitet als Ingenieur, French: Mon père travaille comme ingénieur\",\n",
       " 38: \"1: German: Die Katze ist sehr freundlich, French: Le chat est très gentil,\\n2: German: Ich gehe morgen ins Kino, French: Je vais au cinéma demain,\\n3: German: Der Hund bellt laut, French: Le chien aboie fort,\\n4: German: Sie hat einen roten Mantel an, French: Elle porte un manteau rouge,\\n5: German: Wir fahren nächste Woche nach Paris, French: Nous allons à Paris la semaine prochaine,\\n6: German: Das Wetter ist heute schön, French: Le temps est beau aujourd'hui,\\n7: German: Er liest ein interessantes Buch, French: Il lit un livre intéressant,\\n8: German: Die Blumen sind sehr hübsch, French: Les fleurs sont très jolies,\\n9: German: Ich esse gerne Pizza, French: J'aime manger de la pizza,\\n10: German: Mein Bruder wohnt in Berlin, French: Mon frère habite à Berlin,\\n11: German: Die Stadt ist sehr groß, French: La ville est très grande,\\n12: German: Wir haben viel Spaß zusammen, French: Nous nous amusons beaucoup ensemble,\\n13: German: Der Film war sehr langweilig, French: Le film était très ennuyeux,\\n14: German: Ich liebe den Sommer, French: J'adore l'été,\\n15: German: Die Musik ist sehr schön, French: La musique est très belle,\",\n",
       " 39: \"1: German: Die Katze ist sehr freundlich, French: Le chat est très gentil,\\n2: German: Ich gehe jeden Tag zum Schwimmen, French: Je vais nager tous les jours,\\n3: German: Der Hund bellt laut, French: Le chien aboie fort,\\n4: German: Wir fahren morgen nach Paris, French: Nous partons demain pour Paris,\\n5: German: Das Wetter ist heute schön, French: Le temps est beau aujourd'hui,\\n6: German: Mein Bruder spielt Fußball, French: Mon frère joue au football,\\n7: German: Die Blumen sind sehr hübsch, French: Les fleurs sont très jolies,\\n8: German: Ich esse gerne Pizza, French: J'aime manger de la pizza,\\n9: German: Der Film war sehr interessant, French: Le film était très intéressant,\\n10: German: Meine Mutter kocht sehr gut, French: Ma mère cuisine très bien,\\n11: German: Wir haben gestern Abend getanzt, French: Nous avons dansé hier soir,\\n12: German: Das Buch ist sehr langweilig, French: Le livre est très ennuyeux,\\n13: German: Ich bin müde und brauche Schlaf, French: Je suis fatigué et j'ai besoin de sommeil,\\n14: German: Die Stadt ist sehr groß, French: La ville est très grande,\\n15: German: Mein Vater arbeitet als Ingenieur, French: Mon père travaille comme ingénieur,\",\n",
       " 40: \"1: German: Die Katze ist sehr freundlich, French: Le chat est très gentil,\\n2: German: Ich gehe jeden Tag ins Fitnessstudio, French: Je vais à la salle de sport tous les jours,\\n3: German: Der Hund läuft schnell durch den Park, French: Le chien court vite dans le parc,\\n4: German: Meine Mutter kocht ein gutes Essen, French: Ma mère cuisine un bon repas,\\n5: German: Das Auto fährt auf der Autobahn, French: La voiture roule sur l'autoroute,\\n6: German: Die Blumen sind schön und bunt, French: Les fleurs sont belles et colorées,\\n7: German: Ich habe einen Bruder und eine Schwester, French: J'ai un frère et une sœur,\\n8: German: Die Stadt ist groß und laut, French: La ville est grande et bruyante,\\n9: German: Mein Vater arbeitet als Ingenieur, French: Mon père travaille comme ingénieur,\\n10: German: Die Schule beginnt um acht Uhr morgens, French: L'école commence à huit heures du matin,\\n11: German: Ich esse gerne Pizza und Pasta, French: J'aime manger de la pizza et des pâtes,\\n12: German: Der Flug nach Paris dauert drei Stunden, French: Le vol pour Paris dure trois heures,\\n13: German: Die Musik ist laut und angenehm, French: La musique est forte et agréable,\\n14: German: Mein Freund kommt aus Deutschland, French: Mon ami vient d'Allemagne,\\n15: German: Die Sonne scheint hell am Himmel, French: Le soleil brille intensément au ciel\",\n",
       " 41: \"1: German: Die Katze ist sehr freundlich, French: Le chat est très gentil,\\n2: German: Ich esse jeden Tag ein Stück Brot zum Frühstück, French: Je mange chaque jour un morceau de pain pour le petit déjeuner,\\n3: German: Der Hund läuft schnell im Park, French: Le chien court vite dans le parc,\\n4: German: Wir fahren morgen nach Paris, French: Nous allons à Paris demain,\\n5: German: Mein Bruder spielt gern Fußball, French: Mon frère aime jouer au football,\\n6: German: Das Wetter ist heute schön, French: Le temps est beau aujourd'hui,\\n7: German: Ich habe einen kleinen Garten in meinem Haus, French: J'ai un petit jardin dans ma maison,\\n8: German: Meine Schwester liest gerne Bücher, French: Ma sœur aime lire des livres,\\n9: German: Der Lehrer erklärt die Lektion sehr gut, French: L'enseignant explique la leçon très bien,\\n10: German: Wir haben gestern Abend einen Film gesehen, French: Nous avons vu un film hier soir,\\n11: German: Die Blumen sind sehr schön und duften gut, French: Les fleurs sont très belles et sentent bon,\\n12: German: Ich bin müde und brauche Schlaf, French: Je suis fatigué et j'ai besoin de sommeil,\\n13: German: Mein Vater arbeitet als Ingenieur, French: Mon père travaille comme ingénieur,\\n14: German: Die Stadt ist groß und laut, French: La ville est grande et bruyante,\\n15: German: Ich liebe es, am Meer zu schwimmen, French: J'aime nager en mer,\",\n",
       " 42: \"1: German: Die Katze ist sehr freundlich, French: Le chat est très gentil,\\n2: German: Ich esse jeden Tag ein Stück Brot zum Frühstück, French: Je mange chaque jour un morceau de pain pour le petit déjeuner,\\n3: German: Der Hund läuft schnell im Park, French: Le chien court vite dans le parc,\\n4: German: Meine Mutter kocht gern italienisches Essen, French: Ma mère cuisine volontiers des plats italiens,\\n5: German: Das Wetter ist heute schön und sonnig, French: Le temps est beau et ensoleillé aujourd'hui,\\n6: German: Ich habe gestern Abend einen Film im Kino gesehen, French: J'ai vu un film au cinéma hier soir,\\n7: German: Mein Bruder spielt gerne Fußball mit seinen Freunden, French: Mon frère joue volontiers au football avec ses amis,\\n8: German: Die Blumen sind sehr bunt und duften gut, French: Les fleurs sont très colorées et sentent bon,\\n9: German: Wir fahren nächste Woche an den Strand, French: Nous allons à la plage la semaine prochaine,\\n10: German: Ich trinke jeden Morgen eine Tasse Kaffee, French: Je bois chaque matin une tasse de café,\\n11: German: Die Stadt ist groß und hat viele Sehenswürdigkeiten, French: La ville est grande et a beaucoup d'attractions,\\n12: German: Meine Schwester liest gerne Bücher über Geschichte, French: Ma sœur lit volontiers des livres sur l'histoire,\\n13: German: Der Lehrer erklärt die Aufgaben sehr klar, French: L'enseignant explique les exercices très clairement,\\n14: German: Wir haben letztes Jahr eine Reise nach Paris gemacht, French: Nous avons fait un voyage à Paris l'an dernier,\\n15: German: Das Hotelzimmer ist sauber und komfortabel, French: La chambre d'hôtel est propre et confortable\",\n",
       " 43: \"1: German: Die Katze ist sehr freundlich, French: Le chat est très gentil,\\n2: German: Ich esse jeden Tag ein Stück Brot zum Frühstück, French: Je mange chaque jour un morceau de pain pour le petit déjeuner,\\n3: German: Der Hund läuft schnell im Park, French: Le chien court vite dans le parc,\\n4: German: Meine Mutter kocht heute Abend für die ganze Familie, French: Ma mère cuisine ce soir pour toute la famille,\\n5: German: Das Wetter ist heute schön und sonnig, French: Le temps est beau et ensoleillé aujourd'hui,\\n6: German: Ich habe gestern einen Brief an meinen Freund geschrieben, French: J'ai écrit une lettre à mon ami hier,\\n7: German: Die Blumen sind sehr hübsch und duften gut, French: Les fleurs sont très jolies et sentent bon,\\n8: German: Mein Bruder spielt gerne Fußball mit seinen Freunden, French: Mon frère aime jouer au football avec ses amis,\\n9: German: Die Stadt ist groß und hat viele Sehenswürdigkeiten, French: La ville est grande et a beaucoup d'attractions,\\n10: German: Ich bin müde und brauche Schlaf, French: Je suis fatigué et j'ai besoin de sommeil,\\n11: German: Meine Schwester liest gerne Bücher über Geschichte, French: Ma sœur aime lire des livres sur l'histoire,\\n12: German: Der Lehrer erklärt den Schülern das neue Konzept, French: L'enseignant explique aux élèves le nouveau concept,\\n13: German: Die Musik ist laut und macht mich glücklich, French: La musique est forte et me rend heureux,\\n14: German: Ich gehe jeden Sonntag in die Kirche, French: Je vais à l'église tous les dimanches,\\n15: German: Mein Vater arbeitet hart, um unsere Familie zu unterstützen, French: Mon père travaille dur pour soutenir notre famille,\\n\\nNote: Since you asked for only 15 sentences, I stopped at number 15. If you need more, please let me know!\",\n",
       " 44: \"1: German: Die Katze ist sehr freundlich, French: Le chat est très gentil,\\n2: German: Ich esse jeden Tag ein Stück Brot zum Frühstück, French: Je mange chaque jour un morceau de pain pour le petit déjeuner,\\n3: German: Der Himmel ist heute sehr blau, French: Le ciel est aujourd'hui très bleu,\\n4: German: Meine Mutter kocht immer sehr leckeres Essen, French: Ma mère cuisine toujours des plats très délicieux,\\n5: German: Das Auto fährt sehr schnell auf der Autobahn, French: La voiture roule très vite sur l'autoroute,\\n6: German: Wir haben gestern Abend einen schönen Film gesehen, French: Nous avons vu hier soir un beau film,\\n7: German: Mein Bruder spielt gerne Fußball mit seinen Freunden, French: Mon frère joue volontiers au football avec ses amis,\\n8: German: Die Blumen im Garten sind sehr schön und bunt, French: Les fleurs dans le jardin sont très belles et colorées,\\n9: German: Ich habe letzte Woche eine neue Jacke gekauft, French: J'ai acheté une nouvelle veste la semaine dernière,\\n10: German: Der Lehrer erklärt die Aufgaben sehr gut, French: L'enseignant explique les tâches très bien,\\n11: German: Die Stadt ist sehr groß und laut, French: La ville est très grande et bruyante,\\n12: German: Meine Schwester liest gerne Bücher über Geschichte, French: Ma sœur lit volontiers des livres sur l'histoire,\\n13: German: Das Wetter ist heute nicht sehr gut, French: Le temps n'est pas très bon aujourd'hui,\\n14: German: Ich bin sehr müde nach einem langen Tag, French: Je suis très fatigué après une longue journée,\\n15: German: Der Flug nach Paris dauert etwa zwei Stunden, French: Le vol pour Paris dure environ deux heures,\",\n",
       " 45: \"1: German: Die Katze ist sehr freundlich, French: Le chat est très gentil,\\n2: German: Ich gehe jeden Tag ins Fitnessstudio, French: Je vais à la salle de sport tous les jours,\\n3: German: Mein Lieblingsessen ist Pizza, French: Mon plat préféré est la pizza,\\n4: German: Der Film war sehr interessant und unterhaltsam, French: Le film était très intéressant et divertissant,\\n5: German: Ich wohne in einer kleinen Stadt in Deutschland, French: J'habite dans une petite ville en Allemagne,\\n6: German: Meine Familie besteht aus vier Personen, French: Ma famille se compose de quatre personnes,\\n7: German: Ich habe zwei Brüder und eine Schwester, French: J'ai deux frères et une sœur,\\n8: German: Mein Vater arbeitet als Ingenieur, French: Mon père travaille comme ingénieur,\\n9: German: Die Schule beginnt um 8 Uhr morgens, French: L'école commence à 8 heures du matin,\\n10: German: Ich bin sehr müde heute Abend, French: Je suis très fatigué ce soir,\\n11: German: Das Wetter ist heute schön und sonnig, French: Le temps est beau et ensoleillé aujourd'hui,\\n12: German: Ich liebe es, im Sommer am Strand zu entspannen, French: J'aime me détendre sur la plage en été,\\n13: German: Mein bester Freund heißt Max, French: Mon meilleur ami s'appelle Max,\\n14: German: Wir haben gestern Abend ein Fußballspiel gesehen, French: Nous avons regardé un match de football hier soir,\\n15: German: Die neue Bibliothek in unserer Stadt ist sehr groß und modern, French: La nouvelle bibliothèque dans notre ville est très grande et moderne,\",\n",
       " 46: \"1: German: Die Katze ist sehr freundlich, French: Le chat est très gentil,\\n2: German: Ich esse jeden Tag ein Stück Brot zum Frühstück, French: Je mange chaque jour un morceau de pain pour le petit déjeuner,\\n3: German: Der Himmel ist heute sehr blau und die Sonne scheint, French: Le ciel est aujourd'hui très bleu et le soleil brille,\\n4: German: Meine Mutter backt am Wochenende oft Kuchen, French: Ma mère fait souvent des gâteaux le week-end,\\n5: German: Das Auto fährt sehr schnell auf der Autobahn, French: La voiture roule très vite sur l'autoroute,\\n6: German: Wir gehen jeden Samstag ins Kino, French: Nous allons au cinéma tous les samedis,\\n7: German: Mein Bruder spielt gerne Fußball mit seinen Freunden, French: Mon frère aime jouer au football avec ses amis,\\n8: German: Die Blumen im Garten sind sehr schön und duften gut, French: Les fleurs dans le jardin sont très belles et sentent bon,\\n9: German: Ich trinke jeden Morgen einen Kaffee, um wach zu werden, French: Je bois chaque matin un café pour me réveiller,\\n10: German: Die Stadt ist sehr groß und hat viele Sehenswürdigkeiten, French: La ville est très grande et a beaucoup d'attractions,\\n11: German: Mein Vater liest gerne Bücher über Geschichte, French: Mon père aime lire des livres sur l'histoire,\\n12: German: Wir haben gestern Abend eine große Party gefeiert, French: Nous avons célébré une grande fête hier soir,\\n13: German: Die Schule beginnt bald wieder nach den Ferien, French: L'école va bientôt reprendre après les vacances,\\n14: German: Ich möchte eines Tages nach Paris reisen, French: Je voudrais voyager à Paris un jour,\\n15: German: Mein Freund hat mir gestern ein schönes Geschenk gegeben, French: Mon ami m'a offert un beau cadeau hier,\",\n",
       " 47: \"1: German: Die Katze ist sehr freundlich, French: Le chat est très gentil,\\n2: German: Ich esse jeden Tag ein Stück Brot zum Frühstück, French: Je mange chaque jour un morceau de pain pour le petit déjeuner,\\n3: German: Der Hund läuft schnell im Park, French: Le chien court vite dans le parc,\\n4: German: Meine Mutter kocht gern italienisches Essen, French: Ma mère cuisine volontiers des plats italiens,\\n5: German: Das Wetter ist heute schön und sonnig, French: Le temps est beau et ensoleillé aujourd'hui,\\n6: German: Mein Bruder spielt gerne Fußball mit seinen Freunden, French: Mon frère joue volontiers au football avec ses amis,\\n7: German: Die Blumen sind sehr bunt und duften gut, French: Les fleurs sont très colorées et sentent bon,\\n8: German: Ich gehe jeden Sonntag in die Kirche, French: Je vais à l'église tous les dimanches,\\n9: German: Mein Vater arbeitet als Ingenieur in einer großen Firma, French: Mon père travaille comme ingénieur dans une grande entreprise,\\n10: German: Die Stadt ist sehr groß und laut, French: La ville est très grande et bruyante,\\n11: German: Ich liebe es, am Meer zu schwimmen, French: J'adore nager en mer,\\n12: German: Meine Schwester studiert Medizin an der Universität, French: Ma sœur étudie la médecine à l'université,\\n13: German: Der Lehrer erklärt den Schülern die neue Lektion, French: L'enseignant explique aux élèves la nouvelle leçon,\\n14: German: Die Straße ist sehr steil und gefährlich, French: La rue est très escarpée et dangereuse,\\n15: German: Ich möchte eines Tages nach Paris reisen, French: Je voudrais voyager à Paris un jour\",\n",
       " 48: \"1: German: Die Katze ist sehr freundlich, French: Le chat est très gentil,\\n2: German: Ich gehe jeden Tag zum Schwimmen, French: Je vais nager tous les jours,\\n3: German: Mein Bruder wohnt in Berlin, French: Mon frère habite à Berlin,\\n4: German: Wir fahren morgen nach Paris, French: Nous partons demain pour Paris,\\n5: German: Das Wetter ist heute schön, French: Le temps est beau aujourd'hui,\\n6: German: Ich liebe es, Bücher zu lesen, French: J'adore lire des livres,\\n7: German: Meine Mutter ist eine gute Köchin, French: Ma mère est une bonne cuisinière,\\n8: German: Der Film war sehr interessant, French: Le film était très intéressant,\\n9: German: Ich habe gestern Abend getanzt, French: J'ai dansé hier soir,\\n10: German: Die Blumen sind sehr hübsch, French: Les fleurs sont très jolies,\\n11: German: Mein Vater arbeitet als Ingenieur, French: Mon père travaille comme ingénieur,\\n12: German: Wir haben einen Hund namens Max, French: Nous avons un chien nommé Max,\\n13: German: Die Stadt ist sehr groß und laut, French: La ville est très grande et bruyante,\\n14: German: Ich bin gerne im Freien, French: J'aime bien être dehors,\\n15: German: Das Essen war lecker und gesund, French: La nourriture était délicieuse et saine,\",\n",
       " 49: \"1: German: Die Katze ist sehr freundlich, French: Le chat est très gentil,\\n2: German: Ich esse jeden Tag ein Stück Brot zum Frühstück, French: Je mange chaque jour un morceau de pain pour le petit déjeuner,\\n3: German: Der Hund läuft schnell im Park, French: Le chien court vite dans le parc,\\n4: German: Wir fahren morgen nach Paris, French: Nous allons à Paris demain,\\n5: German: Das Wetter ist heute schön, French: Le temps est beau aujourd'hui,\\n6: German: Ich habe einen Bruder und eine Schwester, French: J'ai un frère et une sœur,\\n7: German: Die Blumen sind rot und gelb, French: Les fleurs sont rouges et jaunes,\\n8: German: Mein Name ist Hans Müller, French: Mon nom est Hans Müller,\\n9: German: Ich wohne in einer großen Stadt, French: J'habite dans une grande ville,\\n10: German: Der Film beginnt um 20 Uhr, French: Le film commence à 20 heures,\\n11: German: Ich bin Student an der Universität, French: Je suis étudiant à l'université,\\n12: German: Meine Mutter kocht gern italienisches Essen, French: Ma mère cuisine volontiers des plats italiens,\\n13: German: Der Zug fährt pünktlich um 10 Uhr ab, French: Le train part ponctuellement à 10 heures,\\n14: German: Ich spreche drei Sprachen fließend, French: Je parle couramment trois langues,\\n15: German: Die Bibliothek ist montags geschlossen, French: La bibliothèque est fermée le lundi,\",\n",
       " 50: \"1: German: Die Katze ist sehr freundlich, French: Le chat est très gentil,\\n2: German: Ich esse jeden Tag ein Stück Brot zum Frühstück, French: Je mange chaque jour un morceau de pain pour le petit déjeuner,\\n3: German: Der Himmel ist heute sehr blau, French: Le ciel est aujourd'hui très bleu,\\n4: German: Meine Mutter kocht das beste Essen der Welt, French: Ma mère cuisine les meilleurs plats du monde,\\n5: German: Wir fahren nächste Woche nach Paris, French: Nous allons à Paris la semaine prochaine,\\n6: German: Mein Bruder spielt Fußball seit fünf Jahren, French: Mon frère joue au football depuis cinq ans,\\n7: German: Die Blumen sind im Garten sehr schön, French: Les fleurs sont très belles dans le jardin,\\n8: German: Ich habe gestern Abend einen Film gesehen, French: J'ai vu un film hier soir,\\n9: German: Das Wetter wird morgen besser sein, French: Le temps sera meilleur demain,\\n10: German: Meine Schwester liest gerne Bücher über Geschichte, French: Ma sœur aime lire des livres sur l'histoire,\\n11: German: Der Flug von Berlin nach New York dauert etwa neun Stunden, French: Le vol de Berlin à New York durera environ neuf heures,\\n12: German: Wir haben letztes Jahr eine Reise nach Italien gemacht, French: Nous avons fait un voyage en Italie l'an dernier,\\n13: German: Die Musik ist mein größtes Hobby, French: La musique est mon plus grand hobby,\\n14: German: Ich bin sehr müde und brauche Schlaf, French: Je suis très fatigué et j'ai besoin de sommeil,\\n15: German: Die Schule beginnt am Montag um acht Uhr morgens, French: L'école commence le lundi à huit heures du matin\",\n",
       " 51: \"1: German: Die Katze ist sehr freundlich, French: Le chat est très gentil,\\n2: German: Ich esse jeden Tag ein Stück Brot zum Frühstück, French: Je mange chaque jour un morceau de pain pour le petit déjeuner,\\n3: German: Der Hund läuft schnell im Park, French: Le chien court vite dans le parc,\\n4: German: Meine Mutter kocht heute Abend für die ganze Familie, French: Ma mère cuisine ce soir pour toute la famille,\\n5: German: Das Wetter ist heute schön und sonnig, French: Le temps est beau et ensoleillé aujourd'hui,\\n6: German: Ich habe gestern mein Fahrrad verkauft, French: J'ai vendu mon vélo hier,\\n7: German: Mein Bruder studiert an der Universität Medizin, French: Mon frère étudie la médecine à l'université,\\n8: German: Die Blumen sind sehr hübsch und duften gut, French: Les fleurs sont très jolies et sentent bon,\\n9: German: Wir fahren nächste Woche in den Urlaub nach Italien, French: Nous partons en vacances en Italie la semaine prochaine,\\n10: German: Ich liebe es, am Meer zu schwimmen, French: J'adore nager en mer,\\n11: German: Mein Vater arbeitet als Ingenieur in einer großen Firma, French: Mon père travaille comme ingénieur dans une grande entreprise,\\n12: German: Die Stadt ist sehr groß und laut, French: La ville est très grande et bruyante,\\n13: German: Ich bin sehr müde und brauche Schlaf, French: Je suis très fatigué et j'ai besoin de sommeil,\\n14: German: Meine Schwester spielt gerne Klavier, French: Ma sœur joue volontiers du piano,\\n15: German: Der Film war sehr interessant und unterhaltsam, French: Le film était très intéressant et divertissant\",\n",
       " 52: \"1: German: Die Katze ist sehr freundlich, French: Le chat est très gentil,\\n2: German: Ich esse jeden Tag ein Stück Brot zum Frühstück, French: Je mange chaque jour un morceau de pain pour le petit déjeuner,\\n3: German: Der Hund läuft schnell im Park, French: Le chien court vite dans le parc,\\n4: German: Meine Mutter kocht heute Abend für uns, French: Ma mère cuisine ce soir pour nous,\\n5: German: Das Wetter ist heute schön und sonnig, French: Le temps est beau et ensoleillé aujourd'hui,\\n6: German: Ich habe gestern mein Fahrrad verkauft, French: J'ai vendu mon vélo hier,\\n7: German: Mein Bruder studiert an der Universität Medizin, French: Mon frère étudie la médecine à l'université,\\n8: German: Wir fahren nächsten Monat nach Paris, French: Nous allons à Paris le mois prochain,\\n9: German: Die Blumen sind rot und schön, French: Les fleurs sont rouges et belles,\\n10: German: Ich liebe es, am Meer zu schwimmen, French: J'adore nager en mer,\\n11: German: Mein Vater arbeitet als Ingenieur, French: Mon père travaille comme ingénieur,\\n12: German: Die Stadt ist groß und laut, French: La ville est grande et bruyante,\\n13: German: Ich bin müde und brauche Schlaf, French: Je suis fatigué et j'ai besoin de sommeil,\\n14: German: Meine Schwester spielt Klavier seit fünf Jahren, French: Ma sœur joue du piano depuis cinq ans,\\n15: German: Der Film beginnt um acht Uhr abends, French: Le film commence à huit heures du soir,\",\n",
       " 53: \"1: German: Die Katze ist sehr freundlich, French: Le chat est très gentil,\\n2: German: Ich gehe jeden Tag spazieren, French: Je vais me promener tous les jours,\\n3: German: Mein Bruder wohnt in Berlin, French: Mon frère habite à Berlin,\\n4: German: Die Blumen sind sehr schön, French: Les fleurs sont très belles,\\n5: German: Wir fahren morgen nach Paris, French: Nous partons demain pour Paris,\\n6: German: Ich esse gerne Pizza, French: J'aime manger de la pizza,\\n7: German: Der Film war sehr interessant, French: Le film était très intéressant,\\n8: German: Meine Schwester studiert Medizin, French: Ma sœur étudie la médecine,\\n9: German: Das Wetter ist heute schlecht, French: Le temps est mauvais aujourd'hui,\\n10: German: Ich habe einen Hund namens Max, French: J'ai un chien nommé Max,\\n11: German: Die Stadt ist sehr groß und laut, French: La ville est très grande et bruyante,\\n12: German: Ich liebe es, im Sommer zu schwimmen, French: J'adore nager en été,\\n13: German: Mein Vater arbeitet als Ingenieur, French: Mon père travaille comme ingénieur,\\n14: German: Die Musik ist meine große Leidenschaft, French: La musique est ma grande passion,\\n15: German: Wir feiern morgen meinen Geburtstag, French: Nous célébrerons mon anniversaire demain,\",\n",
       " 54: \"1: German: Die Katze ist sehr freundlich, French: Le chat est très gentil,\\n2: German: Ich esse jeden Tag ein Stück Brot zum Frühstück, French: Je mange chaque jour un morceau de pain pour le petit déjeuner,\\n3: German: Der Hund läuft schnell im Park, French: Le chien court vite dans le parc,\\n4: German: Meine Mutter kocht heute Abend für uns, French: Ma mère cuisine ce soir pour nous,\\n5: German: Das Wetter ist heute schön und sonnig, French: Le temps est beau et ensoleillé aujourd'hui,\\n6: German: Ich habe gestern mein Fahrrad repariert, French: J'ai réparé mon vélo hier,\\n7: German: Mein Bruder studiert an der Universität, French: Mon frère étudie à l'université,\\n8: German: Die Blumen sind rot und schön, French: Les fleurs sont rouges et belles,\\n9: German: Wir fahren nächsten Monat nach Paris, French: Nous allons à Paris le mois prochain,\\n10: German: Ich liebe es, am Strand zu entspannen, French: J'adore me détendre sur la plage,\\n11: German: Mein Vater arbeitet als Ingenieur, French: Mon père travaille comme ingénieur,\\n12: German: Die Stadt ist groß und laut, French: La ville est grande et bruyante,\\n13: German: Ich bin müde und brauche Schlaf, French: Je suis fatigué et j'ai besoin de sommeil,\\n14: German: Meine Schwester spielt gerne Tennis, French: Ma sœur joue au tennis avec plaisir,\\n15: German: Der Film war interessant und unterhaltsam, French: Le film était intéressant et divertissant\",\n",
       " 55: \"1: German: Die Katze ist sehr freundlich, French: Le chat est très gentil,\\n2: German: Ich gehe jeden Tag ins Fitnessstudio, French: Je vais à la salle de sport tous les jours,\\n3: German: Der Hund läuft schnell im Park, French: Le chien court vite dans le parc,\\n4: German: Meine Mutter kocht ein gutes Essen, French: Ma mère cuisine un bon repas,\\n5: German: Das Auto fährt auf der Autobahn, French: La voiture roule sur l'autoroute,\\n6: German: Die Blumen sind schön und bunt, French: Les fleurs sont belles et colorées,\\n7: German: Ich liebe den Sommerurlaub am Meer, French: J'adore les vacances d'été au bord de la mer,\\n8: German: Mein Bruder spielt Fußball mit seinen Freunden, French: Mon frère joue au football avec ses amis,\\n9: German: Die Stadt ist groß und laut, French: La ville est grande et bruyante,\\n10: German: Ich esse gerne Pizza und Pasta, French: J'aime manger de la pizza et des pâtes,\\n11: German: Der Lehrer erklärt die Aufgaben sehr gut, French: L'enseignant explique les tâches très bien,\\n12: German: Die Musik ist schön und beruhigend, French: La musique est belle et apaisante,\\n13: German: Ich bin froh, dass ich Urlaub habe, French: Je suis heureux d'avoir des vacances,\\n14: German: Das Wetter ist heute sehr schlecht, French: Le temps est très mauvais aujourd'hui,\\n15: German: Ich hoffe, dass ich bald wieder nach Paris reise, French: J'espère que je pourrai bientôt voyager à nouveau à Paris,\",\n",
       " 56: \"1: German: Die Katze ist sehr freundlich, French: Le chat est très gentil,\\n2: German: Ich esse jeden Tag ein Stück Brot zum Frühstück, French: Je mange chaque jour un morceau de pain pour le petit déjeuner,\\n3: German: Der Himmel ist heute sehr blau, French: Le ciel est aujourd'hui très bleu,\\n4: German: Meine Mutter backt am Wochenende oft Kuchen, French: Ma mère fait souvent des gâteaux le week-end,\\n5: German: Das Auto fährt sehr schnell auf der Autobahn, French: La voiture roule très vite sur l'autoroute,\\n6: German: Ich habe gestern Abend einen Film im Kino gesehen, French: J'ai vu un film au cinéma hier soir,\\n7: German: Mein Bruder spielt gerne Fußball mit seinen Freunden, French: Mon frère aime jouer au football avec ses amis,\\n8: German: Die Blumen sind schön und duften gut, French: Les fleurs sont belles et sentent bon,\\n9: German: Wir gehen nächste Woche an den Strand, French: Nous allons à la plage la semaine prochaine,\\n10: German: Ich trinke jeden Morgen eine Tasse Kaffee, French: Je bois chaque matin une tasse de café,\\n11: German: Die Stadt ist groß und hat viele Sehenswürdigkeiten, French: La ville est grande et a beaucoup d'attractions,\\n12: German: Meine Schwester liest gerne Bücher über Geschichte, French: Ma sœur aime lire des livres sur l'histoire,\\n13: German: Der Flug nach Paris dauert etwa zwei Stunden, French: Le vol pour Paris dure environ deux heures,\\n14: German: Ich mag es, wenn die Sonne scheint, French: J'aime quand le soleil brille,\\n15: German: Wir feiern Weihnachten jedes Jahr bei meiner Familie, French: Nous célébrons Noël chaque année chez ma famille,\",\n",
       " 57: \"1: German: Die Katze ist sehr freundlich, French: Le chat est très gentil,\\n2: German: Ich esse jeden Tag ein Stück Brot zum Frühstück, French: Je mange chaque jour un morceau de pain pour le petit déjeuner,\\n3: German: Der Hund läuft schnell im Park, French: Le chien court vite dans le parc,\\n4: German: Mein Bruder wohnt in Berlin und studiert Medizin, French: Mon frère habite à Berlin et étudie la médecine,\\n5: German: Die Blumen sind schön und duften gut, French: Les fleurs sont belles et sentent bon,\\n6: German: Wir fahren morgen nach Paris mit dem Zug, French: Nous allons à Paris demain en train,\\n7: German: Das Wetter ist heute schlecht, es regnet stark, French: Le temps est mauvais aujourd'hui, il pleut fort,\\n8: German: Meine Schwester spielt gerne Klavier und singt schön, French: Ma sœur joue volontiers du piano et chante bien,\\n9: German: Der Lehrer erklärt die Aufgaben sehr klar, French: L'enseignant explique les tâches très clairement,\\n10: German: Ich habe gestern Abend einen interessanten Film gesehen, French: J'ai vu un film intéressant hier soir,\\n11: German: Die Stadt ist groß und hat viele Sehenswürdigkeiten, French: La ville est grande et a beaucoup d'attractions,\\n12: German: Mein Vater arbeitet als Ingenieur und verdient gut, French: Mon père travaille comme ingénieur et gagne bien,\\n13: German: Die Kinder spielen glücklich im Garten, French: Les enfants jouent heureux dans le jardin,\\n14: German: Wir essen am Wochenende oft bei meinen Großeltern, French: Nous mangeons souvent chez mes grands-parents le week-end,\\n15: German: Der Flug von Frankfurt nach New York dauert etwa neun Stunden, French: Le vol de Francfort à New York dure environ neuf heures\",\n",
       " 58: \"1: German: Die Katze ist sehr freundlich, French: Le chat est très gentil,\\n2: German: Ich gehe jeden Tag spazieren, French: Je vais me promener tous les jours,\\n3: German: Mein Name ist Hans Müller, French: Mon nom est Hans Müller,\\n4: German: Die Stadt Berlin ist sehr schön, French: La ville de Berlin est très belle,\\n5: German: Ich esse gerne Pizza und Pasta, French: J'aime manger de la pizza et des pâtes,\\n6: German: Der Film war sehr interessant und unterhaltsam, French: Le film était très intéressant et divertissant,\\n7: German: Meine Familie wohnt in München, French: Ma famille habite à Munich,\\n8: German: Ich bin Student an der Universität, French: Je suis étudiant à l'université,\\n9: German: Das Wetter ist heute sehr schlecht, French: Le temps est très mauvais aujourd'hui,\\n10: German: Ich liebe es, im Sommer am Strand zu sein, French: J'adore être sur la plage en été,\\n11: German: Die Berge sind sehr hoch und steil, French: Les montagnes sont très hautes et escarpées,\\n12: German: Ich habe einen kleinen Bruder, French: J'ai un petit frère,\\n13: German: Die Blumen sind sehr schöne Geschenke, French: Les fleurs sont de très beaux cadeaux,\\n14: German: Ich bin sehr müde und brauche Schlaf, French: Je suis très fatigué et j'ai besoin de sommeil,\\n15: German: Die Musik ist meine große Leidenschaft, French: La musique est ma grande passion,\",\n",
       " 59: '1: German: Die Katze ist sehr freundlich, French: Le chat est très gentil,\\n2: German: Ich esse jeden Tag ein Stück Brot zum Frühstück, French: Je mange chaque jour un morceau de pain pour le petit déjeuner,\\n3: German: Der Himmel ist heute sehr blau, French: Le ciel est aujourd\\'hui très bleu,\\n4: German: Meine Mutter kocht das beste Essen der Welt, French: Ma mère cuisine les meilleures nourritures du monde,\\n5: German: Ich gehe gerne ins Kino, um Filme zu sehen, French: J\\'aime aller au cinéma pour voir des films,\\n6: German: Mein Bruder spielt Fußball seit fünf Jahren, French: Mon frère joue au football depuis cinq ans,\\n7: German: Die Blumen sind schön und bunt, French: Les fleurs sont belles et colorées,\\n8: German: Wir fahren nächste Woche nach Paris, French: Nous allons à Paris la semaine prochaine,\\n9: German: Ich habe einen Hund namens Max, French: J\\'ai un chien nommé Max,\\n10: German: Das Wetter ist heute schlecht, French: La météo est mauvaise aujourd\\'hui,\\n11: German: Ich liebe es, am Strand spazieren, French: J\\'adore me promener sur la plage,\\n12: German: Mein Lieblingsbuch ist \"Der Alchemist\", French: Mon livre préféré est \"L\\'alchimiste\",\\n13: German: Die Musik ist laut und schön, French: La musique est forte et belle,\\n14: German: Ich bin müde und brauche Schlaf, French: Je suis fatigué et j\\'ai besoin de sommeil,\\n15: German: Die Sonne scheint hell und warm, French: Le soleil brille avec intensité et chaudement,',\n",
       " 60: \"1: German: Die Katze ist sehr freundlich, French: Le chat est très gentil,\\n2: German: Ich gehe jeden Tag ins Fitnessstudio, French: Je vais à la salle de sport tous les jours,\\n3: German: Mein Bruder wohnt in Berlin, French: Mon frère habite à Berlin,\\n4: German: Wir fahren morgen nach Paris, French: Nous partons demain pour Paris,\\n5: German: Das Wetter ist heute schön, French: Le temps est beau aujourd'hui,\\n6: German: Ich liebe es, Bücher zu lesen, French: J'adore lire des livres,\\n7: German: Meine Schwester studiert Medizin, French: Ma sœur étudie la médecine,\\n8: German: Der Film war sehr interessant, French: Le film était très intéressant,\\n9: German: Ich habe Hunger, ich möchte etwas essen, French: J'ai faim, je voudrais manger quelque chose,\\n10: German: Die Stadt ist sehr groß und laut, French: La ville est très grande et bruyante,\\n11: German: Ich bin müde, ich brauche Schlaf, French: Je suis fatigué, j'ai besoin de sommeil,\\n12: German: Mein Vater arbeitet als Ingenieur, French: Mon père travaille comme ingénieur,\\n13: German: Wir haben gestern Abend ein gutes Essen gegessen, French: Nous avons mangé un bon repas hier soir,\\n14: German: Die Blumen sind sehr schön und duften gut, French: Les fleurs sont très belles et sentent bon,\\n15: German: Ich freue mich auf den Urlaub, French: Je me réjouis des vacances,\",\n",
       " 61: \"1: German: Die Katze ist sehr freundlich, French: Le chat est très gentil,\\n2: German: Ich gehe jeden Tag zum Schwimmen, French: Je vais nager tous les jours,\\n3: German: Der Himmel ist heute blau und sonnig, French: Le ciel est bleu et ensoleillé aujourd'hui,\\n4: German: Meine Mutter kocht das beste Essen der Welt, French: Ma mère cuisine le meilleur repas du monde,\\n5: German: Das Auto fährt sehr schnell auf der Autobahn, French: La voiture roule très vite sur l'autoroute,\\n6: German: Die Blumen sind schön und bunt, French: Les fleurs sont belles et colorées,\\n7: German: Ich liebe es, im Park spazieren zu gehen, French: J'adore me promener dans le parc,\\n8: German: Mein Bruder spielt Fußball mit seinen Freunden, French: Mon frère joue au football avec ses amis,\\n9: German: Die Stadt ist groß und laut, French: La ville est grande et bruyante,\\n10: German: Ich esse gerne Pizza und Pasta, French: J'aime manger de la pizza et des pâtes,\\n11: German: Der Lehrer erklärt die Lektion sehr gut, French: L'enseignant explique la leçon très bien,\\n12: German: Die Musik ist schön und beruhigend, French: La musique est belle et apaisante,\\n13: German: Ich bin müde und brauche Schlaf, French: Je suis fatigué et j'ai besoin de sommeil,\\n14: German: Die Sonne scheint hell am Morgen, French: Le soleil brille fort le matin,\\n15: German: Ich freue mich darauf, Urlaub zu machen, French: Je me réjouis de partir en vacances,\",\n",
       " 62: \"1: German: Die Katze ist sehr freundlich, French: Le chat est très gentil,\\n2: German: Ich gehe jeden Tag zum Schwimmen, French: Je vais nager tous les jours,\\n3: German: Mein Lieblingsessen ist Pizza, French: Mon plat préféré est la pizza,\\n4: German: Der Hund läuft schnell im Park, French: Le chien court vite dans le parc,\\n5: German: Wir fahren morgen nach Paris, French: Nous partons demain pour Paris,\\n6: German: Das Wetter ist heute schön, French: Le temps est beau aujourd'hui,\\n7: German: Ich habe einen kleinen Bruder, French: J'ai un petit frère,\\n8: German: Die Blumen sind sehr hübsch, French: Les fleurs sont très jolies,\\n9: German: Ich mag es, Bücher zu lesen, French: J'aime lire des livres,\\n10: German: Meine Mutter kocht gern, French: Ma mère cuisine volontiers,\\n11: German: Der Film war sehr interessant, French: Le film était très intéressant,\\n12: German: Wir haben gestern Abend getanzt, French: Nous avons dansé hier soir,\\n13: German: Die Stadt ist sehr groß, French: La ville est très grande,\\n14: German: Ich bin müde und möchte schlafen, French: Je suis fatigué et je veux dormir,\\n15: German: Das Meer ist sehr tief, French: Le mer est très profond,\",\n",
       " 63: \"1: German: Die Katze ist sehr freundlich, French: Le chat est très gentil,\\n2: German: Ich esse jeden Tag ein Stück Brot zum Frühstück, French: Je mange chaque jour un morceau de pain pour le petit déjeuner,\\n3: German: Der Hund läuft schnell im Park, French: Le chien court vite dans le parc,\\n4: German: Meine Mutter kocht gern italienisches Essen, French: Ma mère cuisine volontiers des plats italiens,\\n5: German: Das Wetter ist heute schön und sonnig, French: Le temps est beau et ensoleillé aujourd'hui,\\n6: German: Ich habe gestern Abend einen Film im Kino gesehen, French: J'ai vu un film au cinéma hier soir,\\n7: German: Mein Bruder spielt Fußball mit seinen Freunden, French: Mon frère joue au football avec ses amis,\\n8: German: Die Blumen sind sehr hübsch und duften gut, French: Les fleurs sont très jolies et sentent bon,\\n9: German: Wir fahren nächste Woche an den Strand, French: Nous allons à la plage la semaine prochaine,\\n10: German: Ich trinke jeden Tag eine Tasse Kaffee, French: Je bois une tasse de café chaque jour,\\n11: German: Meine Schwester liest gerne Bücher über Geschichte, French: Ma sœur lit volontiers des livres sur l'histoire,\\n12: German: Der Lehrer erklärt die Aufgaben sehr klar, French: L'enseignant explique les exercices très clairement,\\n13: German: Die Stadt ist groß und hat viele Sehenswürdigkeiten, French: La ville est grande et a beaucoup d'attractions,\\n14: German: Ich höre gerne Musik auf meinem Weg zur Arbeit, French: J'aime écouter de la musique pendant mon trajet vers le travail,\\n15: German: Mein Vater arbeitet als Ingenieur in einer großen Firma, French: Mon père travaille comme ingénieur dans une grande entreprise,\",\n",
       " 64: \"1: German: Die Katze ist sehr freundlich, French: Le chat est très gentil,\\n2: German: Ich esse jeden Tag ein Stück Brot zum Frühstück, French: Je mange chaque jour un morceau de pain pour le petit déjeuner,\\n3: German: Der Hund läuft schnell im Park, French: Le chien court vite dans le parc,\\n4: German: Meine Mutter kocht sehr gut, French: Ma mère cuisine très bien,\\n5: German: Das Wetter ist heute schön, French: Le temps est beau aujourd'hui,\\n6: German: Ich habe einen kleinen Bruder, French: J'ai un petit frère,\\n7: German: Die Blumen sind rot und gelb, French: Les fleurs sont rouges et jaunes,\\n8: German: Mein Vater arbeitet als Ingenieur, French: Mon père travaille comme ingénieur,\\n9: German: Wir fahren nächste Woche ins Gebirge, French: Nous allons en montagne la semaine prochaine,\\n10: German: Die Stadt ist groß und laut, French: La ville est grande et bruyante,\\n11: German: Ich liebe es, Bücher zu lesen, French: J'adore lire des livres,\\n12: German: Der Flug nach Paris dauert drei Stunden, French: Le vol pour Paris dure trois heures,\\n13: German: Meine Schwester studiert Medizin, French: Ma sœur étudie la médecine,\\n14: German: Das Auto ist sehr teuer, French: La voiture est très cher,\\n15: German: Wir essen am Sonntag immer zusammen, French: Nous mangeons toujours ensemble le dimanche,\",\n",
       " 65: \"1: German: Die Katze ist sehr freundlich, French: Le chat est très gentil,\\n2: German: Ich gehe morgen ins Kino, French: Je vais au cinéma demain,\\n3: German: Der Hund bellt laut, French: Le chien aboie fort,\\n4: German: Sie hat einen roten Pullover an, French: Elle porte un pulloveur rouge,\\n5: German: Wir fahren nächsten Monat nach Paris, French: Nous allons à Paris le mois prochain,\\n6: German: Das Wetter ist heute schön, French: La météo est belle aujourd'hui,\\n7: German: Er liest ein interessantes Buch, French: Il lit un livre intéressant,\\n8: German: Die Blumen sind sehr hübsch, French: Les fleurs sont très jolies,\\n9: German: Ich esse gerne Pizza, French: J'aime manger de la pizza,\\n10: German: Mein Bruder wohnt in Berlin, French: Mon frère habite à Berlin,\\n11: German: Die Stadt ist sehr groß, French: La ville est très grande,\\n12: German: Wir haben gestern Abend getanzt, French: Nous avons dansé hier soir,\\n13: German: Sie sprechen fünf Sprachen fließend, French: Elle parle cinq langues couramment,\\n14: German: Der Film war sehr unterhaltsam, French: Le film était très divertissant,\\n15: German: Ich liebe den Sommer, French: J'adore l'été,\",\n",
       " 66: \"1: German: Die Katze ist sehr freundlich, French: Le chat est très gentil,\\n2: German: Ich gehe jeden Tag zum Park, French: Je vais au parc tous les jours,\\n3: German: Das Wetter ist heute schön, French: Le temps est beau aujourd'hui,\\n4: German: Meine Mutter kocht sehr gut, French: Ma mère cuisine très bien,\\n5: German: Der Hund ist sehr groß, French: Le chien est très grand,\\n6: German: Wir fahren nächste Woche nach Paris, French: Nous allons à Paris la semaine prochaine,\\n7: German: Die Blumen sind sehr hübsch, French: Les fleurs sont très jolies,\\n8: German: Mein Bruder spielt Fußball, French: Mon frère joue au football,\\n9: German: Die Stadt ist sehr sauber, French: La ville est très propre,\\n10: German: Ich esse gerne Pizza, French: J'aime manger de la pizza,\\n11: German: Die Schule beginnt um 8 Uhr, French: L'école commence à 8 heures,\\n12: German: Mein Vater arbeitet als Ingenieur, French: Mon père travaille comme ingénieur,\\n13: German: Die Musik ist sehr laut, French: La musique est très forte,\\n14: German: Wir haben einen großen Garten, French: Nous avons un grand jardin,\\n15: German: Ich liebe den Sommer, French: J'adore l'été,\",\n",
       " 67: \"1: German: Die Katze ist sehr freundlich, French: Le chat est très gentil,\\n2: German: Ich esse jeden Tag ein Stück Brot zum Frühstück, French: Je mange chaque jour un morceau de pain pour le petit déjeuner,\\n3: German: Der Hund läuft schnell im Park, French: Le chien court vite dans le parc,\\n4: German: Meine Mutter kocht heute Abend für uns, French: Ma mère cuisine ce soir pour nous,\\n5: German: Das Wetter ist heute schön und sonnig, French: Le temps est beau et ensoleillé aujourd'hui,\\n6: German: Ich gehe jeden Sonntag in die Kirche, French: Je vais à l'église tous les dimanches,\\n7: German: Mein Bruder spielt gerne Fußball, French: Mon frère aime jouer au football,\\n8: German: Die Blumen sind sehr hübsch und duften gut, French: Les fleurs sont très jolies et sentent bon,\\n9: German: Wir fahren nächste Woche an den Strand, French: Nous allons à la plage la semaine prochaine,\\n10: German: Ich habe gestern einen Brief geschrieben, French: J'ai écrit une lettre hier,\\n11: German: Die Stadt ist groß und laut, French: La ville est grande et bruyante,\\n12: German: Meine Schwester liest gerne Bücher, French: Ma sœur aime lire des livres,\\n13: German: Der Lehrer erklärt die Aufgaben sehr gut, French: L'enseignant explique les tâches très bien,\\n14: German: Wir haben heute eine Prüfung in der Schule, French: Nous avons un examen à l'école aujourd'hui,\\n15: German: Die Landschaft ist wunderschön und grün, French: Le paysage est magnifique et vert,\",\n",
       " 68: \"1: German: Die Katze ist sehr freundlich, French: Le chat est très gentil,\\n2: German: Ich esse jeden Tag ein Stück Brot zum Frühstück, French: Je mange chaque jour un morceau de pain pour le petit déjeuner,\\n3: German: Der Hund läuft schnell im Park, French: Le chien court vite dans le parc,\\n4: German: Meine Mutter kocht gern italienisches Essen, French: Ma mère cuisine volontiers des plats italiens,\\n5: German: Das Wetter ist heute schön und sonnig, French: Le temps est beau et ensoleillé aujourd'hui,\\n6: German: Ich habe einen Bruder, der in Paris wohnt, French: J'ai un frère qui vit à Paris,\\n7: German: Die Blumen sind rot und schön, French: Les fleurs sont rouges et belles,\\n8: German: Wir fahren nächste Woche nach Berlin, French: Nous allons à Berlin la semaine prochaine,\\n9: German: Mein Vater liest gerne Bücher über Geschichte, French: Mon père lit volontiers des livres sur l'histoire,\\n10: German: Die Stadt ist groß und laut, French: La ville est grande et bruyante,\\n11: German: Ich mag den Sommer mehr als den Winter, French: Je préfère l'été au hiver,\\n12: German: Die Musik ist schön und beruhigend, French: La musique est belle et apaisante,\\n13: German: Wir essen am Wochenende oft Pizza, French: Nous mangeons souvent de la pizza le week-end,\\n14: German: Mein Freund kommt aus Spanien, French: Mon ami vient d'Espagne,\\n15: German: Die Berge sind hoch und schneebedeckt, French: Les montagnes sont hautes et couvertes de neige\",\n",
       " 69: \"1: German: Die Katze ist sehr freundlich, French: Le chat est très gentil,\\n2: German: Ich esse jeden Tag ein Stück Brot zum Frühstück, French: Je mange chaque jour un morceau de pain pour le petit déjeuner,\\n3: German: Der Hund läuft schnell im Park, French: Le chien court vite dans le parc,\\n4: German: Meine Mutter kocht heute Abend für die ganze Familie, French: Ma mère cuisine ce soir pour toute la famille,\\n5: German: Das Wetter ist heute schön und sonnig, French: Le temps est beau et ensoleillé aujourd'hui,\\n6: German: Ich habe gestern mein Fahrrad verkauft, French: J'ai vendu mon vélo hier,\\n7: German: Mein Bruder studiert an der Universität Medizin, French: Mon frère étudie la médecine à l'université,\\n8: German: Die Blumen sind rot und gelb, French: Les fleurs sont rouges et jaunes,\\n9: German: Wir fahren nächste Woche in den Urlaub nach Italien, French: Nous partons en vacances en Italie la semaine prochaine,\\n10: German: Ich bin müde und brauche Schlaf, French: Je suis fatigué et j'ai besoin de sommeil,\\n11: German: Mein Vater arbeitet als Ingenieur bei einer großen Firma, French: Mon père travaille comme ingénieur dans une grande entreprise,\\n12: German: Die Stadt ist groß und laut, French: La ville est grande et bruyante,\\n13: German: Ich liebe es, am Meer zu schwimmen, French: J'adore nager en mer,\\n14: German: Meine Schwester spielt Klavier seit fünf Jahren, French: Ma sœur joue du piano depuis cinq ans,\\n15: German: Der Film beginnt um 20 Uhr im Kino, French: Le film commence à 20 heures au cinéma\",\n",
       " 70: \"1: German: Die Katze ist sehr freundlich, French: Le chat est très gentil,\\n2: German: Ich gehe jeden Tag ins Fitnessstudio, French: Je vais à la salle de sport tous les jours,\\n3: German: Der Hund bellt laut, French: Le chien aboie fort,\\n4: German: Wir fahren morgen nach Paris, French: Nous partons demain pour Paris,\\n5: German: Das Wetter ist heute schön, French: Le temps est beau aujourd'hui,\\n6: German: Mein Bruder studiert im Ausland, French: Mon frère étudie à l'étranger,\\n7: German: Die Blumen sind sehr hübsch, French: Les fleurs sont très jolies,\\n8: German: Ich esse gerne Pizza, French: J'adore manger de la pizza,\\n9: German: Der Film war sehr interessant, French: Le film était très intéressant,\\n10: German: Meine Schwester spielt Klavier, French: Ma sœur joue du piano,\\n11: German: Wir haben gestern Abend einen schönen Spaziergang gemacht, French: Nous avons fait une belle promenade hier soir,\\n12: German: Der Lehrer erklärt die Aufgaben sehr gut, French: L'enseignant explique les tâches très bien,\\n13: German: Die Stadt ist sehr groß und belebt, French: La ville est très grande et animée,\\n14: German: Ich habe mein Fahrrad vergessen, French: J'ai oublié mon vélo,\\n15: German: Die Familie feiert Weihnachten zusammen, French: La famille célèbre Noël ensemble\",\n",
       " 71: \"1: German: Die Katze ist sehr freundlich, French: Le chat est très gentil,\\n2: German: Ich esse jeden Tag ein Stück Brot zum Frühstück, French: Je mange chaque jour un morceau de pain pour le petit déjeuner,\\n3: German: Der Hund läuft schnell im Park, French: Le chien court vite dans le parc,\\n4: German: Meine Mutter kocht sehr gutes Essen, French: Ma mère cuisine très bien,\\n5: German: Das Wetter ist heute schön, French: Le temps est beau aujourd'hui,\\n6: German: Ich gehe jeden Sonntag ins Kino, French: Je vais au cinéma tous les dimanches,\\n7: German: Mein Bruder spielt Fußball sehr gut, French: Mon frère joue très bien au football,\\n8: German: Die Blumen sind sehr hübsch und duften gut, French: Les fleurs sont très jolies et sentent bon,\\n9: German: Ich liebe es, am Meer zu schwimmen, French: J'adore nager en mer,\\n10: German: Meine Schwester liest gerne Bücher über Geschichte, French: Ma sœur aime lire des livres sur l'histoire,\\n11: German: Der Lehrer erklärt die Aufgaben sehr klar, French: L'enseignant explique les tâches très clairement,\\n12: German: Ich bin müde und brauche Schlaf, French: Je suis fatigué et j'ai besoin de sommeil,\\n13: German: Die Stadt ist groß und hat viele Sehenswürdigkeiten, French: La ville est grande et a beaucoup d'attractions,\\n14: German: Mein Vater arbeitet als Ingenieur in einer Firma, French: Mon père travaille comme ingénieur dans une entreprise,\\n15: German: Ich möchte nach Paris reisen und den Eiffelturm besuchen, French: Je veux voyager à Paris et visiter la tour Eiffel,\",\n",
       " 72: \"1: German: Die Katze ist sehr freundlich, French: Le chat est très gentil,\\n2: German: Ich gehe jeden Tag ins Fitnessstudio, French: Je vais à la salle de sport tous les jours,\\n3: German: Mein Bruder wohnt in Berlin, French: Mon frère habite à Berlin,\\n4: German: Die Blumen sind schön und duften gut, French: Les fleurs sont belles et sentent bon,\\n5: German: Wir fahren morgen nach Paris, French: Nous partons demain pour Paris,\\n6: German: Ich esse gerne Pizza und Sushi, French: J'aime manger de la pizza et du sushi,\\n7: German: Der Film war langweilig und ich habe ihn nicht gemocht, French: Le film était ennuyeux et je ne l'ai pas aimé,\\n8: German: Meine Schwester spielt Klavier seit fünf Jahren, French: Ma sœur joue du piano depuis cinq ans,\\n9: German: Das Wetter ist heute schlecht, French: Le temps est mauvais aujourd'hui,\\n10: German: Ich bin müde und brauche Schlaf, French: Je suis fatigué et j'ai besoin de sommeil,\\n11: German: Die Stadt ist groß und laut, French: La ville est grande et bruyante,\\n12: German: Ich liebe den Sommer und das Meer, French: J'adore l'été et la mer,\\n13: German: Mein Vater arbeitet als Ingenieur, French: Mon père travaille comme ingénieur,\\n14: German: Die Schule beginnt um acht Uhr morgens, French: L'école commence à huit heures du matin,\\n15: German: Ich werde nächstes Jahr nach Deutschland zurückkehren, French: Je reviendrai en Allemagne l'année prochaine,\",\n",
       " 73: \"1: German: Die Katze ist sehr freundlich, French: Le chat est très gentil,\\n2: German: Ich gehe jeden Tag zum Park, French: Je vais au parc tous les jours,\\n3: German: Das Wetter ist heute schön, French: Le temps est beau aujourd'hui,\\n4: German: Mein Name ist Hans Müller, French: Mon nom est Hans Müller,\\n5: German: Ich spreche ein bisschen Französisch, French: Je parle un peu français,\\n6: German: Die Stadt Berlin ist sehr groß, French: La ville de Berlin est très grande,\\n7: German: Ich liebe es, Bücher zu lesen, French: J'adore lire des livres,\\n8: German: Der Film war sehr interessant, French: Le film était très intéressant,\\n9: German: Ich habe einen Hund namens Max, French: J'ai un chien qui s'appelle Max,\\n10: German: Die Schule beginnt um 8 Uhr morgens, French: L'école commence à 8 heures du matin,\\n11: German: Ich bin Student an der Universität, French: Je suis étudiant à l'université,\\n12: German: Meine Lieblingsfarbe ist blau, French: Ma couleur préférée est le bleu,\\n13: German: Ich esse gerne Pizza und Pasta, French: J'aime manger de la pizza et des pâtes,\\n14: German: Der Sommer ist meine liebste Jahreszeit, French: L'été est ma saison favorite,\\n15: German: Ich wohne in einer kleinen Wohnung, French: J'habite dans un petit appartement\",\n",
       " 74: \"1: German: Die Katze ist sehr freundlich, French: Le chat est très gentil,\\n2: German: Ich gehe jeden Tag ins Fitnessstudio, French: Je vais à la salle de sport tous les jours,\\n3: German: Der Hund bellt laut, French: Le chien aboie fort,\\n4: German: Wir fahren morgen nach Paris, French: Nous partons demain pour Paris,\\n5: German: Das Wetter ist heute schön, French: Le temps est beau aujourd'hui,\\n6: German: Ich esse gerne Pizza, French: J'aime manger de la pizza,\\n7: German: Mein Bruder wohnt in Berlin, French: Mon frère habite à Berlin,\\n8: German: Die Blumen sind sehr hübsch, French: Les fleurs sont très jolies,\\n9: German: Ich habe einen kleinen Garten, French: J'ai un petit jardin,\\n10: German: Wir haben gestern Abend ein gutes Essen gehabt, French: Nous avons eu un bon repas hier soir,\\n11: German: Der Film war sehr interessant, French: Le film était très intéressant,\\n12: German: Ich bin müde und möchte schlafen, French: Je suis fatigué et je veux dormir,\\n13: German: Meine Schwester spielt Klavier, French: Ma sœur joue du piano,\\n14: German: Wir gehen am Wochenende wandern, French: Nous allons faire de la randonnée le week-end,\\n15: German: Das Buch ist sehr langweilig, French: Le livre est très ennuyeux\",\n",
       " 75: \"1: German: Die Katze ist sehr freundlich, French: Le chat est très gentil,\\n2: German: Ich gehe jeden Tag ins Fitnessstudio, French: Je vais à la salle de sport tous les jours,\\n3: German: Mein Bruder wohnt in Berlin, French: Mon frère habite à Berlin,\\n4: German: Wir fahren morgen nach Paris, French: Nous partons demain pour Paris,\\n5: German: Die Blumen sind sehr schön, French: Les fleurs sont très belles,\\n6: German: Ich esse gerne Pizza, French: J'aime manger de la pizza,\\n7: German: Der Film war sehr interessant, French: Le film était très intéressant,\\n8: German: Meine Schwester studiert Medizin, French: Ma sœur étudie la médecine,\\n9: German: Das Wetter ist heute schlecht, French: Le temps est mauvais aujourd'hui,\\n10: German: Ich habe einen Hund namens Max, French: J'ai un chien nommé Max,\\n11: German: Die Stadt ist sehr groß, French: La ville est très grande,\\n12: German: Wir haben gestern Abend gegessen, French: Nous avons mangé hier soir,\\n13: German: Mein Vater arbeitet als Ingenieur, French: Mon père travaille comme ingénieur,\\n14: German: Die Musik ist sehr laut, French: La musique est très forte,\\n15: German: Ich bin sehr müde und möchte schlafen, French: Je suis très fatigué et je veux dormir\",\n",
       " 76: \"1: German: Die Katze ist sehr freundlich, French: Le chat est très gentil,\\n2: German: Ich esse jeden Tag ein Stück Brot zum Frühstück, French: Je mange chaque jour une slice de pain pour le petit déjeuner,\\n3: German: Der Himmel ist heute sehr blau und die Sonne scheint, French: Le ciel est aujourd'hui très bleu et le soleil brille,\\n4: German: Meine Mutter kocht das beste Essen der Welt, French: Ma mère cuisine les meilleures nourritures du monde,\\n5: German: Wir fahren nächste Woche nach Paris für unsere Urlaubsreise, French: Nous allons à Paris la semaine prochaine pour notre voyage de vacances,\\n6: German: Mein Bruder spielt seit vielen Jahren Fußball, French: Mon frère joue au football depuis de nombreuses années,\\n7: German: Die Blumen im Garten sind wunderschön und bunt, French: Les fleurs dans le jardin sont magnifiques et colorées,\\n8: German: Ich habe gestern Abend einen Film im Kino gesehen, French: J'ai vu un film au cinéma hier soir,\\n9: German: Das Wetter war letzte Woche sehr schlecht und regnerisch, French: La météo était très mauvaise et pluvieuse la semaine dernière,\\n10: German: Meine Schwester studiert an der Universität Medizin, French: Ma sœur étudie la médecine à l'université,\\n11: German: Wir haben am Wochenende eine Party mit Freunden geplant, French: Nous avons prévu une fête avec des amis le week-end,\\n12: German: Die Stadt ist sehr groß und hat viele Sehenswürdigkeiten, French: La ville est très grande et a beaucoup d'attractions,\\n13: German: Ich liebe es, neue Sprachen zu lernen und andere Kulturen kennenzulernen, French: J'aime apprendre de nouvelles langues et découvrir d'autres cultures,\\n14: German: Mein Vater arbeitet als Ingenieur in einem großen Unternehmen, French: Mon père travaille comme ingénieur dans une grande entreprise,\\n15: German: Die Natur ist sehr wichtig für unser Leben und unsere Umwelt, French: La nature est très importante pour notre vie et notre environnement\",\n",
       " 77: \"1: German: Die Katze ist sehr freundlich, French: Le chat est très gentil,\\n2: German: Ich esse jeden Tag ein Stück Brot zum Frühstück, French: Je mange chaque jour un morceau de pain pour le petit déjeuner,\\n3: German: Der Himmel ist heute sehr blau, French: Le ciel est aujourd'hui très bleu,\\n4: German: Mein Bruder wohnt in Berlin, French: Mon frère habite à Berlin,\\n5: German: Sie hat einen Hund namens Max, French: Elle a un chien nommé Max,\\n6: German: Wir fahren morgen nach Paris, French: Nous allons demain à Paris,\\n7: German: Das Wetter ist heute nicht gut, French: La météo n'est pas bonne aujourd'hui,\\n8: German: Ich liebe es, im Sommer am Strand zu sein, French: J'adore être sur la plage en été,\\n9: German: Meine Mutter kocht sehr gerne, French: Ma mère cuisine avec plaisir,\\n10: German: Er spielt seit Jahren Fußball, French: Il joue au football depuis des années,\\n11: German: Die Blumen sind sehr schön und duften gut, French: Les fleurs sont très belles et sentent bon,\\n12: German: Wir haben gestern Abend einen Film gesehen, French: Nous avons vu un film hier soir,\\n13: German: Ich bin sehr müde und brauche Schlaf, French: Je suis très fatigué et j'ai besoin de sommeil,\\n14: German: Mein Vater arbeitet als Ingenieur, French: Mon père travaille comme ingénieur,\\n15: German: Sie sprechen fünf verschiedene Sprachen, French: Ils parlent cinq langues différentes,\",\n",
       " 78: \"1: German: Die Katze ist sehr freundlich, French: Le chat est très gentil,\\n2: German: Ich esse jeden Tag ein Stück Brot zum Frühstück, French: Je mange chaque jour un morceau de pain pour le petit déjeuner,\\n3: German: Der Hund läuft schnell im Park, French: Le chien court vite dans le parc,\\n4: German: Meine Mutter kocht gern italienisches Essen, French: Ma mère cuisine volontiers la nourriture italienne,\\n5: German: Das Wetter ist heute schön und sonnig, French: Le temps est beau et ensoleillé aujourd'hui,\\n6: German: Mein Bruder spielt gerne Fußball mit seinen Freunden, French: Mon frère joue volontiers au football avec ses amis,\\n7: German: Die Blumen sind sehr hübsch und duften gut, French: Les fleurs sont très jolies et sentent bon,\\n8: German: Ich gehe jeden Sonntag in die Kirche, French: Je vais à l'église tous les dimanches,\\n9: German: Mein Vater arbeitet als Ingenieur in einer großen Firma, French: Mon père travaille comme ingénieur dans une grande entreprise,\\n10: German: Die Stadt ist sehr groß und hat viele Sehenswürdigkeiten, French: La ville est très grande et a beaucoup d'attractions,\\n11: German: Ich liebe es, am Meer zu schwimmen und zu tauchen, French: J'aime nager et plonger en mer,\\n12: German: Meine Schwester studiert Medizin an der Universität, French: Ma sœur étudie médecine à l'université,\\n13: German: Der Lehrer erklärt den Schülern die neue Lektion, French: L'enseignant explique aux élèves la nouvelle leçon,\\n14: German: Die Kinder spielen gerne im Sandkasten, French: Les enfants jouent volontiers dans le bac à sable,\\n15: German: Ich bin sehr glücklich, dass ich Urlaub habe, French: Je suis très heureux d'avoir des vacances,\",\n",
       " 79: \"1: German: Die Katze ist sehr freundlich, French: Le chat est très gentil,\\n2: German: Ich esse jeden Tag ein Stück Brot zum Frühstück, French: Je mange chaque jour un morceau de pain pour le petit déjeuner,\\n3: German: Der Himmel ist heute sehr blau, French: Le ciel est aujourd'hui très bleu,\\n4: German: Meine Mutter kocht immer sehr gutes Essen, French: Ma mère cuisine toujours très bien,\\n5: German: Das Wetter war gestern sehr schlecht, French: La météo était mauvaise hier,\\n6: German: Ich habe einen Hund namens Max, French: J'ai un chien nommé Max,\\n7: German: Die Blumen sind im Garten sehr schön, French: Les fleurs sont très belles dans le jardin,\\n8: German: Mein Bruder spielt gerne Fußball, French: Mon frère joue au football avec plaisir,\\n9: German: Die Stadt ist sehr groß und laut, French: La ville est très grande et bruyante,\\n10: German: Ich liebe es, am Strand zu entspannen, French: J'adore me détendre sur la plage,\\n11: German: Die Berge sind sehr hoch und steil, French: Les montagnes sont très hautes et escarpées,\\n12: German: Meine Schwester liest gerne Bücher, French: Ma sœur aime lire des livres,\\n13: German: Das Meer ist sehr tief und salzig, French: La mer est très profonde et saline,\\n14: German: Ich bin sehr müde nach einem langen Tag, French: Je suis très fatigué après une longue journée,\\n15: German: Die Sonne scheint sehr hell und warm, French: Le soleil brille très fort et chaudement\",\n",
       " 80: \"1: German: Die Katze ist sehr freundlich, French: Le chat est très gentil,\\n2: German: Ich esse jeden Tag ein Stück Brot zum Frühstück, French: Je mange chaque jour un morceau de pain pour le petit déjeuner,\\n3: German: Der Hund läuft schnell im Park, French: Le chien court vite dans le parc,\\n4: German: Meine Mutter kocht sehr gutes Essen, French: Ma mère cuisine très bien,\\n5: German: Das Wetter ist heute schön, French: Le temps est beau aujourd'hui,\\n6: German: Ich gehe gerne ins Kino am Wochenende, French: J'aime aller au cinéma le week-end,\\n7: German: Mein Bruder spielt Fußball mit seinen Freunden, French: Mon frère joue au football avec ses amis,\\n8: German: Die Blumen sind sehr hübsch und duften gut, French: Les fleurs sont très jolies et sentent bon,\\n9: German: Ich habe einen Freund in Paris, French: J'ai un ami à Paris,\\n10: German: Die Stadt ist sehr groß und laut, French: La ville est très grande et bruyante,\\n11: German: Ich liebe es, neue Sprachen zu lernen, French: J'adore apprendre de nouvelles langues,\\n12: German: Mein Vater arbeitet als Ingenieur, French: Mon père travaille comme ingénieur,\\n13: German: Die Schule beginnt um acht Uhr morgens, French: L'école commence à huit heures du matin,\\n14: German: Ich bin sehr müde nach einem langen Tag, French: Je suis très fatigué après une longue journée,\\n15: German: Die Musik ist sehr wichtig für mich, French: La musique est très importante pour moi\",\n",
       " 81: \"1: German: Die Katze ist sehr freundlich, French: Le chat est très gentil,\\n2: German: Ich esse jeden Tag ein Stück Brot zum Frühstück, French: Je mange chaque jour une tartine de pain pour le petit déjeuner,\\n3: German: Der Himmel ist heute sehr blau und die Sonne scheint, French: Le ciel est aujourd'hui très bleu et le soleil brille,\\n4: German: Meine Mutter backt am Wochenende oft Kuchen für unsere Familie, French: Ma mère fait souvent des gâteaux le week-end pour notre famille,\\n5: German: Das Auto fährt sehr schnell auf der Autobahn, French: La voiture roule très vite sur l'autoroute,\\n6: German: Wir haben gestern Abend einen schönen Film im Kino gesehen, French: Nous avons vu un beau film au cinéma hier soir,\\n7: German: Mein Bruder spielt seit vielen Jahren Fußball, French: Mon frère joue au football depuis de nombreuses années,\\n8: German: Die Blumen sind im Garten sehr schön angeordnet, French: Les fleurs sont disposées de manière très agréable dans le jardin,\\n9: German: Unsere Schule hat eine gute Bibliothek mit vielen Büchern, French: Notre école a une bonne bibliothèque avec beaucoup de livres,\\n10: German: Ich mag es, wenn meine Freunde mich besuchen kommen, French: J'aime quand mes amis viennent me rendre visite,\\n11: German: Der Lehrer erklärt den Schulkindern das Thema sehr gut, French: L'enseignant explique le sujet aux enfants de l'école de manière très claire,\\n12: German: Die Stadt ist nachts sehr beleuchtet und schön anzusehen, French: La ville est très illuminée la nuit et belle à voir,\\n13: German: Unser Team gewinnt immer bei den Sportwettbewerben, French: Notre équipe gagne toujours les compétitions sportives,\\n14: German: Ich bin sehr müde, weil ich letzte Nacht spät ins Bett gegangen bin, French: Je suis très fatigué parce que je me suis couché tard dans mon lit la nuit dernière,\\n15: German: Die Musik ist laut und alle tanzen darauf, French: La musique est forte et tout le monde danse dessus\",\n",
       " 82: \"1: German: Die Katze ist sehr freundlich, French: Le chat est très gentil,\\n2: German: Ich esse jeden Tag ein Stück Brot zum Frühstück, French: Je mange chaque jour un morceau de pain pour le petit déjeuner,\\n3: German: Der Hund läuft schnell im Park, French: Le chien court vite dans le parc,\\n4: German: Meine Mutter kocht heute Abend für eine große Gruppe von Freunden, French: Ma mère cuisine ce soir pour un grand groupe d'amis,\\n5: German: Das Wetter war gestern schön und sonnig, French: La météo était belle et ensoleillée hier,\\n6: German: Mein Bruder spielt gerne Fußball mit seinen Freunden, French: Mon frère aime jouer au football avec ses amis,\\n7: German: Die Blumen sind sehr hübsch und duften gut, French: Les fleurs sont très jolies et sentent bon,\\n8: German: Wir fahren nächste Woche nach Paris, French: Nous allons à Paris la semaine prochaine,\\n9: German: Ich habe meine Hausaufgaben noch nicht gemacht, French: Je n'ai pas encore fait mes devoirs,\\n10: German: Die Bibliothek ist ein wichtiger Ort für Studenten, French: La bibliothèque est un endroit important pour les étudiants,\\n11: German: Mein Vater arbeitet als Ingenieur in einer großen Firma, French: Mon père travaille comme ingénieur dans une grande entreprise,\\n12: German: Die Stadt ist sehr groß und hat viele Sehenswürdigkeiten, French: La ville est très grande et a beaucoup de sites touristiques,\\n13: German: Ich liebe es, am Wochenende spazieren zu gehen, French: J'adore aller me promener le week-end,\\n14: German: Die Schule beginnt um 8 Uhr morgens, French: L'école commence à 8 heures du matin,\\n15: German: Mein Freund kommt aus einem anderen Land und spricht mehrere Sprachen, French: Mon ami vient d'être d'un autre pays et parle plusieurs langues,\",\n",
       " 83: '1: German: Die Katze ist sehr freundlich, French: Le chat est très gentil,\\n2: German: Ich gehe jeden Tag ins Fitnessstudio, French: Je vais à la salle de sport tous les jours,\\n3: German: Mein Bruder wohnt in Berlin, French: Mon frère habite à Berlin,\\n4: German: Die Blumen sind sehr schön, French: Les fleurs sont très belles,\\n5: German: Ich esse gerne Pizza, French: J\\'aime manger de la pizza,\\n6: German: Der Film war sehr interessant, French: Le film était très intéressant,\\n7: German: Meine Schwester studiert Medizin, French: Ma sœur étudie la médecine,\\n8: German: Das Wetter ist heute schlecht, French: Le temps est mauvais aujourd\\'hui,\\n9: German: Ich habe einen Hund namens Max, French: J\\'ai un chien nommé Max,\\n10: German: Die Stadt ist sehr groß, French: La ville est très grande,\\n11: German: Ich spreche ein bisschen Französisch, French: Je parle un peu français,\\n12: German: Mein Lieblingsbuch ist \"Der Alchemist\", French: Mon livre préféré est \"L\\'Alchimiste\",\\n13: German: Die Musik ist sehr laut, French: La musique est très forte,\\n14: German: Ich bin sehr müde heute, French: Je suis très fatigué aujourd\\'hui,\\n15: German: Die Reise nach Paris war sehr schön, French: Le voyage à Paris était très beau,',\n",
       " 84: \"1: German: Die Katze ist sehr freundlich, French: Le chat est très gentil,\\n2: German: Ich gehe jeden Tag ins Fitnessstudio, French: Je vais à la salle de sport tous les jours,\\n3: German: Mein Bruder wohnt in Berlin, French: Mon frère habite à Berlin,\\n4: German: Wir fahren nächstes Jahr nach Paris, French: Nous allons à Paris l'année prochaine,\\n5: German: Die Blumen sind sehr schön, French: Les fleurs sont très belles,\\n6: German: Ich esse gerne Pizza, French: J'aime manger de la pizza,\\n7: German: Der Film war sehr interessant, French: Le film était très intéressant,\\n8: German: Meine Schwester studiert Medizin, French: Ma sœur étudie la médecine,\\n9: German: Wir haben einen Hund namens Max, French: Nous avons un chien nommé Max,\\n10: German: Das Wetter ist heute sehr schlecht, French: Le temps est très mauvais aujourd'hui,\\n11: German: Ich bin sehr müde und brauche Schlaf, French: Je suis très fatigué et j'ai besoin de sommeil,\\n12: German: Die Stadt ist sehr groß und laut, French: La ville est très grande et bruyante,\\n13: German: Wir gehen am Wochenende ins Theater, French: Nous allons au théâtre le week-end,\\n14: German: Mein Vater arbeitet als Ingenieur, French: Mon père travaille comme ingénieur,\\n15: German: Die Landschaft hier ist sehr malerisch, French: Le paysage ici est très pittoresque,\",\n",
       " 85: \"1: German: Die Katze ist sehr freundlich, French: Le chat est très gentil,\\n2: German: Ich esse jeden Tag ein Stück Brot zum Frühstück, French: Je mange chaque jour une tranche de pain pour le petit déjeuner,\\n3: German: Der Hund läuft schnell im Park, French: Le chien court vite dans le parc,\\n4: German: Wir fahren morgen nach Paris, French: Nous allons à Paris demain,\\n5: German: Mein Bruder spielt gerne Fußball, French: Mon frère aime jouer au football,\\n6: German: Das Wetter ist heute schön, French: Le temps est beau aujourd'hui,\\n7: German: Ich habe gestern Abend einen Film gesehen, French: J'ai vu un film hier soir,\\n8: German: Meine Schwester liest viel Bücher, French: Ma sœur lit beaucoup de livres,\\n9: German: Der Lehrer erklärt die Aufgabe sehr gut, French: L'enseignant explique l'exercice très bien,\\n10: German: Wir haben letzte Woche eine Reise gemacht, French: Nous avons fait un voyage la semaine dernière,\\n11: German: Die Blumen sind sehr hübsch und duften gut, French: Les fleurs sont très jolies et sentent bon,\\n12: German: Ich bin müde und brauche Schlaf, French: Je suis fatigué et j'ai besoin de sommeil,\\n13: German: Mein Vater arbeitet als Ingenieur, French: Mon père travaille comme ingénieur,\\n14: German: Die Stadt ist groß und laut, French: La ville est grande et bruyante,\\n15: German: Ich liebe es, am Meer zu schwimmen, French: J'aime nager en mer,\",\n",
       " 86: \"1: German: Die Katze ist sehr freundlich, French: Le chat est très gentil,\\n2: German: Ich gehe jeden Tag spazieren, French: Je vais me promener tous les jours,\\n3: German: Das Wetter ist heute schön, French: Le temps est beau aujourd'hui,\\n4: German: Mein Name ist Hans Müller, French: Mon nom est Hans Müller,\\n5: German: Ich wohne in Berlin, French: J'habite à Berlin,\\n6: German: Die Stadt ist sehr groß und laut, French: La ville est très grande et bruyante,\\n7: German: Ich liebe es, Bücher zu lesen, French: J'aime lire des livres,\\n8: German: Meine Lieblingsfarbe ist blau, French: Ma couleur préférée est le bleu,\\n9: German: Ich bin Student an der Universität, French: Je suis étudiant à l'université,\\n10: German: Mein Bruder spielt Fußball, French: Mon frère joue au football,\\n11: German: Die Blumen sind sehr hübsch, French: Les fleurs sont très jolies,\\n12: German: Ich esse gerne Pizza, French: J'aime manger de la pizza,\\n13: German: Der Film war sehr interessant, French: Le film était très intéressant,\\n14: German: Ich habe einen Hund namens Max, French: J'ai un chien qui s'appelle Max,\\n15: German: Die Musik ist meine große Leidenschaft, French: La musique est ma grande passion\",\n",
       " 87: \"1: German: Die Katze ist sehr freundlich, French: Le chat est très gentil,\\n2: German: Ich esse jeden Tag ein Stück Brot zum Frühstück, French: Je mange chaque jour un morceau de pain pour le petit déjeuner,\\n3: German: Der Himmel ist heute sehr blau, French: Le ciel est aujourd'hui très bleu,\\n4: German: Meine Mutter kocht immer sehr leckeres Essen, French: Ma mère cuisine toujours des plats très délicieux,\\n5: German: Das Wetter war gestern sehr schlecht, French: La météo était mauvaise hier,\\n6: German: Ich gehe jeden Sonntag ins Kino, French: Je vais au cinéma tous les dimanches,\\n7: German: Mein Bruder spielt Fußball seit fünf Jahren, French: Mon frère joue au football depuis cinq ans,\\n8: German: Die Blumen sind im Garten sehr schön, French: Les fleurs sont très belles dans le jardin,\\n9: German: Wir fahren nächste Woche an den Strand, French: Nous allons à la plage la semaine prochaine,\\n10: German: Ich liebe es, neue Bücher zu lesen, French: J'adore lire des livres nouveaux,\\n11: German: Der Lehrer gibt uns viel Hausaufgaben, French: L'enseignant nous donne beaucoup de devoirs à la maison,\\n12: German: Die Stadt ist nachts sehr beleuchtet, French: La ville est très éclairée la nuit,\\n13: German: Ich habe einen kleinen Hund namens Max, French: J'ai un petit chien nommé Max,\\n14: German: Die Schule beginnt um acht Uhr morgens, French: L'école commence à huit heures du matin,\\n15: German: Ich möchte eines Tages nach Paris reisen, French: Je voudrais voyager à Paris un jour,\",\n",
       " 88: \"1: German: Die Katze ist sehr freundlich, French: Le chat est très gentil,\\n2: German: Ich gehe jeden Tag spazieren, French: Je vais me promener tous les jours,\\n3: German: Das Wetter ist heute schön, French: Le temps est beau aujourd'hui,\\n4: German: Mein Name ist Hans Müller, French: Mon nom est Hans Müller,\\n5: German: Ich wohne in Berlin, French: J'habite à Berlin,\\n6: German: Die deutsche Sprache ist sehr komplex, French: La langue allemande est très complexe,\\n7: German: Ich esse gerne Pizza, French: J'aime manger de la pizza,\\n8: German: Der Film war sehr interessant, French: Le film était très intéressant,\\n9: German: Ich habe einen Hund namens Max, French: J'ai un chien qui s'appelle Max,\\n10: German: Die Stadt Paris ist sehr schön, French: La ville de Paris est très belle,\\n11: German: Ich bin Student an der Universität, French: Je suis étudiant à l'université,\\n12: German: Das Buch ist sehr langweilig, French: Le livre est très ennuyeux,\\n13: German: Ich liebe die Musik von Beethoven, French: J'adore la musique de Beethoven,\\n14: German: Die Berge sind sehr hoch, French: Les montagnes sont très hautes,\\n15: German: Ich werde nächsten Sommer nach Frankreich reisen, French: Je voyagerai en France l'été prochain,\",\n",
       " 89: \"1: German: Die Katze ist sehr freundlich, French: Le chat est très gentil,\\n2: German: Ich gehe jeden Tag zum Schwimmen, French: Je vais nager tous les jours,\\n3: German: Mein Bruder wohnt in Berlin, French: Mon frère habite à Berlin,\\n4: German: Wir haben einen Hund namens Max, French: Nous avons un chien nommé Max,\\n5: German: Das Wetter ist heute schön, French: Le temps est beau aujourd'hui,\\n6: German: Ich liebe es, Bücher zu lesen, French: J'adore lire des livres,\\n7: German: Meine Mutter kocht sehr gut, French: Ma mère cuisine très bien,\\n8: German: Der Film war sehr interessant, French: Le film était très intéressant,\\n9: German: Ich habe viele Freunde in der Schule, French: J'ai beaucoup d'amis à l'école,\\n10: German: Die Blumen sind sehr hübsch, French: Les fleurs sont très jolies,\\n11: German: Mein Vater arbeitet als Ingenieur, French: Mon père travaille comme ingénieur,\\n12: German: Wir fahren nächste Woche in den Urlaub, French: Nous partons en vacances la semaine prochaine,\\n13: German: Die Stadt ist sehr groß und laut, French: La ville est très grande et bruyante,\\n14: German: Ich bin sehr müde nach dem langen Tag, French: Je suis très fatigué après cette longue journée,\\n15: German: Meine Schwester spielt sehr gern Klavier, French: Ma sœur joue très volontiers du piano,\",\n",
       " 90: \"1: German: Die Katze ist sehr freundlich, French: Le chat est très gentil,\\n2: German: Ich esse jeden Tag ein Stück Brot zum Frühstück, French: Je mange chaque jour un morceau de pain pour le petit déjeuner,\\n3: German: Der Hund läuft schnell im Park, French: Le chien court vite dans le parc,\\n4: German: Meine Mutter kocht heute Abend für die ganze Familie, French: Ma mère cuisine ce soir pour toute la famille,\\n5: German: Das Wetter ist heute schön und sonnig, French: Le temps est beau et ensoleillé aujourd'hui,\\n6: German: Ich habe gestern mein Fahrrad verkauft, French: J'ai vendu mon vélo hier,\\n7: German: Mein Bruder studiert an der Universität Medizin, French: Mon frère étudie la médecine à l'université,\\n8: German: Die Blumen sind sehr hübsch und duften gut, French: Les fleurs sont très jolies et sentent bon,\\n9: German: Wir fahren nächste Woche in den Urlaub nach Italien, French: Nous partons en vacances en Italie la semaine prochaine,\\n10: German: Ich liebe es, am Wochenende spazieren zu gehen, French: J'adore faire des promenades le week-end,\\n11: German: Mein Vater arbeitet als Ingenieur bei einer großen Firma, French: Mon père travaille comme ingénieur dans une grande entreprise,\\n12: German: Die Stadt ist sehr groß und hat viele Sehenswürdigkeiten, French: La ville est très grande et a beaucoup d'attractions,\\n13: German: Ich bin sehr müde und brauche Schlaf, French: Je suis très fatigué et j'ai besoin de sommeil,\\n14: German: Meine Schwester spielt gerne Tennis und Fußball, French: Ma sœur aime jouer au tennis et au football,\\n15: German: Wir essen heute Abend in einem neuen Restaurant, French: Nous allons diner ce soir dans un nouveau restaurant\",\n",
       " 91: \"1: German: Die Katze ist sehr freundlich, French: Le chat est très gentil,\\n2: German: Ich esse jeden Tag ein Stück Brot zum Frühstück, French: Je mange chaque jour un morceau de pain pour le petit déjeuner,\\n3: German: Der Hund läuft schnell im Park, French: Le chien court vite dans le parc,\\n4: German: Meine Mutter kocht heute Abend für die ganze Familie, French: Ma mère cuisine ce soir pour toute la famille,\\n5: German: Das Wetter ist heute schön und sonnig, French: Le temps est beau et ensoleillé aujourd'hui,\\n6: German: Ich habe gestern mein Fahrrad verkauft, French: J'ai vendu mon vélo hier,\\n7: German: Die Blumen sind rot und sehr hübsch, French: Les fleurs sont rouges et très jolies,\\n8: German: Mein Bruder spielt Fußball mit seinen Freunden, French: Mon frère joue au football avec ses amis,\\n9: German: Die Stadt ist groß und laut, French: La ville est grande et bruyante,\\n10: German: Ich bin müde und brauche Schlaf, French: Je suis fatigué et j'ai besoin de sommeil,\\n11: German: Die Schule beginnt um acht Uhr morgens, French: L'école commence à huit heures du matin,\\n12: German: Meine Schwester liest gerne Bücher über Geschichte, French: Ma sœur aime lire des livres sur l'histoire,\\n13: German: Der Flug nach Paris dauert etwa zwei Stunden, French: Le vol pour Paris dure environ deux heures,\\n14: German: Ich liebe es, am Wochenende ins Kino zu gehen, French: J'adore aller au cinéma le week-end,\\n15: German: Die Musik ist laut und stört mich, French: La musique est forte et me dérange,\",\n",
       " 92: \"1: German: Die Katze ist sehr freundlich, French: Le chat est très gentil,\\n2: German: Ich gehe jeden Tag zum Schwimmen, French: Je vais nager tous les jours,\\n3: German: Mein Lieblingsessen ist Pizza, French: Mon plat préféré est la pizza,\\n4: German: Der Hund bellt laut, French: Le chien aboie fort,\\n5: German: Wir fahren morgen nach Paris, French: Nous partons demain pour Paris,\\n6: German: Das Wetter ist heute schön, French: Le temps est beau aujourd'hui,\\n7: German: Ich habe einen Bruder und eine Schwester, French: J'ai un frère et une sœur,\\n8: German: Die Blumen sind sehr hübsch, French: Les fleurs sont très jolies,\\n9: German: Ich liebe es, Bücher zu lesen, French: J'adore lire des livres,\\n10: German: Der Film war sehr interessant, French: Le film était très intéressant,\\n11: German: Meine Mutter kocht sehr gut, French: Ma mère cuisine très bien,\\n12: German: Ich bin müde und möchte schlafen, French: Je suis fatigué et je veux dormir,\\n13: German: Das Auto ist sehr schnell, French: La voiture est très rapide,\\n14: German: Ich werde nächste Woche Urlaub machen, French: Je prendrai des vacances la semaine prochaine,\\n15: German: Die Stadt ist sehr groß und schön, French: La ville est très grande et belle,\",\n",
       " 93: \"1: German: Die Katze ist sehr freundlich, French: Le chat est très gentil,\\n2: German: Ich esse jeden Tag ein Stück Brot zum Frühstück, French: Je mange chaque jour un morceau de pain pour le petit déjeuner,\\n3: German: Der Hund läuft schnell im Park, French: Le chien court vite dans le parc,\\n4: German: Meine Mutter kocht gern italienisches Essen, French: Ma mère cuisine volontiers des plats italiens,\\n5: German: Das Wetter ist heute schön und sonnig, French: Le temps est beau et ensoleillé aujourd'hui,\\n6: German: Mein Bruder spielt Fußball mit seinen Freunden, French: Mon frère joue au football avec ses amis,\\n7: German: Die Blumen sind rot und gelb, French: Les fleurs sont rouges et jaunes,\\n8: German: Wir fahren nächste Woche an den Strand, French: Nous allons à la plage la semaine prochaine,\\n9: German: Ich habe einen kleinen Garten hinter meinem Haus, French: J'ai un petit jardin derrière ma maison,\\n10: German: Meine Schwester liest gerne Bücher über Geschichte, French: Ma sœur lit volontiers des livres sur l'histoire,\\n11: German: Der Lehrer erklärt die Mathematik-Aufgaben sehr gut, French: L'enseignant explique les exercices de mathématiques très bien,\\n12: German: Die Stadt ist groß und laut, French: La ville est grande et bruyante,\\n13: German: Ich trinke jeden Morgen eine Tasse Kaffee, French: Je bois chaque matin une tasse de café,\\n14: German: Mein Vater arbeitet als Ingenieur in einer Firma, French: Mon père travaille comme ingénieur dans une entreprise,\\n15: German: Die Kinder spielen glücklich im Sandkasten, French: Les enfants jouent heureux dans le bac à sable,\",\n",
       " 94: \"1: German: Die Katze ist sehr freundlich, French: Le chat est très gentil,\\n2: German: Ich esse jeden Tag ein Stück Brot zum Frühstück, French: Je mange chaque jour un morceau de pain pour le petit déjeuner,\\n3: German: Der Himmel ist heute sehr blau und die Sonne scheint, French: Le ciel est aujourd'hui très bleu et le soleil brille,\\n4: German: Mein Bruder wohnt in einer anderen Stadt, French: Mon frère habite dans une autre ville,\\n5: German: Wir fahren morgen nach Paris, um den Eiffelturm zu besuchen, French: Nous allons à Paris demain pour visiter la tour Eiffel,\\n6: German: Das Wetter war gestern sehr schlecht, es hat viel geregnet, French: La météo était très mauvaise hier, il a beaucoup plu,\\n7: German: Meine Mutter kocht sehr gerne italienische Gerichte, French: Ma mère cuisine très volontiers des plats italiens,\\n8: German: Ich habe mich für einen Spaziergang im Park entschieden, French: J'ai choisi d'aller me promener au parc,\\n9: German: Mein Vater arbeitet als Ingenieur bei einem großen Unternehmen, French: Mon père travaille comme ingénieur chez une grande entreprise,\\n10: German: Die Blumen sind sehr schön und duften gut, French: Les fleurs sont très belles et sentent bon,\\n11: German: Wir haben uns gestern Abend einen Film angesehen, French: Nous avons regardé un film hier soir,\\n12: German: Die Straße ist gerade renoviert worden und sieht jetzt sehr sauber aus, French: La rue vient d'être rénovée et a maintenant l'air très propre,\\n13: German: Ich bin sehr müde und brauche Schlaf, French: Je suis très fatigué et j'ai besoin de sommeil,\\n14: German: Mein Freund kommt morgen zu Besuch, ich freue mich darauf, French: Mon ami vient me voir demain, j'ai hâte,\\n15: German: Die Bibliothek ist ein wichtiger Ort, um Bücher zu lesen und zu lernen, French: La bibliothèque est un endroit important pour lire des livres et apprendre,\",\n",
       " 95: \"1: German: Die Katze ist sehr freundlich, French: Le chat est très gentil,\\n2: German: Ich esse jeden Tag ein Stück Brot zum Frühstück, French: Je mange chaque jour un morceau de pain pour le petit déjeuner,\\n3: German: Der Hund läuft schnell im Park, French: Le chien court vite dans le parc,\\n4: German: Meine Mutter kocht heute Abend für uns, French: Ma mère cuisine ce soir pour nous,\\n5: German: Das Wetter ist heute schön und sonnig, French: Le temps est beau et ensoleillé aujourd'hui,\\n6: German: Ich habe gestern mein Fahrrad repariert, French: J'ai réparé mon vélo hier,\\n7: German: Mein Bruder studiert an der Universität, French: Mon frère étudie à l'université,\\n8: German: Wir fahren nächste Woche nach Paris, French: Nous allons à Paris la semaine prochaine,\\n9: German: Die Blumen sind rot und schön, French: Les fleurs sont rouges et belles,\\n10: German: Ich trinke jeden Tag eine Tasse Kaffee, French: Je bois chaque jour une tasse de café,\\n11: German: Mein Vater liest gerne Bücher, French: Mon père aime lire des livres,\\n12: German: Die Stadt ist groß und laut, French: La ville est grande et bruyante,\\n13: German: Ich gehe jeden Sonntag spazieren, French: Je vais me promener tous les dimanches,\\n14: German: Meine Schwester spielt Klavier, French: Ma sœur joue du piano,\\n15: German: Der Flug nach New York dauert zehn Stunden, French: Le vol pour New York dure dix heures,\",\n",
       " 96: \"1: German: Die Katze ist sehr freundlich, French: Le chat est très gentil,\\n2: German: Ich esse jeden Tag ein Stück Brot zum Frühstück, French: Je mange chaque jour un morceau de pain pour le petit déjeuner,\\n3: German: Der Hund läuft schnell im Park, French: Le chien court vite dans le parc,\\n4: German: Meine Mutter kocht heute Abend für die ganze Familie, French: Ma mère cuisine ce soir pour toute la famille,\\n5: German: Das Wetter ist heute schön und sonnig, French: Le temps est beau et ensoleillé aujourd'hui,\\n6: German: Ich habe gestern mein Fahrrad verkauft, French: J'ai vendu mon vélo hier,\\n7: German: Mein Bruder studiert Medizin an der Universität, French: Mon frère étudie la médecine à l'université,\\n8: German: Die Blumen sind sehr hübsch und duften gut, French: Les fleurs sont très jolies et sentent bon,\\n9: German: Wir fahren nächste Woche in den Urlaub nach Italien, French: Nous partons en vacances en Italie la semaine prochaine,\\n10: German: Ich bin sehr müde und brauche Schlaf, French: Je suis très fatigué et j'ai besoin de sommeil,\\n11: German: Meine Schwester spielt gerne Tennis, French: Ma sœur joue au tennis avec plaisir,\\n12: German: Der Lehrer erklärt die Mathematik-Aufgaben sehr klar, French: L'enseignant explique les exercices de mathématiques très clairement,\\n13: German: Die Stadt ist sehr groß und hat viele Sehenswürdigkeiten, French: La ville est très grande et a beaucoup d'attractions,\\n14: German: Ich liebe es, am Wochenende mit Freunden auszugehen, French: J'adore sortir avec des amis le week-end,\\n15: German: Das Buch ist sehr interessant und ich kann nicht aufhören zu lesen, French: Le livre est très intéressant et je ne peux pas arrêter de lire,\",\n",
       " 97: \"1: German: Die Katze ist sehr freundlich, French: Le chat est très gentil,\\n2: German: Ich gehe jeden Tag spazieren, French: Je vais me promener tous les jours,\\n3: German: Das Wetter ist heute schön, French: Le temps est beau aujourd'hui,\\n4: German: Mein Name ist Hans Müller, French: Mon nom est Hans Müller,\\n5: German: Ich spreche ein bisschen Französisch, French: Je parle un peu français,\\n6: German: Die Stadt Berlin ist sehr groß, French: La ville de Berlin est très grande,\\n7: German: Ich liebe es, Bücher zu lesen, French: J'adore lire des livres,\\n8: German: Der Film war sehr interessant, French: Le film était très intéressant,\\n9: German: Ich habe einen Hund namens Max, French: J'ai un chien qui s'appelle Max,\\n10: German: Die Schule beginnt um 8 Uhr morgens, French: L'école commence à 8 heures du matin,\\n11: German: Ich bin sehr müde heute Abend, French: Je suis très fatigué ce soir,\\n12: German: Das Essen im Restaurant war lecker, French: La nourriture au restaurant était délicieuse,\\n13: German: Ich werde nächste Woche nach Paris reisen, French: Je voyagerai à Paris la semaine prochaine,\\n14: German: Die Musik ist sehr wichtig für mich, French: La musique est très importante pour moi,\\n15: German: Ich hoffe, ich sehe dich bald wieder, French: J'espère vous voir bientôt again\",\n",
       " 98: \"1: German: Die Schüler lernen fleißig für ihre Prüfungen., French: Les étudiants étudient diligemment pour leurs examens.\\n2: German: Ich esse gerne frische Früchte zum Frühstück., French: J'aime manger des fruits frais au petit déjeuner.\\n3: German: Der Lehrer erklärt den Schülern die neue Aufgabe., French: L'enseignant explique aux élèves le nouveau devoir.\\n4: German: Wir fahren nächste Woche nach Paris., French: Nous allons à Paris la semaine prochaine.\\n5: German: Das Wetter ist heute sehr schön., French: Le temps est très beau aujourd'hui.\\n6: German: Meine Mutter kocht jeden Tag ein leckeres Abendessen., French: Ma mère cuisine chaque jour un dîner délicieux.\\n7: German: Die Katze schläft den ganzen Tag auf dem Sofa., French: Le chat dort toute la journée sur le canapé.\\n8: German: Mein Bruder spielt gern Fußball mit seinen Freunden., French: Mon frère aime jouer au football avec ses amis.\\n9: German: Die Blumen im Garten sind sehr hübsch., French: Les fleurs dans le jardin sont très jolies.\\n10: German: Ich gehe jeden Morgen joggen im Park., French: Je vais faire du jogging tous les matins au parc.\\n11: German: Die Stadt ist sehr groß und belebt., French: La ville est très grande et animée.\\n12: German: Mein Vater arbeitet als Ingenieur in einer Firma., French: Mon père travaille comme ingénieur dans une entreprise.\\n13: German: Die Schule bietet viele verschiedene Kurse an., French: L'école offre de nombreux cours différents.\\n14: German: Ich liebe es, am Wochenende ins Kino zu gehen., French: J'adore aller au cinéma le week-end.\\n15: German: Die Natur ist sehr wichtig für unsere Umwelt., French: La nature est très importante pour notre environnement.\",\n",
       " 99: \"1: German: Die Katze ist sehr freundlich, French: Le chat est très gentil,\\n2: German: Ich esse jeden Tag ein Stück Brot zum Frühstück, French: Je mange chaque jour un morceau de pain pour le petit déjeuner,\\n3: German: Der Hund läuft schnell im Park, French: Le chien court vite dans le parc,\\n4: German: Mein Bruder wohnt in Berlin und studiert Medizin, French: Mon frère vit à Berlin et étudie la médecine,\\n5: German: Die Blumen sind schön und duften gut, French: Les fleurs sont belles et sentent bon,\\n6: German: Ich gehe gerne ins Kino am Wochenende, French: J'aime aller au cinéma le week-end,\\n7: German: Meine Schwester spielt Klavier seit fünf Jahren, French: Ma sœur joue du piano depuis cinq ans,\\n8: German: Das Wetter ist heute schlecht, es regnet stark, French: Le temps est mauvais aujourd'hui, il pleut fort,\\n9: German: Ich liebe es, neue Sprachen zu lernen, French: J'adore apprendre des nouvelles langues,\\n10: German: Mein Vater arbeitet als Ingenieur bei einer großen Firma, French: Mon père travaille comme ingénieur chez une grande entreprise,\\n11: German: Die Stadt ist groß und hat viele Sehenswürdigkeiten, French: La ville est grande et a beaucoup d'attractions,\\n12: German: Ich habe gestern Abend ein gutes Buch gelesen, French: J'ai lu un bon livre hier soir,\\n13: German: Meine Mutter kocht sehr gut und macht leckere Gerichte, French: Ma mère cuisine très bien et prépare des plats délicieux,\\n14: German: Der Flug nach Paris dauert etwa zwei Stunden, French: Le vol pour Paris dure environ deux heures,\\n15: German: Ich bin müde und brauche einen Urlaub, French: Je suis fatigué et j'ai besoin de vacances,\"}"
      ]
     },
     "execution_count": 41,
     "metadata": {},
     "output_type": "execute_result"
    }
   ],
   "source": [
    "syn_data_dict_general = syn_data_dict\n",
    "syn_data_dict_general"
   ]
  },
  {
   "cell_type": "markdown",
   "metadata": {},
   "source": [
    "Now, lets create some sentences with specific thema. "
   ]
  },
  {
   "cell_type": "code",
   "execution_count": 44,
   "metadata": {},
   "outputs": [
    {
     "name": "stdout",
     "output_type": "stream",
     "text": [
      "1: German: Ich studiere an der Universität und habe viele Freunde dort, French: J'étudie à l'université et j'ai beaucoup d'amis là-bas,\n",
      "2: German: Meine Freundin arbeitet im Büro und ich besuche sie oft, French: Ma petite amie travaille au bureau et je la visite souvent,\n",
      "3: German: Die Universität ist sehr groß und hat viele verschiedene Fakultäten, French: L'université est très grande et a de nombreuses facultés différentes,\n",
      "4: German: Ich habe mich mit meinen Freunden im Park verabredet, um über unsere Beziehungen zu sprechen, French: Je me suis donné rendez-vous avec mes amis au parc pour discuter de nos relations,\n",
      "5: German: Mein Chef ist sehr streng und erwartet viel von seinen Mitarbeitern, French: Mon patron est très sévère et attend beaucoup de ses employés,\n",
      "6: German: Ich liebe es, mit meinen Freunden zu feiern und neue Erinnerungen zu schaffen, French: J'adore faire la fête avec mes amis et créer de nouveaux souvenirs,\n",
      "7: German: Die Beziehungen zwischen den Kollegen im Büro sind sehr wichtig, French: Les relations entre les collègues de bureau sont très importantes,\n",
      "8: German: Ich habe mich an der Universität für ein Studienfach entschieden, das mich wirklich interessiert, French: J'ai choisi une filière d'études à l'université qui m'intéresse vraiment,\n",
      "9: German: Mein Freund ist sehr unterstützend und hilft mir immer, wenn ich Probleme habe, French: Mon ami est très solidaire et m'aide toujours lorsque j'ai des problèmes,\n",
      "10: German: Die Universitätsbibliothek ist ein wichtiger Ort, an dem ich viel Zeit verbringe, French: La bibliothèque universitaire est un endroit important où je passe beaucoup de temps,\n",
      "11: German: Ich bin sehr glücklich, dass ich so viele gute Freunde an der Universität habe, French: Je suis très heureux d'avoir autant d'amis à l'université,\n",
      "12: German: Mein Chef ist sehr zufrieden mit meiner Arbeit und hat mich kürzlich befördert, French: Mon patron est très satisfait de mon travail et m'a récemment promu,\n",
      "13: German: Die Freundschaften, die ich an der Universität geschlossen habe, sind sehr wertvoll für mich, French: Les amitiés que j'ai nouées à l'université sont très précieuses pour moi,\n",
      "14: German: Ich habe mich entschieden, ein Jahr im Ausland zu studieren, um neue Erfahrungen zu sammeln, French: J'ai décidé de passer un an à l'étranger pour étudier et acquérir de nouvelles expériences,\n",
      "15: German: Mein Freund und ich haben uns gestritten, aber wir haben uns wieder vertragen, French: Mon ami et moi avons eu une dispute, mais nous nous sommes réconciliés,\n",
      "16: German: Die Universität bietet viele Möglichkeiten, um neue Fähigkeiten zu erlernen, French: L'université offre de nombreuses occasions d'acquérir de nouvelles compétences,\n",
      "17: German: Ich bin sehr dankbar für die Unterstützung meiner Freunde und meiner Familie, French: Je suis très reconnaissant pour le soutien de mes amis et de ma famille,\n",
      "18: German: Mein Chef hat mich gebeten, ein Projekt zu leiten, das sehr wichtig für das Unternehmen ist, French: Mon patron m'a demandé de diriger un projet très important pour l'entreprise,\n",
      "19: German: Die Beziehungen zwischen den Studenten und den Professoren an der Universität sind sehr gut, French: Les relations entre les étudiants et les professeurs à l'université sont très bonnes,\n",
      "20: German: Ich hoffe, dass ich nach meinem Studium einen guten Job finden werde, French: J'espère que je trouverai un bon emploi après mes études\n"
     ]
    }
   ],
   "source": [
    "prompt_20_1 = f\"\"\"Generate 20 sentences in German and then give its French Translation. The sentences can be long or short.\n",
    "The theme should be University, relationship, friends and office.\n",
    "Follow this format and keep the prefixes German: and French:. Directly give the examples in this format.\n",
    "num_1: German_sentence: , French_sentence:  \n",
    "num_2: German_sentence: , French_sentence: \n",
    "and so on until num_20\"\"\"\n",
    "\n",
    "response = client.chat.completions.create(\n",
    "    model=model,\n",
    "    messages=[{\"role\": \"user\", \"content\": prompt_20_1}],\n",
    ")\n",
    "print(response.choices[0].message.content)"
   ]
  },
  {
   "cell_type": "markdown",
   "metadata": {},
   "source": [
    "The prompt style works !!! Now, lets generate batch of these."
   ]
  },
  {
   "cell_type": "code",
   "execution_count": null,
   "metadata": {},
   "outputs": [],
   "source": [
    "def get_translation_dict(client,model,prompt, total_requests):\n",
    "    \"\"\"\n",
    "    Takes in client object, model name and a prompt.\n",
    "    Queries the model with the prompt for 'total_requests'\n",
    "    Has a delay of 10s inbetween the requests. \n",
    "\n",
    "    Args:\n",
    "        client (_type_): _description_\n",
    "        model (str): name of the model\n",
    "        prompt (str): prompt or query for the LLM\n",
    "        total_requests (int) : number of requests to send \n",
    "\n",
    "    Returns a dict of {request_number: response}\n",
    "    \"\"\"\n",
    "    syn_data_dict = {}\n",
    "\n",
    "    start_time = time.time()   #start time\n",
    "    delay = 10                  # time delay between each requests\n",
    "\n",
    "\n",
    "    for iteration in tqdm(range(total_requests)):\n",
    "        # Ensure the delay of 'delay' seconds between requests\n",
    "        if iteration > 0:\n",
    "            time.sleep(delay)\n",
    "        \n",
    "        response = client.chat.completions.create(\n",
    "        model=model,\n",
    "        messages=[{\"role\": \"user\", \"content\": prompt}],\n",
    "        top_p=0.7,\n",
    "        temperature= 0.7,\n",
    "        repetition_penalty= 1.2,\n",
    "        \n",
    "    )\n",
    "        syn_data_dict[iteration] = response.choices[0].message.content\n",
    "        \n",
    "    end_time = time.time()\n",
    "    print(f\"Total time taken: {end_time - start_time:.2f} seconds\")\n",
    "\n",
    "    return syn_data_dict\n",
    "    "
   ]
  },
  {
   "cell_type": "code",
   "execution_count": 46,
   "metadata": {},
   "outputs": [
    {
     "name": "stderr",
     "output_type": "stream",
     "text": [
      "100%|██████████| 100/100 [33:37<00:00, 20.18s/it]"
     ]
    },
    {
     "name": "stdout",
     "output_type": "stream",
     "text": [
      "Total time taken: 2017.87 seconds\n"
     ]
    },
    {
     "name": "stderr",
     "output_type": "stream",
     "text": [
      "\n"
     ]
    }
   ],
   "source": [
    "prompt_20_1 = f\"\"\"Generate 20 sentences in German and then give its French Translation. The sentences can be long or short.\n",
    "The theme should be University, relationship, friends and office.\n",
    "Follow this format and keep the prefixes German: and French:. Directly give the examples in this format.\n",
    "num_1: German_sentence: , French_sentence:  \n",
    "num_2: German_sentence: , French_sentence: \n",
    "and so on until num_20\"\"\"\n",
    "\n",
    "syn_data_dict_thema1 = get_translation_dict(client=client, model=model,prompt= prompt_20_1, total_requests=100)"
   ]
  },
  {
   "cell_type": "code",
   "execution_count": 52,
   "metadata": {},
   "outputs": [
    {
     "name": "stdout",
     "output_type": "stream",
     "text": [
      "1: German: Ich studiere an der Universität und habe viele Freunde dort., French: J'étudie à l'université et j'ai beaucoup d'amis là-bas.\n",
      "2: German: Meine beste Freundin arbeitet im Büro nebenan., French: Ma meilleure amie travaille dans le bureau à côté.\n",
      "3: German: Wir verbringen unsere freie Zeit oft zusammen mit unseren Kollegen aus dem Büro., French: Nous passons souvent notre temps libre ensemble avec nos collègues du bureau.\n",
      "4: German: Die Universitätsbibliothek ist mein Lieblingsort zum Lernen., French: La bibliothèque universitaire est mon endroit préféré pour étudier.\n",
      "5: German: Mein Professor ist sehr nett und hilft mir bei allen Fragen., French: Mon professeur est très gentil et m'aide à toutes les questions.\n",
      "6: German: Ich bin froh, dass ich solche netten Kollegen im Büro habe., French: Je suis heureux d'avoir de tels collègues agréables au bureau.\n",
      "7: German: Unsere Gruppe von Freunden trifft sich jeden Wochenende., French: Notre groupe d'amis se réunit chaque week-end.\n",
      "8: German: Das Office-Team organisiert regelmäßig Teambuilding-Aktivitäten., French: L'équipe du bureau organise régulièrement des activités de construction d'équipes.\n",
      "9: German: Meine Freundin hat mich dazu ermutigt, ein Studium aufzunehmen., French: Ma copine m'a encouragée à entamer des études.\n",
      "10: German: Der Campus unserer Universität ist sehr groß und schön., French: Le campus de notre université est très grand et beau.\n",
      "11: German: Wir haben eine enge Beziehung zu unserem Chef im Büro., French: Nous avons une relation étroite avec notre patron au bureau.\n",
      "12: German: Die Vorlesungen an der Universität sind sehr interessant., French: Les cours à l'université sont très intéressants.\n",
      "13: German: Meine Kommilitonen sind alle sehr freundlich und helfen einander., French: Mes camarades de classe sont tous très aimables et s'entraident.\n",
      "14: German: Unser Büro ist gut ausgestattet und bietet gute Arbeitsbedingungen., French: Notre bureau est bien équipé et offre de bonnes conditions de travail.\n",
      "15: German: Ich liebe es, neue Leute kennenzulernen, insbesondere an der Universität., French: J'adore rencontrer de nouvelles personnes, notamment à l'université.\n",
      "16: German: Die Atmosphäre im Büro ist sehr entspannt und angenehm., French: L'atmosphère du bureau est très détendue et agréable.\n",
      "17: German: Wir feiern immer die Geburtstage unserer Kollegen im Büro., French: Nous célébrons toujours les anniversaires de nos collègues du bureau.\n",
      "18: German: Die Bibliothek bietet Zugang zu vielen wissenschaftlichen Artikeln und Büchern., French: La bibliothèque offre un accès à de nombreux articles scientifiques et livres.\n",
      "19: German: Meine Freunde und ich unterstützen uns gegenseitig in schwierigen Zeiten., French: Mes amis et moi nous soutenons mutuellement en période difficile.\n",
      "20: German: Unser Team im Büro arbeitet sehr effizient und produktiv zusammen., French: Notre équipe du bureau travaille très efficacement et de manière productive ensemble.\n"
     ]
    }
   ],
   "source": [
    "print(syn_data_dict_thema1[0])  # first value of dict\n"
   ]
  },
  {
   "cell_type": "code",
   "execution_count": null,
   "metadata": {},
   "outputs": [],
   "source": [
    "def generate_df_from_dict(translation_dict, end_number):\n",
    "    \"\"\"\n",
    "    Takes a dict of the form {iteration: translation pair of sentences upto n numbers(end_number)}\n",
    "    \n",
    "    returns a dataframe of sentences with 2 columns 'German' and 'French' (corresponding translations in French)\n",
    "\n",
    "    Args:\n",
    "        translation_dict (_type_): dict\n",
    "        end_number (_type_): number of translation pairs in each value of the dict.\n",
    "\n",
    "    Returns:\n",
    "        _type_: pandas dataframe\n",
    "    \"\"\"\n",
    "    german_sentences = []\n",
    "    french_sentences = []\n",
    "\n",
    "    # Iterate through each value in the dictionary\n",
    "    for value in translation_dict.values():\n",
    "        # Split by newlines to get individual translation pairs\n",
    "        translation_pairs = value.split('\\n')\n",
    "        \n",
    "        for pair in translation_pairs:\n",
    "            if not pair.strip() or '{end_number}' in pair:\n",
    "                continue\n",
    "            \n",
    "            # Extract the German and French parts\n",
    "            try:\n",
    "                # Split at \", French: \" to isolate the German and French sentences\n",
    "                german_part, french_part = pair.split(\", French: \")\n",
    "                \n",
    "                # Remove the prefix before \"German: \" and strip any excess whitespace\n",
    "                german_sentence = german_part.split(\"German: \")[1].strip()\n",
    "                french_sentence = french_part.strip()\n",
    "                \n",
    "                # Append to the lists\n",
    "                german_sentences.append(german_sentence)\n",
    "                french_sentences.append(french_sentence)\n",
    "            \n",
    "            except ValueError:\n",
    "                print(f\"Skipping malformed entry: {pair}\")\n",
    "\n",
    "    # Create a DataFrame from the lists\n",
    "    df = pd.DataFrame({\n",
    "        \"German\": german_sentences,\n",
    "        \"French\": french_sentences\n",
    "    })\n",
    "    \n",
    "    return df\n",
    "        "
   ]
  },
  {
   "cell_type": "code",
   "execution_count": 54,
   "metadata": {},
   "outputs": [
    {
     "name": "stdout",
     "output_type": "stream",
     "text": [
      "Skipping malformed entry: 13: German: Ich habe mein Studium an der Universität erfolgreich abgeschlossen., French : J'ai terminé avec succès mes études à l'université.\n",
      "Skipping malformed entry: 16: German: Ich bin dankbar für meine Freundschaften und die Erfahrungen, die ich gemacht habe., French : Je suis reconnaissant pour mes amitiés et les expériences que j'ai vécues.\n"
     ]
    }
   ],
   "source": [
    "syn_data_df_thema1 = generate_df_from_dict(translation_dict= syn_data_dict_thema1, end_number=20)"
   ]
  },
  {
   "cell_type": "code",
   "execution_count": 57,
   "metadata": {},
   "outputs": [],
   "source": [
    "def print_df_stats(df):\n",
    "    print('Number of entries (rows, columns):', df.shape)\n",
    "    print('Unique German sentences =',len(set(df['German'])))\n",
    "    print('Unique French sentences =',len(set(df['French'])))\n",
    "\n"
   ]
  },
  {
   "cell_type": "code",
   "execution_count": 58,
   "metadata": {},
   "outputs": [
    {
     "name": "stdout",
     "output_type": "stream",
     "text": [
      "Number of entries (rows, columns): (1998, 2)\n",
      "Unique German sentences = 1281\n",
      "Unique French sentences = 1337\n"
     ]
    }
   ],
   "source": [
    "print_df_stats(syn_data_df_thema1)"
   ]
  },
  {
   "cell_type": "code",
   "execution_count": 59,
   "metadata": {},
   "outputs": [
    {
     "name": "stdout",
     "output_type": "stream",
     "text": [
      "Skipping malformed entry: 1: Ich gehe jeden Tag zum Markt, um frische Lebensmittel zu kaufen., Je vais tous les jours au marché pour acheter des produits frais.\n",
      "Skipping malformed entry: 2: Die neue Regelung wird voraussichtlich im nächsten Monat in Kraft treten., La nouvelle réglementation devrait entrer en vigueur le mois prochain.\n",
      "Skipping malformed entry: 3: Mein Bruder studiert Medizin an der Universität und möchte einmal Arzt werden., Mon frère étudie la médecine à l'université et veut devenir médecin un jour.\n",
      "Skipping malformed entry: 4: Wir haben gestern Abend ein wunderschönes Konzert besucht., Nous avons assisté hier soir à un magnifique concert.\n",
      "Skipping malformed entry: 5: Das Wetter war heute Morgen sehr schön, aber jetzt regnet es., Le temps était très beau ce matin, mais maintenant il pleut.\n",
      "Skipping malformed entry: 6: Meine Schwester liebt es, Bücher über Geschichte zu lesen., Ma sœur adore lire des livres sur l'histoire.\n",
      "Skipping malformed entry: 7: Der Zug ist gerade angekommen und wir können nun aussteigen., Le train est arrivé et nous pouvons maintenant descendre.\n",
      "Skipping malformed entry: 8: Ich habe mich entschieden, nächstes Jahr nach Paris zu reisen., J'ai décidé de voyager à Paris l'année prochaine.\n",
      "Skipping malformed entry: 9: Die Blumen in unserem Garten sind sehr schön und duften gut., Les fleurs dans notre jardin sont très belles et sentent bon.\n",
      "Skipping malformed entry: 10: Mein Vater arbeitet als Ingenieur und entwickelt neue Maschinen., Mon père travaille comme ingénieur et développe de nouvelles machines.\n",
      "Skipping malformed entry: 11: Wir sollten uns beeilen, sonst verpassen wir den Bus., Nous devrions nous dépêcher, sinon nous allons rater le bus.\n",
      "Skipping malformed entry: 12: Die Stadt ist sehr groß und hat viele interessante Sehenswürdigkeiten., La ville est très grande et a beaucoup d'attractions intéressantes.\n",
      "Skipping malformed entry: 13: Ich bin sehr müde und brauche dringend einen Kaffee., Je suis très fatigué et j'ai vraiment besoin d'un café.\n",
      "Skipping malformed entry: 14: Meine Mutter kocht immer sehr leckere Gerichte für unsere Familie., Ma mère cuisine toujours des plats très délicieux pour notre famille.\n",
      "Skipping malformed entry: 15: Der Film, den wir gestern gesehen haben, war sehr spannend und unterhaltsam., Le film que nous avons vu hier était très passionnant et divertissant.\n",
      "Skipping malformed entry: 1: Der Himmel ist heute sehr blau., Le ciel est très bleu aujourd'hui.\n",
      "Skipping malformed entry: 2: Ich esse jeden Tag ein Stück Brot zum Frühstück., Je mange chaque jour une tartine de pain pour le petit déjeuner.\n",
      "Skipping malformed entry: 3: Die Katze schläft den ganzen Tag auf dem Sofa., Le chat dort toute la journée sur le canapé.\n",
      "Skipping malformed entry: 4: Mein Bruder wohnt in einer großen Stadt in Deutschland., Mon frère habite dans une grande ville en Allemagne.\n",
      "Skipping malformed entry: 5: Wir fahren morgen nach Paris für einen Kurzurlaub., Nous partons demain pour Paris pour un court séjour.\n",
      "Skipping malformed entry: 6: Das Wetter war gestern sehr schlecht, es hat viel geregnet., La météo était très mauvaise hier, il a beaucoup plu.\n",
      "Skipping malformed entry: 7: Meine Mutter kocht das beste Essen der Welt., Ma mère cuisine les meilleurs plats du monde.\n",
      "Skipping malformed entry: 8: Ich habe meine Hausaufgaben noch nicht gemacht, ich muss mich beeilen., J'ai encore fait mes devoirs, je dois me faire presser.\n",
      "Skipping malformed entry: 9: Der Film beginnt um 20 Uhr im Kino., Le film commence à 20 heures au cinéma.\n",
      "Skipping malformed entry: 10: Sie hat mir geholfen, mein Auto zu reparieren., Elle m'a aidé à réparer ma voiture.\n",
      "Skipping malformed entry: 11: Wir haben uns gestern Abend sehr gut unterhalten., Nous nous sommes bien améliorés hier soir.\n",
      "Skipping malformed entry: 12: Er liest gerne Bücher über Geschichte und Politik., Il aime lire des livres sur l'histoire et la politique.\n",
      "Skipping malformed entry: 13: Die Blumen sind schön anzusehen, wenn sie blühen., Les fleurs sont belles à voir quand elles s'épanouissent.\n",
      "Skipping malformed entry: 14: Ich bin müde, weil ich die ganze Nacht gearbeitet habe., Je suis fatigué car j'ai travaillé toute la nuit.\n",
      "Skipping malformed entry: 15: Mein Vater spielt Tennis seit vielen Jahren., Mon père joue au tennis depuis de nombreuses années.\n",
      "Skipping malformed entry: Note: Since you asked for only 15 sentences, I stopped at number 15. If you need more, please let me know!\n"
     ]
    }
   ],
   "source": [
    "syn_data_df_general = generate_df_from_dict(translation_dict= syn_data_dict_general, end_number=20)"
   ]
  },
  {
   "cell_type": "code",
   "execution_count": 60,
   "metadata": {},
   "outputs": [
    {
     "name": "stdout",
     "output_type": "stream",
     "text": [
      "Number of entries (rows, columns): (1470, 2)\n",
      "Unique German sentences = 473\n",
      "Unique French sentences = 521\n"
     ]
    }
   ],
   "source": [
    "print_df_stats(syn_data_df_general)"
   ]
  },
  {
   "cell_type": "code",
   "execution_count": 63,
   "metadata": {},
   "outputs": [],
   "source": [
    "syn_data_df_thema1.to_csv('syn_data/syn_thema1.csv',index=False, encoding='utf-8')\n",
    "syn_data_df_general.to_csv('syn_data/syn_general.csv',index=False, encoding='utf-8')\n",
    "combined_df = pd.concat([syn_data_df_thema1, syn_data_df_general], ignore_index=True)\n",
    "combined_df.to_csv('syn_data/combined_data.csv',index=False, encoding='utf-8')\n",
    "\n",
    "##Make sure to set encoding as 'utf-8' so that the German umlauts and french special characters are retained.\n",
    "## make sure to use the same encoding when loading them too."
   ]
  },
  {
   "cell_type": "code",
   "execution_count": 64,
   "metadata": {},
   "outputs": [
    {
     "name": "stdout",
     "output_type": "stream",
     "text": [
      "Number of entries (rows, columns): (3468, 2)\n",
      "Unique German sentences = 1754\n",
      "Unique French sentences = 1858\n"
     ]
    }
   ],
   "source": [
    "print_df_stats(combined_df)"
   ]
  },
  {
   "cell_type": "code",
   "execution_count": 65,
   "metadata": {},
   "outputs": [
    {
     "name": "stderr",
     "output_type": "stream",
     "text": [
      "100%|██████████| 100/100 [34:21<00:00, 20.62s/it]"
     ]
    },
    {
     "name": "stdout",
     "output_type": "stream",
     "text": [
      "Total time taken: 2061.89 seconds\n"
     ]
    },
    {
     "name": "stderr",
     "output_type": "stream",
     "text": [
      "\n"
     ]
    }
   ],
   "source": [
    "prompt_20_2 = f\"\"\"Generate 20 sentences in German and then give its French Translation. The sentences can be long or short.\n",
    "The theme should be Traveling, Sports, Education and entertainment.\n",
    "Follow this format and keep the prefixes German: and French:. Directly give the examples in this format.\n",
    "num_1: German_sentence: , French_sentence:  \n",
    "num_2: German_sentence: , French_sentence: \n",
    "and so on until num_20\"\"\"\n",
    "\n",
    "syn_data_dict_thema2 = get_translation_dict(client=client, model=model,prompt= prompt_20_2, total_requests=100)"
   ]
  },
  {
   "cell_type": "code",
   "execution_count": 66,
   "metadata": {},
   "outputs": [
    {
     "name": "stdout",
     "output_type": "stream",
     "text": [
      "Skipping malformed entry: 16: German: Die Deutsche Bahn ist ein wichtiges Verkehrsmittel in Deutschland., French : La Deutsche Bahn est un moyen de transport important en Allemagne.\n",
      "Skipping malformed entry: 1. **German**: Ich liebe es zu reisen und neue Länder zu erkunden., **French**: J'adore voyager et découvrir de nouveaux pays.\n",
      "Skipping malformed entry: 2. **German**: Der Fußball ist ein sehr beliebter Sport in Deutschland., **French**: Le football est un sport très populaire en Allemagne.\n",
      "Skipping malformed entry: 3. **German**: Die Bildung ist der Schlüssel zum Erfolg in unserem Leben., **French**: L'éducation est la clé du succès dans notre vie.\n",
      "Skipping malformed entry: 4. **German**: Ich bin ein großer Fan von Actionfilmen und sehne mich nach dem nächsten Blockbuster., **French**: Je suis un grand fan de films d'action et j'attends avec impatience le prochain blockbuster.\n",
      "Skipping malformed entry: 5. **German**: Reisen kann sehr teuer sein, aber es lohnt sich immer., **French**: Voyager peut être très coûteux, mais cela vaut toujours la peine.\n",
      "Skipping malformed entry: 6. **German**: Mein Lieblingssport ist Basketball, weil er so schnell und spannend ist., **French**: Mon sport préféré est le basket-ball, car il est si rapide et passionnant.\n",
      "Skipping malformed entry: 7. **German**: Eine gute Ausbildung ist entscheidend für eine erfolgreiche Karriere., **French**: Une bonne éducation est essentielle pour une carrière réussie.\n",
      "Skipping malformed entry: 8. **German**: Ich verbringe gerne meine Freizeit im Kino oder bei einem Konzert., **French**: J'aime passer mon temps libre au cinéma ou à un concert.\n",
      "Skipping malformed entry: 9. **German**: Das Lesen von Büchern über verschiedene Kulturen bereichert mein Wissen., **French**: La lecture de livres sur différentes cultures enrichit mes connaissances.\n",
      "Skipping malformed entry: 10. **German**: Einige Menschen bevorzugen den Individualsport, während andere Mannschaftssport lieber mögen., **French**: Certaines personnes préfèrent les sports individuels, tandis que d'autres aiment mieux les sports d'équipe.\n",
      "Skipping malformed entry: 11. **German**: Die Universität bietet viele Kurse in verschiedenen Fachrichtungen an., **French**: L'université propose de nombreux cours dans différents domaines.\n",
      "Skipping malformed entry: 12. **German**: Wenn ich Urlaub mache, möchte ich immer neue Orte besuchen und die lokale Küche probieren., **French**: Quand je suis en vacances, je veux toujours visiter de nouveaux endroits et goûter la cuisine locale.\n",
      "Skipping malformed entry: 13. **German**: Viele Schüler nutzen ihre Ferien, um zu reisen oder Praktika zu absolvieren., **French**: De nombreux étudiants utilisent leurs vacances pour voyager ou effectuer des stages.\n",
      "Skipping malformed entry: 14. **German**: Der Tanz ist eine großartige Möglichkeit, sich körperlich fit zu halten und gleichzeitig Spaß zu haben., **French**: La danse est un excellent moyen de se maintenir physiquement en forme tout en s'amusant.\n",
      "Skipping malformed entry: 15. **German**: Ich habe letztes Jahr eine Reise rund um die Welt gemacht und war in vielen interessanten Ländern., **French**: J'ai fait un voyage autour du monde l'année dernière et j'ai visité de nombreux pays intéressants.\n",
      "Skipping malformed entry: 16. **German**: Es gibt viele Möglichkeiten, sich fortzubilden, wie z.B. Online-Kurse oder Workshops., **French**: Il existe de nombreuses possibilités de formation continue, comme par exemple des cours en ligne ou des ateliers.\n",
      "Skipping malformed entry: 17. **German**: Ein gutes Buch kann einen auf eine Reise durch die Fantasie mitnehmen., **French**: Un bon livre peut vous emmener dans un voyage à travers la fantaisie.\n",
      "Skipping malformed entry: 18. **German**: Regelmäßiges Training ist wichtig, um im Sport erfolgreich zu sein., **French**: L'entraînement régulier est important pour réussir dans le sport.\n",
      "Skipping malformed entry: 19. **German**: Die Musikindustrie hat sich in den letzten Jahren stark verändert., **French**: L'industrie musicale a changé considérablement ces dernières années.\n",
      "Skipping malformed entry: 20. **German**: Das Fernsehen bietet eine Vielzahl von Sendungen, von Dokumentationen bis hin zu Unterhaltungsshows., **French**: La télévision offre une variété d'émissions, allant des documentaires aux shows de divertissement.\n",
      "Skipping malformed entry: 11: German: Meine Tochter möchte gern Tänzerin werden und nimmt daher Ballettunterricht., French : Ma fille aimerait devenir danseuse et prend donc des cours de ballet.\n"
     ]
    }
   ],
   "source": [
    "syn_data_df_thema2 = generate_df_from_dict(translation_dict= syn_data_dict_thema2, end_number=20)"
   ]
  },
  {
   "cell_type": "code",
   "execution_count": 67,
   "metadata": {},
   "outputs": [
    {
     "name": "stdout",
     "output_type": "stream",
     "text": [
      "Number of entries (rows, columns): (1978, 2)\n",
      "Unique German sentences = 1262\n",
      "Unique French sentences = 1326\n"
     ]
    }
   ],
   "source": [
    "print_df_stats(syn_data_df_thema2)"
   ]
  },
  {
   "cell_type": "code",
   "execution_count": 68,
   "metadata": {},
   "outputs": [],
   "source": [
    "syn_data_df_thema2.to_csv('syn_data/syn_thema2.csv',index=False, encoding='utf-8')\n",
    "\n",
    "combined_df_2 = pd.concat([combined_df, syn_data_df_thema2], ignore_index=True)\n",
    "combined_df_2.to_csv('syn_data/combined_data_2.csv',index=False, encoding='utf-8')"
   ]
  },
  {
   "cell_type": "code",
   "execution_count": 69,
   "metadata": {},
   "outputs": [
    {
     "name": "stdout",
     "output_type": "stream",
     "text": [
      "Number of entries (rows, columns): (5446, 2)\n",
      "Unique German sentences = 3015\n",
      "Unique French sentences = 3183\n"
     ]
    }
   ],
   "source": [
    "print_df_stats(combined_df_2)"
   ]
  },
  {
   "cell_type": "markdown",
   "metadata": {},
   "source": [
    "#### Now, we have around 3000 Unique translations. So, we can stop here. \n",
    "We will drop the duplicates from 'German' column and save the df. Later, when loading the df, we can select random 2000 examples. "
   ]
  },
  {
   "cell_type": "code",
   "execution_count": 74,
   "metadata": {},
   "outputs": [
    {
     "data": {
      "application/vnd.microsoft.datawrangler.viewer.v0+json": {
       "columns": [
        {
         "name": "index",
         "rawType": "int64",
         "type": "integer"
        },
        {
         "name": "German",
         "rawType": "object",
         "type": "string"
        },
        {
         "name": "French",
         "rawType": "object",
         "type": "string"
        }
       ],
       "conversionMethod": "pd.DataFrame",
       "ref": "44c89f04-65ca-4a88-bf4c-482bba18ecc6",
       "rows": [
        [
         "0",
         "Ich studiere an der Universität und habe viele Freunde dort.",
         "J'étudie à l'université et j'ai beaucoup d'amis là-bas."
        ],
        [
         "1",
         "Meine beste Freundin arbeitet im Büro nebenan.",
         "Ma meilleure amie travaille dans le bureau à côté."
        ],
        [
         "2",
         "Wir verbringen unsere freie Zeit oft zusammen mit unseren Kollegen aus dem Büro.",
         "Nous passons souvent notre temps libre ensemble avec nos collègues du bureau."
        ],
        [
         "3",
         "Die Universitätsbibliothek ist mein Lieblingsort zum Lernen.",
         "La bibliothèque universitaire est mon endroit préféré pour étudier."
        ],
        [
         "4",
         "Mein Professor ist sehr nett und hilft mir bei allen Fragen.",
         "Mon professeur est très gentil et m'aide à toutes les questions."
        ]
       ],
       "shape": {
        "columns": 2,
        "rows": 5
       }
      },
      "text/html": [
       "<div>\n",
       "<style scoped>\n",
       "    .dataframe tbody tr th:only-of-type {\n",
       "        vertical-align: middle;\n",
       "    }\n",
       "\n",
       "    .dataframe tbody tr th {\n",
       "        vertical-align: top;\n",
       "    }\n",
       "\n",
       "    .dataframe thead th {\n",
       "        text-align: right;\n",
       "    }\n",
       "</style>\n",
       "<table border=\"1\" class=\"dataframe\">\n",
       "  <thead>\n",
       "    <tr style=\"text-align: right;\">\n",
       "      <th></th>\n",
       "      <th>German</th>\n",
       "      <th>French</th>\n",
       "    </tr>\n",
       "  </thead>\n",
       "  <tbody>\n",
       "    <tr>\n",
       "      <th>0</th>\n",
       "      <td>Ich studiere an der Universität und habe viele...</td>\n",
       "      <td>J'étudie à l'université et j'ai beaucoup d'ami...</td>\n",
       "    </tr>\n",
       "    <tr>\n",
       "      <th>1</th>\n",
       "      <td>Meine beste Freundin arbeitet im Büro nebenan.</td>\n",
       "      <td>Ma meilleure amie travaille dans le bureau à c...</td>\n",
       "    </tr>\n",
       "    <tr>\n",
       "      <th>2</th>\n",
       "      <td>Wir verbringen unsere freie Zeit oft zusammen ...</td>\n",
       "      <td>Nous passons souvent notre temps libre ensembl...</td>\n",
       "    </tr>\n",
       "    <tr>\n",
       "      <th>3</th>\n",
       "      <td>Die Universitätsbibliothek ist mein Lieblingso...</td>\n",
       "      <td>La bibliothèque universitaire est mon endroit ...</td>\n",
       "    </tr>\n",
       "    <tr>\n",
       "      <th>4</th>\n",
       "      <td>Mein Professor ist sehr nett und hilft mir bei...</td>\n",
       "      <td>Mon professeur est très gentil et m'aide à tou...</td>\n",
       "    </tr>\n",
       "  </tbody>\n",
       "</table>\n",
       "</div>"
      ],
      "text/plain": [
       "                                              German  \\\n",
       "0  Ich studiere an der Universität und habe viele...   \n",
       "1     Meine beste Freundin arbeitet im Büro nebenan.   \n",
       "2  Wir verbringen unsere freie Zeit oft zusammen ...   \n",
       "3  Die Universitätsbibliothek ist mein Lieblingso...   \n",
       "4  Mein Professor ist sehr nett und hilft mir bei...   \n",
       "\n",
       "                                              French  \n",
       "0  J'étudie à l'université et j'ai beaucoup d'ami...  \n",
       "1  Ma meilleure amie travaille dans le bureau à c...  \n",
       "2  Nous passons souvent notre temps libre ensembl...  \n",
       "3  La bibliothèque universitaire est mon endroit ...  \n",
       "4  Mon professeur est très gentil et m'aide à tou...  "
      ]
     },
     "execution_count": 74,
     "metadata": {},
     "output_type": "execute_result"
    }
   ],
   "source": [
    "combined_df_cleaned = combined_df_2.drop_duplicates(subset='German')\n",
    "combined_df_cleaned.head()\n"
   ]
  },
  {
   "cell_type": "code",
   "execution_count": 76,
   "metadata": {},
   "outputs": [],
   "source": [
    "combined_df_cleaned.to_csv('syn_data/syn_data_3000.csv',index=False, encoding='utf-8')"
   ]
  },
  {
   "cell_type": "markdown",
   "metadata": {},
   "source": [
    "The random selection of 2000 pairs is done in next step."
   ]
  }
 ],
 "metadata": {
  "kernelspec": {
   "display_name": "llm_asg",
   "language": "python",
   "name": "python3"
  },
  "language_info": {
   "codemirror_mode": {
    "name": "ipython",
    "version": 3
   },
   "file_extension": ".py",
   "mimetype": "text/x-python",
   "name": "python",
   "nbconvert_exporter": "python",
   "pygments_lexer": "ipython3",
   "version": "3.13.2"
  }
 },
 "nbformat": 4,
 "nbformat_minor": 2
}
